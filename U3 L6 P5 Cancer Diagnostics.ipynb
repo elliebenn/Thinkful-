{
 "cells": [
  {
   "cell_type": "code",
   "execution_count": 1,
   "metadata": {},
   "outputs": [
    {
     "name": "stderr",
     "output_type": "stream",
     "text": [
      "/anaconda3/lib/python3.6/site-packages/sklearn/cross_validation.py:41: DeprecationWarning: This module was deprecated in version 0.18 in favor of the model_selection module into which all the refactored classes and functions are moved. Also note that the interface of the new CV iterators are different from that of this module. This module will be removed in 0.20.\n",
      "  \"This module will be removed in 0.20.\", DeprecationWarning)\n"
     ]
    }
   ],
   "source": [
    "import numpy as np\n",
    "import pandas as pd\n",
    "import matplotlib.pyplot as plt\n",
    "import seaborn as sns\n",
    "import sklearn\n",
    "import statsmodels.formula.api as smf\n",
    "\n",
    "from sklearn import ensemble, neighbors\n",
    "from sklearn.model_selection import GridSearchCV\n",
    "from sklearn.cross_validation import train_test_split\n",
    "from sklearn.model_selection import cross_val_score\n",
    "from sklearn.model_selection import train_test_split\n",
    "from sklearn.model_selection import GridSearchCV\n",
    "from sklearn import svm\n",
    "\n",
    "\n",
    "import warnings\n",
    "warnings.filterwarnings('ignore')\n",
    "sns.set_style('darkgrid')\n",
    "plt.rcParams['figure.figsize'] = (20.0, 20.0)\n",
    "plt.rcParams.update({'font.size': 25})\n",
    "%matplotlib inline"
   ]
  },
  {
   "cell_type": "markdown",
   "metadata": {},
   "source": [
    "# Background \n",
    "\n",
    "Create a model to predict breast cancer. Also, what traits are most indicative of whether or not an individual will be diagnosed? The dataset can be found here:http://archive.ics.uci.edu/ml/datasets/Breast+Cancer+Wisconsin+%28Original%29\n",
    "\n",
    "Given the data presented, I will use various classification models to see which models can most accurately predict breast cancer (using Class as the indicator) given the other nine factors."
   ]
  },
  {
   "cell_type": "markdown",
   "metadata": {},
   "source": [
    "## Attribute Information:\n",
    "\n",
    "1. Sample code number: id number \n",
    "2. Clump Thickness: 1 - 10 \n",
    "3. Uniformity of Cell Size: 1 - 10 \n",
    "4. Uniformity of Cell Shape: 1 - 10 \n",
    "5. Marginal Adhesion: 1 - 10 \n",
    "6. Single Epithelial Cell Size: 1 - 10 \n",
    "7. Bare Nuclei: 1 - 10 \n",
    "8. Bland Chromatin: 1 - 10 \n",
    "9. Normal Nucleoli: 1 - 10 \n",
    "10. Mitoses: 1 - 10 \n",
    "11. Class: (2 for benign, 4 for malignant)"
   ]
  },
  {
   "cell_type": "code",
   "execution_count": 2,
   "metadata": {},
   "outputs": [],
   "source": [
    "cancer_data = pd.read_csv('breast-cancer-wisconsin.csv')"
   ]
  },
  {
   "cell_type": "code",
   "execution_count": 3,
   "metadata": {},
   "outputs": [
    {
     "data": {
      "text/html": [
       "<div>\n",
       "<style scoped>\n",
       "    .dataframe tbody tr th:only-of-type {\n",
       "        vertical-align: middle;\n",
       "    }\n",
       "\n",
       "    .dataframe tbody tr th {\n",
       "        vertical-align: top;\n",
       "    }\n",
       "\n",
       "    .dataframe thead th {\n",
       "        text-align: right;\n",
       "    }\n",
       "</style>\n",
       "<table border=\"1\" class=\"dataframe\">\n",
       "  <thead>\n",
       "    <tr style=\"text-align: right;\">\n",
       "      <th></th>\n",
       "      <th>ID_Number</th>\n",
       "      <th>Clump_Thickness</th>\n",
       "      <th>Uniformity_Cell_Size</th>\n",
       "      <th>Uniformity_Cell_Shape</th>\n",
       "      <th>Marginal_Adhesion</th>\n",
       "      <th>Single_Epithelial_Cell_Size</th>\n",
       "      <th>Bare_Nuclei</th>\n",
       "      <th>Bland_Chromatin</th>\n",
       "      <th>Normal_Nucleoli</th>\n",
       "      <th>Mitoses</th>\n",
       "      <th>Class</th>\n",
       "    </tr>\n",
       "  </thead>\n",
       "  <tbody>\n",
       "    <tr>\n",
       "      <th>0</th>\n",
       "      <td>1000025</td>\n",
       "      <td>5</td>\n",
       "      <td>1</td>\n",
       "      <td>1</td>\n",
       "      <td>1</td>\n",
       "      <td>2</td>\n",
       "      <td>1</td>\n",
       "      <td>3</td>\n",
       "      <td>1</td>\n",
       "      <td>1</td>\n",
       "      <td>2</td>\n",
       "    </tr>\n",
       "    <tr>\n",
       "      <th>1</th>\n",
       "      <td>1002945</td>\n",
       "      <td>5</td>\n",
       "      <td>4</td>\n",
       "      <td>4</td>\n",
       "      <td>5</td>\n",
       "      <td>7</td>\n",
       "      <td>10</td>\n",
       "      <td>3</td>\n",
       "      <td>2</td>\n",
       "      <td>1</td>\n",
       "      <td>2</td>\n",
       "    </tr>\n",
       "    <tr>\n",
       "      <th>2</th>\n",
       "      <td>1015425</td>\n",
       "      <td>3</td>\n",
       "      <td>1</td>\n",
       "      <td>1</td>\n",
       "      <td>1</td>\n",
       "      <td>2</td>\n",
       "      <td>2</td>\n",
       "      <td>3</td>\n",
       "      <td>1</td>\n",
       "      <td>1</td>\n",
       "      <td>2</td>\n",
       "    </tr>\n",
       "    <tr>\n",
       "      <th>3</th>\n",
       "      <td>1016277</td>\n",
       "      <td>6</td>\n",
       "      <td>8</td>\n",
       "      <td>8</td>\n",
       "      <td>1</td>\n",
       "      <td>3</td>\n",
       "      <td>4</td>\n",
       "      <td>3</td>\n",
       "      <td>7</td>\n",
       "      <td>1</td>\n",
       "      <td>2</td>\n",
       "    </tr>\n",
       "    <tr>\n",
       "      <th>4</th>\n",
       "      <td>1017023</td>\n",
       "      <td>4</td>\n",
       "      <td>1</td>\n",
       "      <td>1</td>\n",
       "      <td>3</td>\n",
       "      <td>2</td>\n",
       "      <td>1</td>\n",
       "      <td>3</td>\n",
       "      <td>1</td>\n",
       "      <td>1</td>\n",
       "      <td>2</td>\n",
       "    </tr>\n",
       "  </tbody>\n",
       "</table>\n",
       "</div>"
      ],
      "text/plain": [
       "   ID_Number  Clump_Thickness  Uniformity_Cell_Size  Uniformity_Cell_Shape  \\\n",
       "0    1000025                5                     1                      1   \n",
       "1    1002945                5                     4                      4   \n",
       "2    1015425                3                     1                      1   \n",
       "3    1016277                6                     8                      8   \n",
       "4    1017023                4                     1                      1   \n",
       "\n",
       "   Marginal_Adhesion  Single_Epithelial_Cell_Size Bare_Nuclei  \\\n",
       "0                  1                            2           1   \n",
       "1                  5                            7          10   \n",
       "2                  1                            2           2   \n",
       "3                  1                            3           4   \n",
       "4                  3                            2           1   \n",
       "\n",
       "   Bland_Chromatin  Normal_Nucleoli  Mitoses  Class  \n",
       "0                3                1        1      2  \n",
       "1                3                2        1      2  \n",
       "2                3                1        1      2  \n",
       "3                3                7        1      2  \n",
       "4                3                1        1      2  "
      ]
     },
     "execution_count": 3,
     "metadata": {},
     "output_type": "execute_result"
    }
   ],
   "source": [
    "cancer_data.head()"
   ]
  },
  {
   "cell_type": "code",
   "execution_count": 3,
   "metadata": {},
   "outputs": [
    {
     "data": {
      "text/plain": [
       "array(['1', '10', '2', '4', '3', '9', '7', '?', '5', '8', '6'],\n",
       "      dtype=object)"
      ]
     },
     "execution_count": 3,
     "metadata": {},
     "output_type": "execute_result"
    }
   ],
   "source": [
    "cancer_data['Bare_Nuclei'].unique()"
   ]
  },
  {
   "cell_type": "code",
   "execution_count": 4,
   "metadata": {},
   "outputs": [],
   "source": [
    "# There were random question marks in the data set earlier. \n",
    "cancer_data = cancer_data.replace({'?':np.nan}).dropna()"
   ]
  },
  {
   "cell_type": "code",
   "execution_count": 6,
   "metadata": {},
   "outputs": [
    {
     "data": {
      "text/html": [
       "<div>\n",
       "<style scoped>\n",
       "    .dataframe tbody tr th:only-of-type {\n",
       "        vertical-align: middle;\n",
       "    }\n",
       "\n",
       "    .dataframe tbody tr th {\n",
       "        vertical-align: top;\n",
       "    }\n",
       "\n",
       "    .dataframe thead th {\n",
       "        text-align: right;\n",
       "    }\n",
       "</style>\n",
       "<table border=\"1\" class=\"dataframe\">\n",
       "  <thead>\n",
       "    <tr style=\"text-align: right;\">\n",
       "      <th></th>\n",
       "      <th>ID_Number</th>\n",
       "      <th>Clump_Thickness</th>\n",
       "      <th>Uniformity_Cell_Size</th>\n",
       "      <th>Uniformity_Cell_Shape</th>\n",
       "      <th>Marginal_Adhesion</th>\n",
       "      <th>Single_Epithelial_Cell_Size</th>\n",
       "      <th>Bland_Chromatin</th>\n",
       "      <th>Normal_Nucleoli</th>\n",
       "      <th>Mitoses</th>\n",
       "      <th>Class</th>\n",
       "    </tr>\n",
       "  </thead>\n",
       "  <tbody>\n",
       "    <tr>\n",
       "      <th>count</th>\n",
       "      <td>6.830000e+02</td>\n",
       "      <td>683.000000</td>\n",
       "      <td>683.000000</td>\n",
       "      <td>683.000000</td>\n",
       "      <td>683.000000</td>\n",
       "      <td>683.000000</td>\n",
       "      <td>683.000000</td>\n",
       "      <td>683.000000</td>\n",
       "      <td>683.000000</td>\n",
       "      <td>683.000000</td>\n",
       "    </tr>\n",
       "    <tr>\n",
       "      <th>mean</th>\n",
       "      <td>1.076720e+06</td>\n",
       "      <td>4.442167</td>\n",
       "      <td>3.150805</td>\n",
       "      <td>3.215227</td>\n",
       "      <td>2.830161</td>\n",
       "      <td>3.234261</td>\n",
       "      <td>3.445095</td>\n",
       "      <td>2.869693</td>\n",
       "      <td>1.603221</td>\n",
       "      <td>2.699854</td>\n",
       "    </tr>\n",
       "    <tr>\n",
       "      <th>std</th>\n",
       "      <td>6.206440e+05</td>\n",
       "      <td>2.820761</td>\n",
       "      <td>3.065145</td>\n",
       "      <td>2.988581</td>\n",
       "      <td>2.864562</td>\n",
       "      <td>2.223085</td>\n",
       "      <td>2.449697</td>\n",
       "      <td>3.052666</td>\n",
       "      <td>1.732674</td>\n",
       "      <td>0.954592</td>\n",
       "    </tr>\n",
       "    <tr>\n",
       "      <th>min</th>\n",
       "      <td>6.337500e+04</td>\n",
       "      <td>1.000000</td>\n",
       "      <td>1.000000</td>\n",
       "      <td>1.000000</td>\n",
       "      <td>1.000000</td>\n",
       "      <td>1.000000</td>\n",
       "      <td>1.000000</td>\n",
       "      <td>1.000000</td>\n",
       "      <td>1.000000</td>\n",
       "      <td>2.000000</td>\n",
       "    </tr>\n",
       "    <tr>\n",
       "      <th>25%</th>\n",
       "      <td>8.776170e+05</td>\n",
       "      <td>2.000000</td>\n",
       "      <td>1.000000</td>\n",
       "      <td>1.000000</td>\n",
       "      <td>1.000000</td>\n",
       "      <td>2.000000</td>\n",
       "      <td>2.000000</td>\n",
       "      <td>1.000000</td>\n",
       "      <td>1.000000</td>\n",
       "      <td>2.000000</td>\n",
       "    </tr>\n",
       "    <tr>\n",
       "      <th>50%</th>\n",
       "      <td>1.171795e+06</td>\n",
       "      <td>4.000000</td>\n",
       "      <td>1.000000</td>\n",
       "      <td>1.000000</td>\n",
       "      <td>1.000000</td>\n",
       "      <td>2.000000</td>\n",
       "      <td>3.000000</td>\n",
       "      <td>1.000000</td>\n",
       "      <td>1.000000</td>\n",
       "      <td>2.000000</td>\n",
       "    </tr>\n",
       "    <tr>\n",
       "      <th>75%</th>\n",
       "      <td>1.238705e+06</td>\n",
       "      <td>6.000000</td>\n",
       "      <td>5.000000</td>\n",
       "      <td>5.000000</td>\n",
       "      <td>4.000000</td>\n",
       "      <td>4.000000</td>\n",
       "      <td>5.000000</td>\n",
       "      <td>4.000000</td>\n",
       "      <td>1.000000</td>\n",
       "      <td>4.000000</td>\n",
       "    </tr>\n",
       "    <tr>\n",
       "      <th>max</th>\n",
       "      <td>1.345435e+07</td>\n",
       "      <td>10.000000</td>\n",
       "      <td>10.000000</td>\n",
       "      <td>10.000000</td>\n",
       "      <td>10.000000</td>\n",
       "      <td>10.000000</td>\n",
       "      <td>10.000000</td>\n",
       "      <td>10.000000</td>\n",
       "      <td>10.000000</td>\n",
       "      <td>4.000000</td>\n",
       "    </tr>\n",
       "  </tbody>\n",
       "</table>\n",
       "</div>"
      ],
      "text/plain": [
       "          ID_Number  Clump_Thickness  Uniformity_Cell_Size  \\\n",
       "count  6.830000e+02       683.000000            683.000000   \n",
       "mean   1.076720e+06         4.442167              3.150805   \n",
       "std    6.206440e+05         2.820761              3.065145   \n",
       "min    6.337500e+04         1.000000              1.000000   \n",
       "25%    8.776170e+05         2.000000              1.000000   \n",
       "50%    1.171795e+06         4.000000              1.000000   \n",
       "75%    1.238705e+06         6.000000              5.000000   \n",
       "max    1.345435e+07        10.000000             10.000000   \n",
       "\n",
       "       Uniformity_Cell_Shape  Marginal_Adhesion  Single_Epithelial_Cell_Size  \\\n",
       "count             683.000000         683.000000                   683.000000   \n",
       "mean                3.215227           2.830161                     3.234261   \n",
       "std                 2.988581           2.864562                     2.223085   \n",
       "min                 1.000000           1.000000                     1.000000   \n",
       "25%                 1.000000           1.000000                     2.000000   \n",
       "50%                 1.000000           1.000000                     2.000000   \n",
       "75%                 5.000000           4.000000                     4.000000   \n",
       "max                10.000000          10.000000                    10.000000   \n",
       "\n",
       "       Bland_Chromatin  Normal_Nucleoli     Mitoses       Class  \n",
       "count       683.000000       683.000000  683.000000  683.000000  \n",
       "mean          3.445095         2.869693    1.603221    2.699854  \n",
       "std           2.449697         3.052666    1.732674    0.954592  \n",
       "min           1.000000         1.000000    1.000000    2.000000  \n",
       "25%           2.000000         1.000000    1.000000    2.000000  \n",
       "50%           3.000000         1.000000    1.000000    2.000000  \n",
       "75%           5.000000         4.000000    1.000000    4.000000  \n",
       "max          10.000000        10.000000   10.000000    4.000000  "
      ]
     },
     "execution_count": 6,
     "metadata": {},
     "output_type": "execute_result"
    }
   ],
   "source": [
    "cancer_data.describe()"
   ]
  },
  {
   "cell_type": "code",
   "execution_count": 5,
   "metadata": {},
   "outputs": [],
   "source": [
    "# Doesn't really matter, but turn class into cat. variable\n",
    "# where malignant is 1 and benign is 0.\n",
    "cancer_data['Class'] = cancer_data['Class'].map(lambda x: 1 if x==4 else 0)"
   ]
  },
  {
   "cell_type": "code",
   "execution_count": 6,
   "metadata": {},
   "outputs": [
    {
     "data": {
      "text/plain": [
       "0    444\n",
       "1    239\n",
       "Name: Class, dtype: int64"
      ]
     },
     "execution_count": 6,
     "metadata": {},
     "output_type": "execute_result"
    }
   ],
   "source": [
    "# Check if we have an even distribution of cancer and non cancer\n",
    "cancer_data['Class'].value_counts()"
   ]
  },
  {
   "cell_type": "code",
   "execution_count": 7,
   "metadata": {},
   "outputs": [
    {
     "data": {
      "text/plain": [
       "1    444\n",
       "0    444\n",
       "Name: Class, dtype: int64"
      ]
     },
     "execution_count": 7,
     "metadata": {},
     "output_type": "execute_result"
    }
   ],
   "source": [
    "from sklearn.utils import resample\n",
    "# Lets upsample since the dataset is so small.\n",
    "# So have more malignant samples.\n",
    "cd_majority = cancer_data[cancer_data.Class==0]\n",
    "cd_minority = cancer_data[cancer_data.Class==1]\n",
    "\n",
    "# Upsample minority class\n",
    "cd_minority_upsampled = resample(cd_minority, \n",
    "                                 replace=True,     # sample with replacement\n",
    "                                 n_samples=444)    # to match majority class\n",
    "\n",
    " \n",
    "# Combine majority class with upsampled minority class\n",
    "cd_upsampled = pd.concat([cd_majority, cd_minority_upsampled])\n",
    " \n",
    "# Display new class counts\n",
    "cd_upsampled.Class.value_counts()"
   ]
  },
  {
   "cell_type": "markdown",
   "metadata": {},
   "source": [
    "# Answering the first question: What traits are most indicated that a person will be diagnosed?"
   ]
  },
  {
   "cell_type": "code",
   "execution_count": 8,
   "metadata": {},
   "outputs": [
    {
     "name": "stdout",
     "output_type": "stream",
     "text": [
      "                             Best Features\n",
      "ID_Number                         9.222399\n",
      "Clump_Thickness                 953.458957\n",
      "Uniformity_Cell_Size           1615.570226\n",
      "Uniformity_Cell_Shape          1553.209030\n",
      "Marginal_Adhesion               787.317888\n",
      "Single_Epithelial_Cell_Size     731.247236\n",
      "Bare_Nuclei                    1462.242822\n",
      "Bland_Chromatin                1160.351941\n",
      "Normal_Nucleoli                 801.405022\n",
      "Mitoses                         161.898357\n"
     ]
    }
   ],
   "source": [
    "# Try to figure out what are the most important features first. \n",
    "from sklearn import feature_selection\n",
    "from sklearn.feature_selection import SelectKBest\n",
    "\n",
    "# Set my variables.\n",
    "skb_X = cd_upsampled.drop('Class', 1)\n",
    "skb_y = cd_upsampled['Class']\n",
    "\n",
    "# fit SelectKBest\n",
    "skb_cancer = SelectKBest().fit(skb_X,skb_y)\n",
    "\n",
    "# Identify features with highest score from a predictive perspective (for all programs) \n",
    "names = skb_X.columns\n",
    "best_features = pd.DataFrame(skb_cancer.scores_, index = names) \n",
    "best_features.columns = ['Best Features'] \n",
    "best_features.sort_values(by=['Best Features'], ascending=True)\n",
    "\n",
    "# Take a look at what the best features are.\n",
    "print(best_features)"
   ]
  },
  {
   "cell_type": "markdown",
   "metadata": {},
   "source": [
    "## The top 5 traits are:\n",
    "\n",
    "1. Uniformity of Cell Size \n",
    "2. Uniformity of Cell Shape\n",
    "3. Bare Nuclei\n",
    "4. Bland Chromatin\n",
    "5. Clump Thickness\n",
    "\n"
   ]
  },
  {
   "cell_type": "markdown",
   "metadata": {},
   "source": [
    "# Model 1: Naive Bayes"
   ]
  },
  {
   "cell_type": "code",
   "execution_count": 9,
   "metadata": {},
   "outputs": [],
   "source": [
    "# Set up variables\n",
    "X = cd_upsampled.drop('Class', 1)\n",
    "y = cd_upsampled.Class\n",
    "# Create training and testing set\n",
    "X_train, X_test, y_train, y_test = train_test_split(X, y, test_size=0.3)"
   ]
  },
  {
   "cell_type": "code",
   "execution_count": 10,
   "metadata": {},
   "outputs": [
    {
     "name": "stdout",
     "output_type": "stream",
     "text": [
      "94.3820224719101%\n"
     ]
    }
   ],
   "source": [
    "# Our data is binary / boolean, so we're importing the Bernoulli classifier.\n",
    "from sklearn.naive_bayes import MultinomialNB\n",
    "\n",
    "# Instantiate our model and store it in a new variable.\n",
    "mnb = MultinomialNB()\n",
    "\n",
    "\n",
    "# Fit our model to the data.\n",
    "mnb.fit(X_train, y_train)\n",
    "\n",
    "# Classify, storing the result in a new variable.\n",
    "y_pred_train = mnb.predict(X_test)\n",
    "\n",
    "# Display our results.\n",
    "print(str(100*mnb.fit(X_train, y_train).score(X_test, y_test)) + '%')"
   ]
  },
  {
   "cell_type": "code",
   "execution_count": 11,
   "metadata": {},
   "outputs": [
    {
     "data": {
      "text/plain": [
       "array([0.95238095, 0.92063492, 0.9516129 , 0.9516129 , 0.93548387,\n",
       "       0.9516129 , 0.91935484, 0.9516129 , 0.9516129 , 0.93442623])"
      ]
     },
     "execution_count": 11,
     "metadata": {},
     "output_type": "execute_result"
    }
   ],
   "source": [
    "# Lets check for overfitting now.\n",
    "from sklearn.model_selection import cross_val_score\n",
    "cross_val_score(mnb, X_train, y_train, cv=10)"
   ]
  },
  {
   "cell_type": "code",
   "execution_count": 12,
   "metadata": {},
   "outputs": [
    {
     "data": {
      "text/plain": [
       "array([[135,   7],\n",
       "       [  8, 117]])"
      ]
     },
     "execution_count": 12,
     "metadata": {},
     "output_type": "execute_result"
    }
   ],
   "source": [
    "# Results are consistent but lets check one last thing\n",
    "from sklearn.metrics import confusion_matrix\n",
    "\n",
    "confusion_matrix(y_test, y_pred_train)"
   ]
  },
  {
   "cell_type": "markdown",
   "metadata": {},
   "source": [
    "# Analysis\n",
    "\n",
    "This model did well due to the fact that multinomialNB looks at integers for feature counts and there weren't many anomalies/outliers in the features dataset which allowed the mNB model to predict accurately. Lastly, upsampling the dataset made sure that I could avoid any false negatives too.  \n"
   ]
  },
  {
   "cell_type": "markdown",
   "metadata": {},
   "source": [
    "# Model 2: KNN \n",
    "\n"
   ]
  },
  {
   "cell_type": "code",
   "execution_count": 15,
   "metadata": {},
   "outputs": [
    {
     "name": "stdout",
     "output_type": "stream",
     "text": [
      "Fitting 5 folds for each of 7 candidates, totalling 35 fits\n",
      "Best parameters:\n",
      "{'n_neighbors': 2}\n",
      "Best Score:\n",
      "0.6634460547504025\n"
     ]
    },
    {
     "name": "stderr",
     "output_type": "stream",
     "text": [
      "[Parallel(n_jobs=-1)]: Done  35 out of  35 | elapsed:    0.1s finished\n"
     ]
    }
   ],
   "source": [
    "from sklearn.neighbors import KNeighborsClassifier\n",
    "\n",
    "# Initialize the model\n",
    "knn = KNeighborsClassifier()\n",
    "\n",
    "# Set parameters for KNN\n",
    "knn_params = [{'n_neighbors': [2,5,7,10,12,15,20]}]\n",
    "\n",
    "# Search for the best paramters. \n",
    "knn_grid = GridSearchCV(knn, knn_params, cv=5, verbose=1, n_jobs=-1)\n",
    "\n",
    "# Fit the grid and obtain results\n",
    "knn_grid.fit(X_train, y_train)\n",
    "\n",
    "# Return best parameters and best score\n",
    "print('Best parameters:')\n",
    "print(knn_grid.best_params_)\n",
    "print('Best Score:')\n",
    "print(knn_grid.best_score_)"
   ]
  },
  {
   "cell_type": "code",
   "execution_count": 31,
   "metadata": {},
   "outputs": [
    {
     "data": {
      "text/plain": [
       "array([0.66666667, 0.74603175, 0.66666667, 0.66666667, 0.68253968,\n",
       "       0.72580645, 0.60655738, 0.67213115, 0.62295082, 0.68852459])"
      ]
     },
     "execution_count": 31,
     "metadata": {},
     "output_type": "execute_result"
    }
   ],
   "source": [
    "# Initialize the model\n",
    "knn = KNeighborsClassifier(n_neighbors=2)\n",
    "\n",
    "# Lets check for overfitting now.\n",
    "from sklearn.model_selection import cross_val_score\n",
    "cross_val_score(knn, X_train, y_train, cv=10)"
   ]
  },
  {
   "cell_type": "markdown",
   "metadata": {},
   "source": [
    "# Analysis\n",
    "\n",
    "This model didn't perform as well which means that when the model was calculating the euclidean distance to find the closest neighbor, the closest neighbors must have been a mix up of the benign and malignant points. It might have increased in accuracy if I had first normalized the data so that the dataset would have had a more accurate representation of the distance. "
   ]
  },
  {
   "cell_type": "markdown",
   "metadata": {},
   "source": [
    "# Model 3: Decision Tree"
   ]
  },
  {
   "cell_type": "code",
   "execution_count": 17,
   "metadata": {},
   "outputs": [
    {
     "name": "stdout",
     "output_type": "stream",
     "text": [
      "Fitting 5 folds for each of 16 candidates, totalling 80 fits\n",
      "Best parameters:\n",
      "{'max_depth': 6, 'max_features': 6}\n",
      "Best Score:\n",
      "0.9694041867954911\n"
     ]
    },
    {
     "name": "stderr",
     "output_type": "stream",
     "text": [
      "[Parallel(n_jobs=-1)]: Done  80 out of  80 | elapsed:    0.1s finished\n"
     ]
    }
   ],
   "source": [
    "from sklearn.tree import DecisionTreeClassifier\n",
    "\n",
    "# Initialize the model\n",
    "dtc = DecisionTreeClassifier()\n",
    "\n",
    "# Set parameters for dtc\n",
    "dtc_params = [{'max_features': [2, 4, 6, 8],\n",
    "             'max_depth': [2, 4, 6, 8]}]\n",
    "\n",
    "# Search for the best paramters. \n",
    "dtc_grid = GridSearchCV(dtc, dtc_params, cv=5, verbose=1, n_jobs=-1)\n",
    "\n",
    "# Fit the grid and obtain results\n",
    "dtc_grid.fit(X_train, y_train)\n",
    "\n",
    "# Return best parameters and best score\n",
    "print('Best parameters:')\n",
    "print(dtc_grid.best_params_)\n",
    "print('Best Score:')\n",
    "print(dtc_grid.best_score_)"
   ]
  },
  {
   "cell_type": "code",
   "execution_count": 32,
   "metadata": {},
   "outputs": [
    {
     "data": {
      "text/plain": [
       "array([0.952     , 0.9516129 , 0.98387097, 0.97580645, 0.9516129 ])"
      ]
     },
     "execution_count": 32,
     "metadata": {},
     "output_type": "execute_result"
    }
   ],
   "source": [
    "# Implement the parameters parameter \n",
    "dtc = DecisionTreeClassifier(max_features=6, max_depth=6)\n",
    "\n",
    "# Cross Validate the decision tree model. \n",
    "cross_val_score(dtc, X_train, y_train, cv=5)"
   ]
  },
  {
   "cell_type": "code",
   "execution_count": 19,
   "metadata": {},
   "outputs": [
    {
     "data": {
      "image/png": "[encoded data removed]",
      "text/plain": [
       "<matplotlib.figure.Figure at 0x1109d2780>"
      ]
     },
     "metadata": {},
     "output_type": "display_data"
    }
   ],
   "source": [
    "# Fit the model\n",
    "dtc.fit(X_train, y_train)\n",
    "\n",
    "# What's important?\n",
    "feature_importance = dtc.feature_importances_\n",
    "\n",
    "# Make importances relative to max importance.\n",
    "feature_importance = 100.0 * (feature_importance / feature_importance.max())\n",
    "sorted_idx = np.argsort(feature_importance)\n",
    "pos = np.arange(sorted_idx.shape[0]) + .5\n",
    "plt.barh(pos, feature_importance[sorted_idx], align='center')\n",
    "plt.yticks(pos, X_train.columns[sorted_idx])\n",
    "plt.xlabel('Relative Importance')\n",
    "plt.title('Variable Importance')\n",
    "plt.show()"
   ]
  },
  {
   "cell_type": "markdown",
   "metadata": {},
   "source": [
    "# Analysis\n",
    "\n",
    "For this model, there were two variables that were different from selectkbest for the most important features. The decision tree may have been overfitted a bit which would explain how its so accurate. It's depth level and features are both 6 which allows it to explain more of the variance of the dataset. "
   ]
  },
  {
   "cell_type": "markdown",
   "metadata": {},
   "source": [
    "# Model 4: Logistic Regression"
   ]
  },
  {
   "cell_type": "code",
   "execution_count": 20,
   "metadata": {},
   "outputs": [
    {
     "name": "stdout",
     "output_type": "stream",
     "text": [
      "Fitting 5 folds for each of 11 candidates, totalling 55 fits\n",
      "Best parameters:\n",
      "{'C': 0.1}\n",
      "Best Score:\n",
      "0.9420289855072463\n"
     ]
    },
    {
     "name": "stderr",
     "output_type": "stream",
     "text": [
      "[Parallel(n_jobs=1)]: Done  55 out of  55 | elapsed:    0.2s finished\n"
     ]
    }
   ],
   "source": [
    "from sklearn.linear_model import LogisticRegression\n",
    "lr = LogisticRegression()\n",
    "\n",
    "# Use GS-CV to see which alpha level is best.\n",
    "parameters = {\n",
    "             'C':[0.00001,0.0001,0.001,0.01,0.1,1,10,100,10000,100000,100000000]}\n",
    "\n",
    "lr_grid = GridSearchCV(lr, parameters, cv=5, verbose=1)\n",
    "\n",
    "#Fit the logistic regression \n",
    "lr_grid.fit(X_train, y_train)\n",
    "\n",
    "#return best parameters and best score\n",
    "print('Best parameters:')\n",
    "print(lr_grid.best_params_)\n",
    "print('Best Score:')\n",
    "print(lr_grid.best_score_)"
   ]
  },
  {
   "cell_type": "code",
   "execution_count": 33,
   "metadata": {},
   "outputs": [
    {
     "data": {
      "text/plain": [
       "array([0.912     , 0.94354839, 0.97580645, 0.94354839, 0.93548387])"
      ]
     },
     "execution_count": 33,
     "metadata": {},
     "output_type": "execute_result"
    }
   ],
   "source": [
    "# Implement parameter \n",
    "lr = LogisticRegression(C=.1)\n",
    "\n",
    "# Cross Validate the lr model. \n",
    "cross_val_score(lr, X_train, y_train, cv=5)"
   ]
  },
  {
   "cell_type": "code",
   "execution_count": 22,
   "metadata": {},
   "outputs": [
    {
     "name": "stdout",
     "output_type": "stream",
     "text": [
      "\n",
      "Coefficients: \n",
      " [[-1.61014175e-06  4.71780701e-02  6.14680680e-02  6.13244066e-02\n",
      "   4.97367189e-02  3.76724607e-02  7.06458817e-02  4.62787344e-02\n",
      "   5.26271063e-02  1.76440713e-02]]\n",
      "\n",
      "Intercept: \n",
      " [0.00050873]\n"
     ]
    }
   ],
   "source": [
    "# Fit the lr\n",
    "lr.fit(X_train, y_train)\n",
    "\n",
    "# Inspect the results.\n",
    "print('\\nCoefficients: \\n', lr.coef_)\n",
    "print('\\nIntercept: \\n', lr.intercept_)"
   ]
  },
  {
   "cell_type": "markdown",
   "metadata": {},
   "source": [
    "# Analysis\n",
    "\n",
    "For this logistic regression, I didn't bother using any regularizations because the dataset wasn't too big that it would overfit the coefficients and there weren't a lot of features to the point where I needed to remove them with the lasso regression. A logistic regression is perfect for a classification objective so I'm not surprised that this did so well. \n",
    "\n",
    "I tried looking for the feature importance by looking ad what the coefficients were but there aren't any distinct differences in the coefficients where I would say that one feature is superior to the other. "
   ]
  },
  {
   "cell_type": "markdown",
   "metadata": {},
   "source": [
    "# Model 5: Support Vector Classifier"
   ]
  },
  {
   "cell_type": "code",
   "execution_count": 23,
   "metadata": {},
   "outputs": [
    {
     "name": "stdout",
     "output_type": "stream",
     "text": [
      "Fitting 5 folds for each of 90 candidates, totalling 450 fits\n"
     ]
    },
    {
     "name": "stderr",
     "output_type": "stream",
     "text": [
      "[Parallel(n_jobs=-1)]: Done 196 tasks      | elapsed:    0.7s\n"
     ]
    },
    {
     "name": "stdout",
     "output_type": "stream",
     "text": [
      "Best parameters:\n",
      "{'C': 10, 'gamma': 0.01}\n",
      "Best Score:\n",
      "0.8421900161030595\n"
     ]
    },
    {
     "name": "stderr",
     "output_type": "stream",
     "text": [
      "[Parallel(n_jobs=-1)]: Done 450 out of 450 | elapsed:    1.4s finished\n"
     ]
    }
   ],
   "source": [
    "from sklearn.svm import SVC\n",
    "\n",
    "svm = SVC()\n",
    "\n",
    "# new parameters for this model\n",
    "svc_params = [{'C': [.00001,.0001,.001,.01,.1,1,\n",
    "                    10,100,1000,10000],\n",
    "              'gamma': [.00001,.0001,.001,.01,.1,1,10,25,100]}]\n",
    "\n",
    "# setting up the grid\n",
    "svc_grid = GridSearchCV(svm, svc_params, cv=5, verbose=1, n_jobs=-1)\n",
    "\n",
    "#Fit the grid\n",
    "svc_grid.fit(X_train, y_train)\n",
    "\n",
    "#return best parameters and best score\n",
    "print('Best parameters:')\n",
    "print(svc_grid.best_params_)\n",
    "print('Best Score:')\n",
    "print(svc_grid.best_score_)"
   ]
  },
  {
   "cell_type": "code",
   "execution_count": 34,
   "metadata": {},
   "outputs": [
    {
     "data": {
      "text/plain": [
       "array([0.848     , 0.83064516, 0.85483871, 0.82258065, 0.85483871])"
      ]
     },
     "execution_count": 34,
     "metadata": {},
     "output_type": "execute_result"
    }
   ],
   "source": [
    "# Implement the parameters parameter \n",
    "svm = SVC(C=10, gamma=.01)\n",
    "\n",
    "# Cross Validate the svc model. \n",
    "cross_val_score(svm, X_train, y_train, cv=5)"
   ]
  },
  {
   "cell_type": "markdown",
   "metadata": {},
   "source": [
    "# Analysis\n",
    "\n",
    "The accuracy for the support vector is a bit lower than the other models and it's probably due to the fact that I didn't normalize the data which threw off the distancing for the datapoints. The reason it needs to be normalized is because it works similar to the knn but it has hyperplanes and accompanying margins to separate the two different datasets. Normalizing it would have created less noise and allow the margins to be bigger making it more accurate (bigger margins allow for a hard margin which allows for less noise.)"
   ]
  },
  {
   "cell_type": "markdown",
   "metadata": {},
   "source": [
    "# Model 6: Gradient Boosting Model "
   ]
  },
  {
   "cell_type": "code",
   "execution_count": 25,
   "metadata": {},
   "outputs": [
    {
     "name": "stdout",
     "output_type": "stream",
     "text": [
      "Fitting 5 folds for each of 15 candidates, totalling 75 fits\n"
     ]
    },
    {
     "name": "stderr",
     "output_type": "stream",
     "text": [
      "[Parallel(n_jobs=-1)]: Done  60 out of  75 | elapsed:    2.5s remaining:    0.6s\n",
      "[Parallel(n_jobs=-1)]: Done  75 out of  75 | elapsed:    3.2s finished\n"
     ]
    },
    {
     "name": "stdout",
     "output_type": "stream",
     "text": [
      "Best parameters:\n",
      "{'max_depth': 4, 'n_estimators': 500}\n",
      "Best Score:\n",
      "0.9838969404186796\n"
     ]
    }
   ],
   "source": [
    "# Set up Gradient boosting parameters.\n",
    "gb_params = [{'n_estimators': [100,200,500,800,1000],\n",
    "             'max_depth': [2,4,6]\n",
    "             }]\n",
    "\n",
    "# Initialize and fit the model.\n",
    "clf = ensemble.GradientBoostingClassifier()\n",
    "\n",
    "# Use the grid\n",
    "gb_grid = GridSearchCV(clf, gb_params, cv=5, verbose=1, n_jobs=-1)\n",
    "\n",
    "# Fit the grid\n",
    "gb_grid.fit(X_train, y_train)\n",
    "\n",
    "# Return best parameters and best score\n",
    "print('Best parameters:')\n",
    "print(gb_grid.best_params_)\n",
    "print('Best Score:')\n",
    "print(gb_grid.best_score_)"
   ]
  },
  {
   "cell_type": "code",
   "execution_count": 35,
   "metadata": {},
   "outputs": [
    {
     "data": {
      "text/plain": [
       "array([0.984     , 0.97580645, 0.98387097, 0.99193548, 0.97580645])"
      ]
     },
     "execution_count": 35,
     "metadata": {},
     "output_type": "execute_result"
    }
   ],
   "source": [
    "# Implement the parameters parameter \n",
    "clf = ensemble.GradientBoostingClassifier(n_estimators=500, \n",
    "                                         max_depth=4, max_features='auto')\n",
    "\n",
    "# Cross Validate the gradient boosting model. \n",
    "cross_val_score(clf, X_train, y_train, cv=5)"
   ]
  },
  {
   "cell_type": "code",
   "execution_count": 27,
   "metadata": {},
   "outputs": [
    {
     "data": {
      "image/png": "[encoded data removed]",
      "text/plain": [
       "<matplotlib.figure.Figure at 0x1164efe48>"
      ]
     },
     "metadata": {},
     "output_type": "display_data"
    }
   ],
   "source": [
    "# Fit the model\n",
    "clf.fit(X_train, y_train)\n",
    "\n",
    "# What's important?\n",
    "feature_importance = clf.feature_importances_\n",
    "\n",
    "# Make importances relative to max importance.\n",
    "feature_importance = 100.0 * (feature_importance / feature_importance.max())\n",
    "sorted_idx = np.argsort(feature_importance)\n",
    "pos = np.arange(sorted_idx.shape[0]) + .5\n",
    "plt.barh(pos, feature_importance[sorted_idx], align='center')\n",
    "plt.yticks(pos, X_train.columns[sorted_idx])\n",
    "plt.xlabel('Relative Importance')\n",
    "plt.title('Variable Importance')\n",
    "plt.show()"
   ]
  },
  {
   "cell_type": "markdown",
   "metadata": {},
   "source": [
    "# Analysis\n",
    "\n",
    "The most important features here were mostly the same except for one important difference, ID_number. This model's accuracy is strong since it runs iteratively the same data adjusting it's fit with the new results. ID number doesn't change so it makes sense that that would become a strong indicator for the model. The results may have been overfitted and I might have to remove ID_number in order to get a true accuracy for this model. "
   ]
  },
  {
   "cell_type": "markdown",
   "metadata": {},
   "source": [
    "# Model 7: Random Forest Classifier"
   ]
  },
  {
   "cell_type": "code",
   "execution_count": 28,
   "metadata": {},
   "outputs": [
    {
     "name": "stdout",
     "output_type": "stream",
     "text": [
      "Fitting 5 folds for each of 128 candidates, totalling 640 fits\n"
     ]
    },
    {
     "name": "stderr",
     "output_type": "stream",
     "text": [
      "[Parallel(n_jobs=-1)]: Done 160 tasks      | elapsed:    7.6s\n",
      "[Parallel(n_jobs=-1)]: Done 398 tasks      | elapsed:   27.4s\n",
      "[Parallel(n_jobs=-1)]: Done 640 out of 640 | elapsed:   47.7s finished\n"
     ]
    },
    {
     "name": "stdout",
     "output_type": "stream",
     "text": [
      "Best Parameter for data: {'max_depth': 8, 'max_features': 2, 'n_estimators': 500}\n",
      "\n",
      "Best Score for data: 0.9838969404186796\n"
     ]
    }
   ],
   "source": [
    "\n",
    "# Prepare to use the random forest and GridSearchcV# Prepar \n",
    "from sklearn import ensemble\n",
    "from sklearn.model_selection import GridSearchCV\n",
    "\n",
    "rfc = ensemble.RandomForestClassifier()\n",
    "\n",
    "\n",
    "# Create rfc parameters for GS-CV\n",
    "param_grid = {'n_estimators': [10, 25, 50, 75, 100, 200, 500, 1000],\n",
    "             'max_features': [2, 4, 6, 8],\n",
    "             'max_depth': [2, 4, 6, 8]}\n",
    "\n",
    "# Set up GS-CV\n",
    "grid = GridSearchCV(rfc, param_grid, cv=5, verbose=1, n_jobs=-1)\n",
    "\n",
    "grid.fit(X_train, y_train)\n",
    "\n",
    "# Show the best parameter and best score for unfiltered\n",
    "print('Best Parameter for data:', grid.best_params_)\n",
    "print('\\nBest Score for data:', grid.best_score_)"
   ]
  },
  {
   "cell_type": "code",
   "execution_count": 36,
   "metadata": {},
   "outputs": [
    {
     "data": {
      "text/plain": [
       "array([0.984     , 0.97580645, 0.98387097, 0.99193548, 0.97580645])"
      ]
     },
     "execution_count": 36,
     "metadata": {},
     "output_type": "execute_result"
    }
   ],
   "source": [
    "# Implement the parameters parameter \n",
    "rfc = ensemble.RandomForestClassifier(n_estimators=500, max_features=2,\n",
    "                                     max_depth=8)\n",
    "\n",
    "# Cross Validate the gradient boosting model. \n",
    "cross_val_score(clf, X_train, y_train, cv=5)"
   ]
  },
  {
   "cell_type": "code",
   "execution_count": 30,
   "metadata": {},
   "outputs": [
    {
     "data": {
      "image/png": "[encoded data removed]",
      "text/plain": [
       "<matplotlib.figure.Figure at 0x1164a9f98>"
      ]
     },
     "metadata": {},
     "output_type": "display_data"
    }
   ],
   "source": [
    "# Fit the model\n",
    "rfc.fit(X_train, y_train)\n",
    "\n",
    "# What's important?\n",
    "feature_importance = rfc.feature_importances_\n",
    "\n",
    "# Make importances relative to max importance.\n",
    "feature_importance = 100.0 * (feature_importance / feature_importance.max())\n",
    "sorted_idx = np.argsort(feature_importance)\n",
    "pos = np.arange(sorted_idx.shape[0]) + .5\n",
    "plt.barh(pos, feature_importance[sorted_idx], align='center')\n",
    "plt.yticks(pos, X_train.columns[sorted_idx])\n",
    "plt.xlabel('Relative Importance')\n",
    "plt.title('Variable Importance')\n",
    "plt.show()"
   ]
  },
  {
   "cell_type": "markdown",
   "metadata": {},
   "source": [
    "# Analysis\n",
    "\n",
    "The random forest model was also impressive. It didn't fall for the same trap as the gradient boosting model. This model's accuracy is probably due to the small data set which is why it didn't need that many estimators to accurately explain all the variance. The depth of 8 was probably what allowed the model to explain the slight variations in people who were diagnosed and probably covers the potential for there being false negatives in this model. "
   ]
  },
  {
   "cell_type": "markdown",
   "metadata": {},
   "source": [
    "# Modeling Data for PCA"
   ]
  },
  {
   "cell_type": "code",
   "execution_count": 8,
   "metadata": {},
   "outputs": [],
   "source": [
    "# Prepare the data first for PCA\n",
    "from sklearn.decomposition import PCA\n",
    "from sklearn.preprocessing import StandardScaler\n",
    "\n",
    "# Instantiate StandardScaler\n",
    "ss = StandardScaler()\n",
    "\n",
    "# Set up the variables.\n",
    "# Set up variables\n",
    "X = cd_upsampled.drop('Class', 1)\n",
    "y = cd_upsampled['Class'].values.reshape(-1, 1)\n",
    "\n",
    "# Standarize the data first \n",
    "ss.fit(X,y)\n",
    "\n",
    "# Now that the data is ready\n",
    "transform_x = ss.transform(X, y)"
   ]
  },
  {
   "cell_type": "code",
   "execution_count": 9,
   "metadata": {},
   "outputs": [],
   "source": [
    "# Use 4 components since it will explain most of the variance.\n",
    "pca = PCA(n_components=4)\n",
    "\n",
    "# Fit and transform the data.\n",
    "principalComponents = pca.fit_transform(transform_x)\n",
    "\n",
    "# Set up the new data frame. \n",
    "principalDf = pd.DataFrame(data = principalComponents\n",
    "             , columns = ['principal component 1', 'principal component 2',\n",
    "                         'principal component 3', 'principal component 4'])"
   ]
  },
  {
   "cell_type": "markdown",
   "metadata": {},
   "source": [
    "# Model 1: PCA KNN "
   ]
  },
  {
   "cell_type": "code",
   "execution_count": 14,
   "metadata": {},
   "outputs": [],
   "source": [
    "# Set up variables.\n",
    "pca_X = principalDf\n",
    "y = cd_upsampled['Class'].values.reshape(-1, 1)\n",
    "\n",
    "# Create training and testing set\n",
    "X_train2, X_test2, y_train2, y_test2 = train_test_split(pca_X, y, test_size=0.3)"
   ]
  },
  {
   "cell_type": "code",
   "execution_count": 15,
   "metadata": {},
   "outputs": [
    {
     "name": "stdout",
     "output_type": "stream",
     "text": [
      "Fitting 5 folds for each of 7 candidates, totalling 35 fits\n",
      "Best parameters:\n",
      "{'n_neighbors': 20}\n",
      "Best Score:\n",
      "0.9758454106280193\n"
     ]
    },
    {
     "name": "stderr",
     "output_type": "stream",
     "text": [
      "[Parallel(n_jobs=-1)]: Done  35 out of  35 | elapsed:    0.1s finished\n"
     ]
    }
   ],
   "source": [
    "from sklearn.neighbors import KNeighborsClassifier\n",
    "\n",
    "# Initialize the model\n",
    "knn = KNeighborsClassifier()\n",
    "\n",
    "# Set parameters for KNN\n",
    "knn_params = [{'n_neighbors': [2,5,7,10,12,15,20]}]\n",
    "\n",
    "# Search for the best paramters. \n",
    "knn_grid = GridSearchCV(knn, knn_params, cv=5, verbose=1, n_jobs=-1)\n",
    "\n",
    "# Fit the grid and obtain results\n",
    "knn_grid.fit(X_train2, y_train2)\n",
    "\n",
    "# Return best parameters and best score\n",
    "print('Best parameters:')\n",
    "print(knn_grid.best_params_)\n",
    "print('Best Score:')\n",
    "print(knn_grid.best_score_)"
   ]
  },
  {
   "cell_type": "code",
   "execution_count": 17,
   "metadata": {},
   "outputs": [
    {
     "data": {
      "text/plain": [
       "array([0.96825397, 1.        , 0.98412698, 0.96825397, 0.98387097,\n",
       "       0.9516129 , 0.98387097, 0.96721311, 0.98360656, 0.96721311])"
      ]
     },
     "execution_count": 17,
     "metadata": {},
     "output_type": "execute_result"
    }
   ],
   "source": [
    "# Initialize the model\n",
    "knn = KNeighborsClassifier(n_neighbors=20)\n",
    "\n",
    "# Cross validate training set.\n",
    "from sklearn.model_selection import cross_val_score\n",
    "cross_val_score(knn, X_train2, y_train2, cv=10)"
   ]
  },
  {
   "cell_type": "code",
   "execution_count": 23,
   "metadata": {},
   "outputs": [
    {
     "data": {
      "text/plain": [
       "array([[127,   3],\n",
       "       [  3, 134]])"
      ]
     },
     "execution_count": 23,
     "metadata": {},
     "output_type": "execute_result"
    }
   ],
   "source": [
    "# Results are consistent but lets check for false positive and negatives\n",
    "from sklearn.metrics import confusion_matrix\n",
    "\n",
    "# Fit the data\n",
    "knn.fit(X_train2, y_train2)\n",
    "\n",
    "# Set up the prediction set.\n",
    "y_pred_train = knn.predict(X_test2)\n",
    "\n",
    "confusion_matrix(y_test2, y_pred_train)"
   ]
  },
  {
   "cell_type": "code",
   "execution_count": 24,
   "metadata": {},
   "outputs": [
    {
     "name": "stdout",
     "output_type": "stream",
     "text": [
      "             precision    recall  f1-score   support\n",
      "\n",
      "          0       0.98      0.98      0.98       130\n",
      "          1       0.98      0.98      0.98       137\n",
      "\n",
      "avg / total       0.98      0.98      0.98       267\n",
      "\n"
     ]
    }
   ],
   "source": [
    "# Evaluate the classification report.\n",
    "from sklearn.metrics import classification_report\n",
    "\n",
    "print(classification_report(y_test2, y_pred_train))"
   ]
  },
  {
   "cell_type": "markdown",
   "metadata": {},
   "source": [
    "# Analysis \n",
    "\n",
    "This model did better than its non PCA counterpart. This is probably due to the fact that I had normalized the distance for the dataset preemptively since the PCA also requires the normalization of features. The confusion matrix showed me that there were only 3 false positives and 3 false negatives. "
   ]
  },
  {
   "cell_type": "markdown",
   "metadata": {},
   "source": [
    "# Model 2: PCA Decision Tree"
   ]
  },
  {
   "cell_type": "code",
   "execution_count": 26,
   "metadata": {},
   "outputs": [
    {
     "name": "stdout",
     "output_type": "stream",
     "text": [
      "Fitting 5 folds for each of 4 candidates, totalling 20 fits\n",
      "Best parameters:\n",
      "{'max_depth': 2}\n",
      "Best Score:\n",
      "0.9774557165861514\n"
     ]
    },
    {
     "name": "stderr",
     "output_type": "stream",
     "text": [
      "[Parallel(n_jobs=-1)]: Done   5 out of  20 | elapsed:    0.0s remaining:    0.1s\n",
      "[Parallel(n_jobs=-1)]: Done  20 out of  20 | elapsed:    0.1s finished\n"
     ]
    }
   ],
   "source": [
    "from sklearn.tree import DecisionTreeClassifier\n",
    "\n",
    "# Initialize the model\n",
    "dtc = DecisionTreeClassifier()\n",
    "\n",
    "# Set parameters for dtc\n",
    "dtc_params = [{'max_depth': [2, 4, 6, 8]}]\n",
    "\n",
    "# Search for the best paramters. \n",
    "dtc_grid = GridSearchCV(dtc, dtc_params, cv=5, verbose=1, n_jobs=-1)\n",
    "\n",
    "# Fit the grid and obtain results\n",
    "dtc_grid.fit(X_train2, y_train2)\n",
    "\n",
    "# Return best parameters and best score\n",
    "print('Best parameters:')\n",
    "print(dtc_grid.best_params_)\n",
    "print('Best Score:')\n",
    "print(dtc_grid.best_score_)"
   ]
  },
  {
   "cell_type": "code",
   "execution_count": 27,
   "metadata": {},
   "outputs": [
    {
     "data": {
      "text/plain": [
       "array([0.984     , 0.976     , 0.81451613, 0.96774194, 0.71544715])"
      ]
     },
     "execution_count": 27,
     "metadata": {},
     "output_type": "execute_result"
    }
   ],
   "source": [
    "# Implement the parameters parameter \n",
    "dtc = DecisionTreeClassifier(max_features='auto', max_depth=2)\n",
    "\n",
    "# Cross Validate the decision tree model. \n",
    "cross_val_score(dtc, X_train2, y_train2, cv=5)"
   ]
  },
  {
   "cell_type": "code",
   "execution_count": 33,
   "metadata": {},
   "outputs": [
    {
     "data": {
      "text/plain": [
       "array([[127,   3],\n",
       "       [  0, 137]])"
      ]
     },
     "execution_count": 33,
     "metadata": {},
     "output_type": "execute_result"
    }
   ],
   "source": [
    "# Results are consistent but lets check for false positive and negatives\n",
    "from sklearn.metrics import confusion_matrix\n",
    "\n",
    "# Fit the data\n",
    "dtc.fit(X_train2, y_train2)\n",
    "\n",
    "# Set up the prediction set.\n",
    "y_pred_train2 = dtc.predict(X_test2)\n",
    "\n",
    "confusion_matrix(y_test2, y_pred_train)"
   ]
  },
  {
   "cell_type": "code",
   "execution_count": 34,
   "metadata": {},
   "outputs": [
    {
     "name": "stdout",
     "output_type": "stream",
     "text": [
      "             precision    recall  f1-score   support\n",
      "\n",
      "          0       1.00      0.98      0.99       130\n",
      "          1       0.98      1.00      0.99       137\n",
      "\n",
      "avg / total       0.99      0.99      0.99       267\n",
      "\n"
     ]
    }
   ],
   "source": [
    "# Evaluate the classification report.\n",
    "from sklearn.metrics import classification_report\n",
    "\n",
    "print(classification_report(y_test2, y_pred_train2))"
   ]
  },
  {
   "cell_type": "code",
   "execution_count": 35,
   "metadata": {},
   "outputs": [
    {
     "data": {
      "image/png": "[encoded data removed]",
      "text/plain": [
       "<matplotlib.figure.Figure at 0x1a14b0da90>"
      ]
     },
     "metadata": {},
     "output_type": "display_data"
    }
   ],
   "source": [
    "# Fit the model\n",
    "dtc.fit(X_train2, y_train2)\n",
    "\n",
    "# What's important?\n",
    "feature_importance = dtc.feature_importances_\n",
    "\n",
    "# Make importances relative to max importance.\n",
    "feature_importance = 100.0 * (feature_importance / feature_importance.max())\n",
    "sorted_idx = np.argsort(feature_importance)\n",
    "pos = np.arange(sorted_idx.shape[0]) + .5\n",
    "plt.barh(pos, feature_importance[sorted_idx], align='center')\n",
    "plt.yticks(pos, X_train.columns[sorted_idx])\n",
    "plt.xlabel('Relative Importance')\n",
    "plt.title('Variable Importance')\n",
    "plt.show()"
   ]
  },
  {
   "cell_type": "markdown",
   "metadata": {},
   "source": [
    "# Analysis\n",
    "\n",
    "This model was slightly superior to the previous model due to the fact that there were no false negatives in this model. It was to my expectation that PC1 would be the most important feature since in PCA, the first components explain the majority of the variance of the dataset, but what was surprising was that PC3 had more of an impact than PC2. "
   ]
  },
  {
   "cell_type": "markdown",
   "metadata": {},
   "source": [
    "# Model 3: PCA Logistic Regression"
   ]
  },
  {
   "cell_type": "code",
   "execution_count": 36,
   "metadata": {},
   "outputs": [
    {
     "name": "stdout",
     "output_type": "stream",
     "text": [
      "Fitting 5 folds for each of 11 candidates, totalling 55 fits\n",
      "Best parameters:\n",
      "{'C': 1}\n",
      "Best Score:\n",
      "0.9726247987117552\n"
     ]
    },
    {
     "name": "stderr",
     "output_type": "stream",
     "text": [
      "[Parallel(n_jobs=1)]: Done  55 out of  55 | elapsed:    0.1s finished\n"
     ]
    }
   ],
   "source": [
    "from sklearn.linear_model import LogisticRegression\n",
    "lr = LogisticRegression()\n",
    "\n",
    "# Use GS-CV to see which alpha level is best.\n",
    "parameters = {\n",
    "             'C':[0.00001,0.0001,0.001,0.01,0.1,1,10,100,10000,100000,100000000]}\n",
    "\n",
    "lr_grid = GridSearchCV(lr, parameters, cv=5, verbose=1)\n",
    "\n",
    "#Fit the logistic regression \n",
    "lr_grid.fit(X_train2, y_train2)\n",
    "\n",
    "#return best parameters and best score\n",
    "print('Best parameters:')\n",
    "print(lr_grid.best_params_)\n",
    "print('Best Score:')\n",
    "print(lr_grid.best_score_)"
   ]
  },
  {
   "cell_type": "code",
   "execution_count": 37,
   "metadata": {},
   "outputs": [
    {
     "data": {
      "text/plain": [
       "array([0.96      , 0.984     , 0.97580645, 0.96774194, 0.97560976])"
      ]
     },
     "execution_count": 37,
     "metadata": {},
     "output_type": "execute_result"
    }
   ],
   "source": [
    "# Implement parameter \n",
    "lr = LogisticRegression(C=1)\n",
    "\n",
    "# Cross Validate the lr model. \n",
    "cross_val_score(lr, X_train2, y_train2, cv=5)"
   ]
  },
  {
   "cell_type": "code",
   "execution_count": 38,
   "metadata": {},
   "outputs": [
    {
     "data": {
      "text/plain": [
       "array([[127,   3],\n",
       "       [  9, 128]])"
      ]
     },
     "execution_count": 38,
     "metadata": {},
     "output_type": "execute_result"
    }
   ],
   "source": [
    "# Results are consistent but lets check for false positive and negatives\n",
    "\n",
    "# Fit the data\n",
    "lr.fit(X_train2, y_train2)\n",
    "\n",
    "# Set up the prediction set.\n",
    "y_pred_train3 = lr.predict(X_test2)\n",
    "\n",
    "confusion_matrix(y_test2, y_pred_train3)"
   ]
  },
  {
   "cell_type": "code",
   "execution_count": 39,
   "metadata": {},
   "outputs": [
    {
     "name": "stdout",
     "output_type": "stream",
     "text": [
      "             precision    recall  f1-score   support\n",
      "\n",
      "          0       0.93      0.98      0.95       130\n",
      "          1       0.98      0.93      0.96       137\n",
      "\n",
      "avg / total       0.96      0.96      0.96       267\n",
      "\n"
     ]
    }
   ],
   "source": [
    "# Evaluate the classification report.\n",
    "from sklearn.metrics import classification_report\n",
    "\n",
    "print(classification_report(y_test2, y_pred_train3))"
   ]
  },
  {
   "cell_type": "markdown",
   "metadata": {},
   "source": [
    "# Analysis \n",
    "It made sense that the best C for the model was no change to the default value since I had already normalized the dataset. This model wasn't as accurate though with 9 false negatives. This might be due to the fact that the logistic classification isn't as complex as its predecessors so it's a bit less accurate."
   ]
  },
  {
   "cell_type": "markdown",
   "metadata": {},
   "source": [
    "# Model 4: PCA Support Vector Classifier"
   ]
  },
  {
   "cell_type": "code",
   "execution_count": 40,
   "metadata": {},
   "outputs": [
    {
     "name": "stdout",
     "output_type": "stream",
     "text": [
      "Fitting 5 folds for each of 90 candidates, totalling 450 fits\n"
     ]
    },
    {
     "name": "stderr",
     "output_type": "stream",
     "text": [
      "[Parallel(n_jobs=-1)]: Done 136 tasks      | elapsed:    0.6s\n"
     ]
    },
    {
     "name": "stdout",
     "output_type": "stream",
     "text": [
      "Best parameters:\n",
      "{'C': 10, 'gamma': 0.1}\n",
      "Best Score:\n",
      "0.9726247987117552\n"
     ]
    },
    {
     "name": "stderr",
     "output_type": "stream",
     "text": [
      "[Parallel(n_jobs=-1)]: Done 450 out of 450 | elapsed:    1.2s finished\n"
     ]
    }
   ],
   "source": [
    "from sklearn.svm import SVC\n",
    "\n",
    "svm = SVC()\n",
    "\n",
    "# new parameters for this model\n",
    "svc_params = [{'C': [.00001,.0001,.001,.01,.1,1,\n",
    "                    10,100,1000,10000],\n",
    "              'gamma': [.00001,.0001,.001,.01,.1,1,10,25,100]}]\n",
    "\n",
    "# setting up the grid\n",
    "svc_grid = GridSearchCV(svm, svc_params, cv=5, verbose=1, n_jobs=-1)\n",
    "\n",
    "#Fit the grid\n",
    "svc_grid.fit(X_train2, y_train2)\n",
    "\n",
    "#return best parameters and best score\n",
    "print('Best parameters:')\n",
    "print(svc_grid.best_params_)\n",
    "print('Best Score:')\n",
    "print(svc_grid.best_score_)"
   ]
  },
  {
   "cell_type": "code",
   "execution_count": 41,
   "metadata": {},
   "outputs": [
    {
     "data": {
      "text/plain": [
       "array([0.984     , 0.968     , 0.98387097, 0.95967742, 0.97560976])"
      ]
     },
     "execution_count": 41,
     "metadata": {},
     "output_type": "execute_result"
    }
   ],
   "source": [
    "# Implement the parameters parameter \n",
    "svm = SVC(C=10, gamma=.01)\n",
    "\n",
    "# Cross Validate the svc model. \n",
    "cross_val_score(svm, X_train, y_train, cv=5)"
   ]
  },
  {
   "cell_type": "code",
   "execution_count": 44,
   "metadata": {},
   "outputs": [
    {
     "data": {
      "text/plain": [
       "array([[127,   3],\n",
       "       [  4, 133]])"
      ]
     },
     "execution_count": 44,
     "metadata": {},
     "output_type": "execute_result"
    }
   ],
   "source": [
    "# Results are consistent but lets check for false positive and negatives\n",
    "\n",
    "# Fit the data\n",
    "svm.fit(X_train2, y_train2)\n",
    "\n",
    "# Set up the prediction set.\n",
    "y_pred_train4 = svm.predict(X_test2)\n",
    "\n",
    "confusion_matrix(y_test2, y_pred_train4)"
   ]
  },
  {
   "cell_type": "code",
   "execution_count": 45,
   "metadata": {},
   "outputs": [
    {
     "name": "stdout",
     "output_type": "stream",
     "text": [
      "             precision    recall  f1-score   support\n",
      "\n",
      "          0       0.97      0.98      0.97       130\n",
      "          1       0.98      0.97      0.97       137\n",
      "\n",
      "avg / total       0.97      0.97      0.97       267\n",
      "\n"
     ]
    }
   ],
   "source": [
    "# Evaluate the classification report.\n",
    "from sklearn.metrics import classification_report\n",
    "\n",
    "print(classification_report(y_test2, y_pred_train4))"
   ]
  },
  {
   "cell_type": "markdown",
   "metadata": {},
   "source": [
    "# Analysis\n",
    "\n",
    "The accuracy of the support vector model has increased after the usage of PCA due to the fact that I had normalized the distances of the datapoints in the dataset. A surprising thing to notice is that the best parameters did not change even after using PCA. However, it's a bit more reasonable for the penalty term to be smaller since there are less features in this dataset which means that were would be less points on the plane. "
   ]
  },
  {
   "cell_type": "markdown",
   "metadata": {},
   "source": [
    "# Model 5: PCA Gradient Boosting Model "
   ]
  },
  {
   "cell_type": "code",
   "execution_count": 46,
   "metadata": {},
   "outputs": [
    {
     "name": "stdout",
     "output_type": "stream",
     "text": [
      "Fitting 5 folds for each of 15 candidates, totalling 75 fits\n"
     ]
    },
    {
     "name": "stderr",
     "output_type": "stream",
     "text": [
      "[Parallel(n_jobs=-1)]: Done  60 out of  75 | elapsed:    2.3s remaining:    0.6s\n",
      "[Parallel(n_jobs=-1)]: Done  75 out of  75 | elapsed:    2.9s finished\n"
     ]
    },
    {
     "name": "stdout",
     "output_type": "stream",
     "text": [
      "Best parameters:\n",
      "{'max_depth': 4, 'n_estimators': 500}\n",
      "Best Score:\n",
      "0.9790660225442834\n"
     ]
    }
   ],
   "source": [
    "# Set up Gradient boosting parameters.\n",
    "gb_params = [{'n_estimators': [100,200,500,800,1000],\n",
    "             'max_depth': [2,4,6]\n",
    "             }]\n",
    "\n",
    "# Initialize and fit the model.\n",
    "clf = ensemble.GradientBoostingClassifier()\n",
    "\n",
    "# Use the grid\n",
    "gb_grid = GridSearchCV(clf, gb_params, cv=5, verbose=1, n_jobs=-1)\n",
    "\n",
    "# Fit the grid\n",
    "gb_grid.fit(X_train2, y_train2)\n",
    "\n",
    "# Return best parameters and best score\n",
    "print('Best parameters:')\n",
    "print(gb_grid.best_params_)\n",
    "print('Best Score:')\n",
    "print(gb_grid.best_score_)"
   ]
  },
  {
   "cell_type": "code",
   "execution_count": 47,
   "metadata": {},
   "outputs": [
    {
     "data": {
      "text/plain": [
       "array([0.992     , 0.968     , 0.96774194, 0.98387097, 0.98373984])"
      ]
     },
     "execution_count": 47,
     "metadata": {},
     "output_type": "execute_result"
    }
   ],
   "source": [
    "# Implement the parameters parameter \n",
    "clf = ensemble.GradientBoostingClassifier(n_estimators=500, \n",
    "                                         max_depth=4, max_features='auto')\n",
    "\n",
    "# Cross Validate the gradient boosting model. \n",
    "cross_val_score(clf, X_train2, y_train2, cv=5)"
   ]
  },
  {
   "cell_type": "code",
   "execution_count": 49,
   "metadata": {},
   "outputs": [
    {
     "data": {
      "text/plain": [
       "array([[127,   3],\n",
       "       [  3, 134]])"
      ]
     },
     "execution_count": 49,
     "metadata": {},
     "output_type": "execute_result"
    }
   ],
   "source": [
    "# Results are consistent but lets check for false positive and negatives\n",
    "\n",
    "# Fit the data\n",
    "clf.fit(X_train2, y_train2)\n",
    "\n",
    "# Set up the prediction set.\n",
    "y_pred_train5 = clf.predict(X_test2)\n",
    "\n",
    "confusion_matrix(y_test2, y_pred_train5)"
   ]
  },
  {
   "cell_type": "code",
   "execution_count": 50,
   "metadata": {},
   "outputs": [
    {
     "name": "stdout",
     "output_type": "stream",
     "text": [
      "             precision    recall  f1-score   support\n",
      "\n",
      "          0       0.98      0.98      0.98       130\n",
      "          1       0.98      0.98      0.98       137\n",
      "\n",
      "avg / total       0.98      0.98      0.98       267\n",
      "\n"
     ]
    }
   ],
   "source": [
    "# Evaluate the classification report.\n",
    "from sklearn.metrics import classification_report\n",
    "\n",
    "print(classification_report(y_test2, y_pred_train5))"
   ]
  },
  {
   "cell_type": "code",
   "execution_count": 51,
   "metadata": {},
   "outputs": [
    {
     "data": {
      "image/png": "[encoded data removed]",
      "text/plain": [
       "<matplotlib.figure.Figure at 0x1a183767f0>"
      ]
     },
     "metadata": {},
     "output_type": "display_data"
    }
   ],
   "source": [
    "# Fit the model# Fit th \n",
    "clf.fit(X_train2, y_train2)\n",
    "\n",
    "# What's important?\n",
    "feature_importance = clf.feature_importances_\n",
    "\n",
    "# Make importances relative to max importance.\n",
    "feature_importance = 100.0 * (feature_importance / feature_importance.max())\n",
    "sorted_idx = np.argsort(feature_importance)\n",
    "pos = np.arange(sorted_idx.shape[0]) + .5\n",
    "plt.barh(pos, feature_importance[sorted_idx], align='center')\n",
    "plt.yticks(pos, X_train.columns[sorted_idx])\n",
    "plt.xlabel('Relative Importance')\n",
    "plt.title('Variable Importance')\n",
    "plt.show()"
   ]
  },
  {
   "cell_type": "markdown",
   "metadata": {},
   "source": [
    "# Analysis\n",
    "\n",
    "Performing the PCA had little to no difference from the previous dataset which is a testament to the strength of the GBM. Another reason why the PCA wasn't as effective on this dataset is probably due to how small it is and that the GBM had already done an excellent job without the PCA. The PCA actually weakened the gradient boosting model by almost 1%. The feature importance was more in line with the theory of PCA where PC1 explains the majority of the variance in the data set and the next component explains less than the previous. PC4 explains just a little bit more than PC3, but it is negligible. "
   ]
  },
  {
   "cell_type": "markdown",
   "metadata": {},
   "source": [
    "# Model 6: PCA Random Forest Classifier "
   ]
  },
  {
   "cell_type": "code",
   "execution_count": 54,
   "metadata": {},
   "outputs": [
    {
     "name": "stdout",
     "output_type": "stream",
     "text": [
      "Fitting 5 folds for each of 32 candidates, totalling 160 fits\n",
      "Best Parameter for data: {'max_depth': 8, 'n_estimators': 10}\n",
      "\n",
      "Best Score for data: 0.9806763285024155\n"
     ]
    },
    {
     "name": "stderr",
     "output_type": "stream",
     "text": [
      "[Parallel(n_jobs=-1)]: Done 160 out of 160 | elapsed:   15.3s finished\n"
     ]
    }
   ],
   "source": [
    "# Prepare to use the random forest and GridSearchcV# Prepar \n",
    "from sklearn import ensemble\n",
    "from sklearn.model_selection import GridSearchCV\n",
    "\n",
    "rfc = ensemble.RandomForestClassifier()\n",
    "\n",
    "\n",
    "# Create rfc parameters for GS-CV\n",
    "param_grid = {'n_estimators': [10, 25, 50, 75, 100, 200, 500, 1000],\n",
    "             'max_depth': [2, 4, 6, 8]}\n",
    "\n",
    "# Set up GS-CV\n",
    "grid = GridSearchCV(rfc, param_grid, cv=5, verbose=1, n_jobs=-1)\n",
    "\n",
    "grid.fit(X_train2, y_train2)\n",
    "\n",
    "# Show the best parameter and best score for unfiltered\n",
    "print('Best Parameter for data:', grid.best_params_)\n",
    "print('\\nBest Score for data:', grid.best_score_)"
   ]
  },
  {
   "cell_type": "code",
   "execution_count": 55,
   "metadata": {},
   "outputs": [
    {
     "data": {
      "text/plain": [
       "array([0.984     , 0.976     , 0.95967742, 0.97580645, 0.97560976])"
      ]
     },
     "execution_count": 55,
     "metadata": {},
     "output_type": "execute_result"
    }
   ],
   "source": [
    "# Implement the parameters parameter \n",
    "rfc = ensemble.RandomForestClassifier(n_estimators=10, max_features='auto',\n",
    "                                     max_depth=8)\n",
    "\n",
    "# Cross Validate the gradient boosting model. \n",
    "cross_val_score(rfc, X_train2, y_train2, cv=5)"
   ]
  },
  {
   "cell_type": "code",
   "execution_count": 56,
   "metadata": {},
   "outputs": [
    {
     "data": {
      "text/plain": [
       "array([[127,   3],\n",
       "       [  3, 134]])"
      ]
     },
     "execution_count": 56,
     "metadata": {},
     "output_type": "execute_result"
    }
   ],
   "source": [
    "# Results are consistent but lets check for false positive and negatives\n",
    "\n",
    "# Fit the data\n",
    "rfc.fit(X_train2, y_train2)\n",
    "\n",
    "# Set up the prediction set.\n",
    "y_pred_train6 = rfc.predict(X_test2)\n",
    "\n",
    "confusion_matrix(y_test2, y_pred_train6)"
   ]
  },
  {
   "cell_type": "code",
   "execution_count": 57,
   "metadata": {},
   "outputs": [
    {
     "data": {
      "image/png": "[encoded data removed]",
      "text/plain": [
       "<matplotlib.figure.Figure at 0x1a1825f710>"
      ]
     },
     "metadata": {},
     "output_type": "display_data"
    }
   ],
   "source": [
    "# Fit the model\n",
    "rfc.fit(X_train2, y_train2)\n",
    "\n",
    "# What's important?\n",
    "feature_importance = rfc.feature_importances_\n",
    "\n",
    "# Make importances relative to max importance.\n",
    "feature_importance = 100.0 * (feature_importance / feature_importance.max())\n",
    "sorted_idx = np.argsort(feature_importance)\n",
    "pos = np.arange(sorted_idx.shape[0]) + .5\n",
    "plt.barh(pos, feature_importance[sorted_idx], align='center')\n",
    "plt.yticks(pos, X_train.columns[sorted_idx])\n",
    "plt.xlabel('Relative Importance')\n",
    "plt.title('Variable Importance')\n",
    "plt.show()"
   ]
  },
  {
   "cell_type": "markdown",
   "metadata": {},
   "source": [
    "# Analysis\n",
    "\n",
    "The PCA model is once again less accurate than its predecessor by 1%. This time the optimal parameter was 10 trees compared to the previous 500 which tells me that the dataset revealed a lot more information this time comapared to before. Running the PCA before using the random forest shortened the run time by a significant amount and it seems that PC1 is still the strongest performer which is to be expected. I can't think of why PC2 would explain significantly less than PC3 and PC4. "
   ]
  }
 ],
 "metadata": {
  "kernelspec": {
   "display_name": "Python 3",
   "language": "python",
   "name": "python3"
  },
  "language_info": {
   "codemirror_mode": {
    "name": "ipython",
    "version": 3
   },
   "file_extension": ".py",
   "mimetype": "text/x-python",
   "name": "python",
   "nbconvert_exporter": "python",
   "pygments_lexer": "ipython3",
   "version": "3.6.4"
  }
 },
 "nbformat": 4,
 "nbformat_minor": 2
}
