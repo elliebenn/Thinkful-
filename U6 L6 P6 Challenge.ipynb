{
 "cells": [
  {
   "cell_type": "markdown",
   "metadata": {},
   "source": [
    "# Background \n",
    "\n",
    "Now take your Keras skills and go build another neural network. Pick your data set, but it should be one of abstract types, possibly even nonnumeric, and use Keras to make five implementations of your network. Compare them both in computational complexity as well as in accuracy and given that tradeoff decide which one you like best.\n",
    "\n",
    "Your dataset should be sufficiently large for a neural network to perform well (samples should really be in the thousands here) and try to pick something that takes advantage of neural networks’ ability to have both feature extraction and supervised capabilities, so don’t pick something with an easy to consume list of features already generated for you (though neural networks can still be useful in those contexts)"
   ]
  },
  {
   "cell_type": "code",
   "execution_count": 2,
   "metadata": {},
   "outputs": [],
   "source": [
    "import numpy as np \n",
    "import pandas as pd \n",
    "import matplotlib.pyplot as plt\n",
    "%matplotlib inline\n",
    "import tensorflow as tf\n",
    "import keras\n",
    "import glob\n",
    "import cv2\n",
    "import os"
   ]
  },
  {
   "cell_type": "code",
   "execution_count": 13,
   "metadata": {},
   "outputs": [],
   "source": [
    "#Listing the training set\n",
    "fruit_images = []\n",
    "labels = [] \n",
    "for fruit_dir_path in glob.glob(\"./fruits-360/Training/*\"):\n",
    "    fruit_label = fruit_dir_path.split(\"/\")[-1]\n",
    "    for image_path in glob.glob(os.path.join(fruit_dir_path, \"*.jpg\")):\n",
    "        image = cv2.imread(image_path, cv2.IMREAD_COLOR)\n",
    "        \n",
    "        image = cv2.resize(image, (45, 45))\n",
    "        image = cv2.cvtColor(image, cv2.COLOR_RGB2BGR)\n",
    "        \n",
    "        fruit_images.append(image)\n",
    "        labels.append(fruit_label)\n",
    "fruit_images = np.array(fruit_images)\n",
    "labels = np.array(labels)"
   ]
  },
  {
   "cell_type": "code",
   "execution_count": 14,
   "metadata": {},
   "outputs": [],
   "source": [
    "# Create unique numbers so that I have a proper list of the folders.\n",
    "label_to_id_dict = {v:i for i,v in enumerate(np.unique(labels))}\n",
    "id_to_label_dict = {v: k for k, v in label_to_id_dict.items()}"
   ]
  },
  {
   "cell_type": "code",
   "execution_count": 15,
   "metadata": {},
   "outputs": [
    {
     "data": {
      "text/plain": [
       "{0: 'Apple Braeburn',\n",
       " 1: 'Apple Golden 1',\n",
       " 2: 'Apple Golden 2',\n",
       " 3: 'Apple Golden 3',\n",
       " 4: 'Apple Granny Smith',\n",
       " 5: 'Apple Red 1',\n",
       " 6: 'Apple Red 2',\n",
       " 7: 'Apple Red 3',\n",
       " 8: 'Apple Red Delicious',\n",
       " 9: 'Apple Red Yellow',\n",
       " 10: 'Apricot',\n",
       " 11: 'Avocado',\n",
       " 12: 'Avocado ripe',\n",
       " 13: 'Banana',\n",
       " 14: 'Banana Red',\n",
       " 15: 'Cactus fruit',\n",
       " 16: 'Cantaloupe 1',\n",
       " 17: 'Cantaloupe 2',\n",
       " 18: 'Carambula',\n",
       " 19: 'Cherry 1',\n",
       " 20: 'Cherry 2',\n",
       " 21: 'Cherry Rainier',\n",
       " 22: 'Cherry Wax Black',\n",
       " 23: 'Cherry Wax Red',\n",
       " 24: 'Cherry Wax Yellow',\n",
       " 25: 'Clementine',\n",
       " 26: 'Cocos',\n",
       " 27: 'Dates',\n",
       " 28: 'Granadilla',\n",
       " 29: 'Grape Pink',\n",
       " 30: 'Grape White',\n",
       " 31: 'Grape White 2',\n",
       " 32: 'Grapefruit Pink',\n",
       " 33: 'Grapefruit White',\n",
       " 34: 'Guava',\n",
       " 35: 'Huckleberry',\n",
       " 36: 'Kaki',\n",
       " 37: 'Kiwi',\n",
       " 38: 'Kumquats',\n",
       " 39: 'Lemon',\n",
       " 40: 'Lemon Meyer',\n",
       " 41: 'Limes',\n",
       " 42: 'Lychee',\n",
       " 43: 'Mandarine',\n",
       " 44: 'Mango',\n",
       " 45: 'Maracuja',\n",
       " 46: 'Melon Piel de Sapo',\n",
       " 47: 'Mulberry',\n",
       " 48: 'Nectarine',\n",
       " 49: 'Orange',\n",
       " 50: 'Papaya',\n",
       " 51: 'Passion Fruit',\n",
       " 52: 'Peach',\n",
       " 53: 'Peach Flat',\n",
       " 54: 'Pear',\n",
       " 55: 'Pear Abate',\n",
       " 56: 'Pear Monster',\n",
       " 57: 'Pear Williams',\n",
       " 58: 'Pepino',\n",
       " 59: 'Physalis',\n",
       " 60: 'Physalis with Husk',\n",
       " 61: 'Pineapple',\n",
       " 62: 'Pineapple Mini',\n",
       " 63: 'Pitahaya Red',\n",
       " 64: 'Plum',\n",
       " 65: 'Pomegranate',\n",
       " 66: 'Quince',\n",
       " 67: 'Rambutan',\n",
       " 68: 'Raspberry',\n",
       " 69: 'Salak',\n",
       " 70: 'Strawberry',\n",
       " 71: 'Strawberry Wedge',\n",
       " 72: 'Tamarillo',\n",
       " 73: 'Tangelo',\n",
       " 74: 'Walnut'}"
      ]
     },
     "execution_count": 15,
     "metadata": {},
     "output_type": "execute_result"
    }
   ],
   "source": [
    "# Look to see if I have the folders imported \n",
    "id_to_label_dict"
   ]
  },
  {
   "cell_type": "code",
   "execution_count": 16,
   "metadata": {},
   "outputs": [],
   "source": [
    "# Turn labels into numerical arrays.\n",
    "label_ids = np.array([label_to_id_dict[x] for x in labels])"
   ]
  },
  {
   "cell_type": "code",
   "execution_count": 17,
   "metadata": {},
   "outputs": [
    {
     "data": {
      "text/plain": [
       "((37836, 45, 45, 3), (37836,), (37836,))"
      ]
     },
     "execution_count": 17,
     "metadata": {},
     "output_type": "execute_result"
    }
   ],
   "source": [
    "# Look at data shape\n",
    "fruit_images.shape, label_ids.shape, labels.shape"
   ]
  },
  {
   "cell_type": "code",
   "execution_count": 18,
   "metadata": {},
   "outputs": [],
   "source": [
    "# Creating the testing set.\n",
    "validation_fruit_images = []\n",
    "validation_labels = [] \n",
    "for fruit_dir_path in glob.glob(\"./fruits-360/Test/*\"):\n",
    "    fruit_label = fruit_dir_path.split(\"/\")[-1]\n",
    "    for image_path in glob.glob(os.path.join(fruit_dir_path, \"*.jpg\")):\n",
    "        image = cv2.imread(image_path, cv2.IMREAD_COLOR)\n",
    "        \n",
    "        image = cv2.resize(image, (45, 45))\n",
    "        image = cv2.cvtColor(image, cv2.COLOR_RGB2BGR)\n",
    "        \n",
    "        validation_fruit_images.append(image)\n",
    "        validation_labels.append(fruit_label)\n",
    "validation_fruit_images = np.array(validation_fruit_images)\n",
    "validation_labels = np.array(validation_labels)"
   ]
  },
  {
   "cell_type": "code",
   "execution_count": 19,
   "metadata": {},
   "outputs": [],
   "source": [
    "validation_label_ids = np.array([label_to_id_dict[x] for x in validation_labels])"
   ]
  },
  {
   "cell_type": "code",
   "execution_count": 20,
   "metadata": {},
   "outputs": [
    {
     "data": {
      "text/plain": [
       "((12709, 45, 45, 3), (12709,))"
      ]
     },
     "execution_count": 20,
     "metadata": {},
     "output_type": "execute_result"
    }
   ],
   "source": [
    "validation_fruit_images.shape, validation_label_ids.shape"
   ]
  },
  {
   "cell_type": "code",
   "execution_count": 22,
   "metadata": {},
   "outputs": [
    {
     "name": "stdout",
     "output_type": "stream",
     "text": [
      "Original Sizes: (37836, 45, 45, 3) (12709, 45, 45, 3) (37836, 75) (12709, 75)\n",
      "Flattened: (37836, 6075) (12709, 6075)\n"
     ]
    }
   ],
   "source": [
    "# Create the train test split.\n",
    "X_train, X_test = fruit_images, validation_fruit_images\n",
    "Y_train, Y_test = label_ids, validation_label_ids\n",
    "\n",
    "#Normalize color values to between 0 and 1\n",
    "X_train = X_train/255\n",
    "X_test = X_test/255\n",
    "\n",
    "#Reshaping to a flattened version\n",
    "X_flat_train = X_train.reshape(X_train.shape[0], 45*45*3)\n",
    "X_flat_test = X_test.reshape(X_test.shape[0], 45*45*3)\n",
    "\n",
    "#Encoding the output\n",
    "Y_train = keras.utils.to_categorical(Y_train, 75)\n",
    "Y_test = keras.utils.to_categorical(Y_test, 75)\n",
    "\n",
    "print('Original Sizes:', X_train.shape, X_test.shape, Y_train.shape, Y_test.shape)\n",
    "print('Flattened:', X_flat_train.shape, X_flat_test.shape)"
   ]
  },
  {
   "cell_type": "code",
   "execution_count": 23,
   "metadata": {},
   "outputs": [
    {
     "name": "stdout",
     "output_type": "stream",
     "text": [
      "(45, 45, 3)\n"
     ]
    },
    {
     "data": {
      "image/png": "[encoded data removed]",
      "text/plain": [
       "<Figure size 432x288 with 1 Axes>"
      ]
     },
     "metadata": {},
     "output_type": "display_data"
    }
   ],
   "source": [
    "print(X_train[0].shape)\n",
    "plt.imshow(X_train[0])\n",
    "plt.show()"
   ]
  },
  {
   "cell_type": "code",
   "execution_count": 24,
   "metadata": {},
   "outputs": [],
   "source": [
    "from keras.models import Sequential\n",
    "from keras.layers import Dense, Dropout, Flatten, Conv2D, MaxPooling2D\n",
    "from keras.layers import LSTM, Input, TimeDistributed\n",
    "from keras.models import Model\n",
    "from keras.optimizers import RMSprop, SGD\n",
    "\n",
    "# Import the backend\n",
    "from keras import backend as K"
   ]
  },
  {
   "cell_type": "code",
   "execution_count": 26,
   "metadata": {},
   "outputs": [
    {
     "name": "stdout",
     "output_type": "stream",
     "text": [
      "_________________________________________________________________\n",
      "Layer (type)                 Output Shape              Param #   \n",
      "=================================================================\n",
      "dense_4 (Dense)              (None, 128)               777728    \n",
      "_________________________________________________________________\n",
      "dropout_3 (Dropout)          (None, 128)               0         \n",
      "_________________________________________________________________\n",
      "dense_5 (Dense)              (None, 64)                8256      \n",
      "_________________________________________________________________\n",
      "dropout_4 (Dropout)          (None, 64)                0         \n",
      "_________________________________________________________________\n",
      "dense_6 (Dense)              (None, 75)                4875      \n",
      "=================================================================\n",
      "Total params: 790,859\n",
      "Trainable params: 790,859\n",
      "Non-trainable params: 0\n",
      "_________________________________________________________________\n",
      "Train on 37836 samples, validate on 12709 samples\n",
      "Epoch 1/10\n",
      "37836/37836 [==============================] - 5s 129us/step - loss: 3.3211 - acc: 0.1720 - val_loss: 1.7661 - val_acc: 0.5063\n",
      "Epoch 2/10\n",
      "37836/37836 [==============================] - 5s 122us/step - loss: 1.7125 - acc: 0.4750 - val_loss: 1.0102 - val_acc: 0.7145\n",
      "Epoch 3/10\n",
      "37836/37836 [==============================] - 5s 123us/step - loss: 1.2453 - acc: 0.6086 - val_loss: 0.8693 - val_acc: 0.7390\n",
      "Epoch 4/10\n",
      "37836/37836 [==============================] - 5s 124us/step - loss: 1.0112 - acc: 0.6782 - val_loss: 0.6694 - val_acc: 0.8104\n",
      "Epoch 5/10\n",
      "37836/37836 [==============================] - 5s 123us/step - loss: 0.8718 - acc: 0.7214 - val_loss: 0.6635 - val_acc: 0.7957\n",
      "Epoch 6/10\n",
      "37836/37836 [==============================] - 5s 122us/step - loss: 0.7744 - acc: 0.7521 - val_loss: 0.4851 - val_acc: 0.8357\n",
      "Epoch 7/10\n",
      "37836/37836 [==============================] - 5s 124us/step - loss: 0.7033 - acc: 0.7762 - val_loss: 0.5723 - val_acc: 0.8149\n",
      "Epoch 8/10\n",
      "37836/37836 [==============================] - 5s 123us/step - loss: 0.6485 - acc: 0.7926 - val_loss: 0.5732 - val_acc: 0.8200\n",
      "Epoch 9/10\n",
      "37836/37836 [==============================] - 5s 123us/step - loss: 0.6147 - acc: 0.8053 - val_loss: 0.5633 - val_acc: 0.8252\n",
      "Epoch 10/10\n",
      "37836/37836 [==============================] - 5s 123us/step - loss: 0.5735 - acc: 0.8171 - val_loss: 0.5105 - val_acc: 0.8346\n",
      "Test loss: 0.5105185561382671\n",
      "Test accuracy: 0.8346053977507988\n"
     ]
    }
   ],
   "source": [
    "# 1. MLP Model\n",
    "model_dense = Sequential()\n",
    "\n",
    "# Add dense layers to create a fully connected MLP\n",
    "# Note that we specify an input shape for the first layer, but only the first layer.\n",
    "# Relu is the activation function used\n",
    "model_dense.add(Dense(128, activation='relu', input_shape=(X_flat_train.shape[1],)))\n",
    "# Dropout layers remove features and fight overfitting\n",
    "model_dense.add(Dropout(0.1))\n",
    "model_dense.add(Dense(64, activation='relu'))\n",
    "model_dense.add(Dropout(0.1))\n",
    "# End with a number of units equal to the number of classes we have for our outcome\n",
    "model_dense.add(Dense(75, activation='softmax'))\n",
    "\n",
    "model_dense.summary()\n",
    "\n",
    "# Compile the model to put it all together.\n",
    "model_dense.compile(loss='categorical_crossentropy',\n",
    "              optimizer=RMSprop(),\n",
    "              metrics=['accuracy'])\n",
    "\n",
    "history_dense = model_dense.fit(X_flat_train, Y_train,\n",
    "                          batch_size=128,\n",
    "                          epochs=10,\n",
    "                          verbose=1,\n",
    "                          validation_data=(X_flat_test, Y_test))\n",
    "score = model_dense.evaluate(X_flat_test, Y_test, verbose=0)\n",
    "print('Test loss:', score[0])\n",
    "print('Test accuracy:', score[1])\n"
   ]
  },
  {
   "cell_type": "code",
   "execution_count": 28,
   "metadata": {},
   "outputs": [
    {
     "name": "stdout",
     "output_type": "stream",
     "text": [
      "_________________________________________________________________\n",
      "Layer (type)                 Output Shape              Param #   \n",
      "=================================================================\n",
      "dense_13 (Dense)             (None, 256)               1555456   \n",
      "_________________________________________________________________\n",
      "dropout_10 (Dropout)         (None, 256)               0         \n",
      "_________________________________________________________________\n",
      "dense_14 (Dense)             (None, 128)               32896     \n",
      "_________________________________________________________________\n",
      "dropout_11 (Dropout)         (None, 128)               0         \n",
      "_________________________________________________________________\n",
      "dense_15 (Dense)             (None, 128)               16512     \n",
      "_________________________________________________________________\n",
      "dropout_12 (Dropout)         (None, 128)               0         \n",
      "_________________________________________________________________\n",
      "dense_16 (Dense)             (None, 128)               16512     \n",
      "_________________________________________________________________\n",
      "dropout_13 (Dropout)         (None, 128)               0         \n",
      "_________________________________________________________________\n",
      "dense_17 (Dense)             (None, 128)               16512     \n",
      "_________________________________________________________________\n",
      "dropout_14 (Dropout)         (None, 128)               0         \n",
      "_________________________________________________________________\n",
      "dense_18 (Dense)             (None, 75)                9675      \n",
      "=================================================================\n",
      "Total params: 1,647,563\n",
      "Trainable params: 1,647,563\n",
      "Non-trainable params: 0\n",
      "_________________________________________________________________\n",
      "Train on 37836 samples, validate on 12709 samples\n",
      "Epoch 1/10\n",
      "37836/37836 [==============================] - 10s 261us/step - loss: 2.9270 - acc: 0.2102 - val_loss: 1.4326 - val_acc: 0.5807\n",
      "Epoch 2/10\n",
      "37836/37836 [==============================] - 9s 234us/step - loss: 1.3162 - acc: 0.5672 - val_loss: 0.7732 - val_acc: 0.7439\n",
      "Epoch 3/10\n",
      "37836/37836 [==============================] - 9s 237us/step - loss: 0.8696 - acc: 0.7122 - val_loss: 0.7343 - val_acc: 0.7516\n",
      "Epoch 4/10\n",
      "37836/37836 [==============================] - 10s 252us/step - loss: 0.6313 - acc: 0.7908 - val_loss: 0.4279 - val_acc: 0.8605\n",
      "Epoch 5/10\n",
      "37836/37836 [==============================] - 9s 250us/step - loss: 0.5015 - acc: 0.8361 - val_loss: 0.3612 - val_acc: 0.8728\n",
      "Epoch 6/10\n",
      "37836/37836 [==============================] - 9s 243us/step - loss: 0.4034 - acc: 0.8656 - val_loss: 0.5238 - val_acc: 0.8289\n",
      "Epoch 7/10\n",
      "37836/37836 [==============================] - 9s 236us/step - loss: 0.3516 - acc: 0.8856 - val_loss: 0.3850 - val_acc: 0.8853\n",
      "Epoch 8/10\n",
      "37836/37836 [==============================] - 9s 246us/step - loss: 0.2944 - acc: 0.9018 - val_loss: 1.0337 - val_acc: 0.7559\n",
      "Epoch 9/10\n",
      "37836/37836 [==============================] - 9s 241us/step - loss: 0.2687 - acc: 0.9156 - val_loss: 0.3468 - val_acc: 0.9016\n",
      "Epoch 10/10\n",
      "37836/37836 [==============================] - 9s 233us/step - loss: 0.2468 - acc: 0.9237 - val_loss: 0.2899 - val_acc: 0.9101\n",
      "Test loss: 0.28993584296811875\n",
      "Test accuracy: 0.9101424187583602\n"
     ]
    }
   ],
   "source": [
    "# Going to add more dense layers.\n",
    "model_deep = Sequential()\n",
    "\n",
    "# Add dense layers to create a fully connected MLP\n",
    "# Note that we specify an input shape for the first layer, but only the first layer.\n",
    "# Relu is the activation function used\n",
    "model_deep.add(Dense(256, activation='relu', input_shape=(X_flat_train.shape[1],)))\n",
    "# Dropout layers remove features and fight overfitting\n",
    "model_deep.add(Dropout(0.05))\n",
    "model_deep.add(Dense(128, activation='relu'))\n",
    "model_deep.add(Dropout(0.05))\n",
    "model_deep.add(Dense(128, activation='relu'))\n",
    "model_deep.add(Dropout(0.05))\n",
    "model_deep.add(Dense(128, activation='relu'))\n",
    "model_deep.add(Dropout(0.05))\n",
    "model_deep.add(Dense(128, activation='relu'))\n",
    "model_deep.add(Dropout(0.05))\n",
    "# End with a number of units equal to the number of classes we have for our outcome\n",
    "model_deep.add(Dense(75, activation='softmax'))\n",
    "\n",
    "model_deep.summary()\n",
    "\n",
    "# Compile the model to put it all together.\n",
    "model_deep.compile(loss='categorical_crossentropy',\n",
    "              optimizer=RMSprop(),\n",
    "              metrics=['accuracy'])\n",
    "\n",
    "history_deep = model_deep.fit(X_flat_train, Y_train,\n",
    "                          batch_size=128,\n",
    "                          epochs=10,\n",
    "                          verbose=1,\n",
    "                          validation_data=(X_flat_test, Y_test))\n",
    "score = model_deep.evaluate(X_flat_test, Y_test, verbose=0)\n",
    "print('Test loss:', score[0])\n",
    "print('Test accuracy:', score[1])"
   ]
  },
  {
   "cell_type": "markdown",
   "metadata": {},
   "source": [
    "Adding more layers increased accuracy. "
   ]
  },
  {
   "cell_type": "code",
   "execution_count": 30,
   "metadata": {},
   "outputs": [
    {
     "name": "stdout",
     "output_type": "stream",
     "text": [
      "Train on 37836 samples, validate on 12709 samples\n",
      "Epoch 1/5\n",
      "37836/37836 [==============================] - 184s 5ms/step - loss: 2.4603 - acc: 0.3573 - val_loss: 0.5903 - val_acc: 0.8295\n",
      "Epoch 2/5\n",
      "37836/37836 [==============================] - 182s 5ms/step - loss: 0.4676 - acc: 0.8495 - val_loss: 0.2469 - val_acc: 0.9280\n",
      "Epoch 3/5\n",
      "37836/37836 [==============================] - 188s 5ms/step - loss: 0.1940 - acc: 0.9340 - val_loss: 0.1702 - val_acc: 0.9429\n",
      "Epoch 4/5\n",
      "37836/37836 [==============================] - 184s 5ms/step - loss: 0.1229 - acc: 0.9568 - val_loss: 0.1744 - val_acc: 0.9417\n",
      "Epoch 5/5\n",
      "37836/37836 [==============================] - 176s 5ms/step - loss: 0.0944 - acc: 0.9663 - val_loss: 0.1656 - val_acc: 0.9518\n",
      "Test loss: 0.16563410499914552\n",
      "Test accuracy: 0.951766464710048\n"
     ]
    }
   ],
   "source": [
    "# 3. Convolutional Neural Network\n",
    "model_cnn = Sequential()\n",
    "# First convolutional layer, note the specification of shape\n",
    "model_cnn.add(Conv2D(32, kernel_size=(3, 3),\n",
    "                 activation='relu',\n",
    "                 input_shape=(45, 45, 3)))\n",
    "model_cnn.add(Conv2D(64, (3, 3), activation='relu'))\n",
    "model_cnn.add(MaxPooling2D(pool_size=(2, 2)))\n",
    "model_cnn.add(Dropout(0.25))\n",
    "model_cnn.add(Flatten())\n",
    "model_cnn.add(Dense(128, activation='relu'))\n",
    "model_cnn.add(Dropout(0.5))\n",
    "model_cnn.add(Dense(75, activation='softmax'))\n",
    "\n",
    "model_cnn.compile(loss=keras.losses.categorical_crossentropy,\n",
    "              optimizer=keras.optimizers.Adadelta(),\n",
    "              metrics=['accuracy'])\n",
    "\n",
    "model_cnn.fit(X_train, Y_train,\n",
    "          batch_size=128,\n",
    "          epochs=5,\n",
    "          verbose=1,\n",
    "          validation_data=(X_test, Y_test))\n",
    "score = model_cnn.evaluate(X_test, Y_test, verbose=0)\n",
    "print('Test loss:', score[0])\n",
    "print('Test accuracy:', score[1])"
   ]
  },
  {
   "cell_type": "markdown",
   "metadata": {},
   "source": [
    "Using only 5 epochs, I was able to obtain 95% test accuracy. I will increase it to 7 epochs, but that will probably overfit the data even more so I will decrease the batch size. "
   ]
  },
  {
   "cell_type": "code",
   "execution_count": 31,
   "metadata": {},
   "outputs": [
    {
     "name": "stdout",
     "output_type": "stream",
     "text": [
      "Train on 37836 samples, validate on 12709 samples\n",
      "Epoch 1/7\n",
      "37836/37836 [==============================] - 186s 5ms/step - loss: 0.0800 - acc: 0.9705 - val_loss: 0.1830 - val_acc: 0.9467\n",
      "Epoch 2/7\n",
      "37836/37836 [==============================] - 185s 5ms/step - loss: 0.0648 - acc: 0.9754 - val_loss: 0.1450 - val_acc: 0.9644\n",
      "Epoch 3/7\n",
      "37836/37836 [==============================] - 187s 5ms/step - loss: 0.0610 - acc: 0.9774 - val_loss: 0.1116 - val_acc: 0.9655\n",
      "Epoch 4/7\n",
      "37836/37836 [==============================] - 186s 5ms/step - loss: 0.0525 - acc: 0.9801 - val_loss: 0.1014 - val_acc: 0.9688\n",
      "Epoch 5/7\n",
      "37836/37836 [==============================] - 194s 5ms/step - loss: 0.0466 - acc: 0.9817 - val_loss: 0.1407 - val_acc: 0.9644\n",
      "Epoch 6/7\n",
      "37836/37836 [==============================] - 188s 5ms/step - loss: 0.0442 - acc: 0.9821 - val_loss: 0.1210 - val_acc: 0.9711\n",
      "Epoch 7/7\n",
      "37836/37836 [==============================] - 187s 5ms/step - loss: 0.0431 - acc: 0.9824 - val_loss: 0.1271 - val_acc: 0.9692\n",
      "Test loss: 0.12713746363177464\n",
      "Test accuracy: 0.9692344008183177\n"
     ]
    }
   ],
   "source": [
    "# 4. Modified CNN\n",
    "model_cnn.fit(X_train, Y_train,\n",
    "          batch_size=100,\n",
    "          epochs=7,\n",
    "          verbose=1,\n",
    "          validation_data=(X_test, Y_test))\n",
    "score = model_cnn.evaluate(X_test, Y_test, verbose=0)\n",
    "print('Test loss:', score[0])\n",
    "print('Test accuracy:', score[1])"
   ]
  },
  {
   "cell_type": "markdown",
   "metadata": {},
   "source": [
    "I think I messed up on this one since it's accuracy started off so high. I forgot to reset it so it may have taken the previous results into account. I did notice that the accuracy did not improve by much even though I increased the epoch size which may be due to the fact I lowered the batch size."
   ]
  },
  {
   "cell_type": "code",
   "execution_count": 36,
   "metadata": {},
   "outputs": [
    {
     "name": "stdout",
     "output_type": "stream",
     "text": [
      "x_train shape: (37836, 45, 45, 3)\n",
      "37836 train samples\n",
      "12709 test samples\n",
      "Train on 37836 samples, validate on 12709 samples\n",
      "Epoch 1/5\n",
      "37836/37836 [==============================] - 152s 4ms/step - loss: 3.7393 - acc: 0.0695 - val_loss: 3.2530 - val_acc: 0.1089\n",
      "Epoch 2/5\n",
      "37836/37836 [==============================] - 151s 4ms/step - loss: 2.8792 - acc: 0.2092 - val_loss: 2.8747 - val_acc: 0.1981\n",
      "Epoch 3/5\n",
      "37836/37836 [==============================] - 150s 4ms/step - loss: 2.2893 - acc: 0.3607 - val_loss: 2.3743 - val_acc: 0.3013\n",
      "Epoch 4/5\n",
      "37836/37836 [==============================] - 147s 4ms/step - loss: 1.8340 - acc: 0.4810 - val_loss: 1.9605 - val_acc: 0.3837\n",
      "Epoch 5/5\n",
      "37836/37836 [==============================] - 147s 4ms/step - loss: 1.4651 - acc: 0.5916 - val_loss: 1.5169 - val_acc: 0.5684\n",
      "Test loss: 1.5168628042411518\n",
      "Test accuracy: 0.5684160830907231\n"
     ]
    }
   ],
   "source": [
    "# 5. Heirarchical Recurrent Neural Network\n",
    "\n",
    "# Set up the training and test set again.\n",
    "x_train = fruit_images\n",
    "x_test = validation_fruit_images\n",
    "y_train = label_ids\n",
    "y_test = validation_label_ids\n",
    "\n",
    "batch_size = 64\n",
    "num_classes = 75\n",
    "epochs = 5\n",
    "\n",
    "# Embedding dimensions.\n",
    "row_hidden = 32\n",
    "col_hidden = 32\n",
    "\n",
    "# Reshapes data to 4D for Hierarchical RNN.\n",
    "x_train = x_train.reshape(x_train.shape[0], 45, 45, 3)\n",
    "x_test = x_test.reshape(x_test.shape[0], 45, 45, 3)\n",
    "x_train = x_train.astype('float32')\n",
    "x_test = x_test.astype('float32')\n",
    "x_train /= 255\n",
    "x_test /= 255\n",
    "print('x_train shape:', x_train.shape)\n",
    "print(x_train.shape[0], 'train samples')\n",
    "print(x_test.shape[0], 'test samples')\n",
    "\n",
    "# Converts class vectors to binary class matrices.\n",
    "y_train = keras.utils.to_categorical(y_train, num_classes)\n",
    "y_test = keras.utils.to_categorical(y_test, num_classes)\n",
    "\n",
    "row, col, pixel = x_train.shape[1:]\n",
    "\n",
    "# 4D input.\n",
    "x = Input(shape=(row, col, pixel))\n",
    "\n",
    "# Encodes a row of pixels using TimeDistributed Wrapper.\n",
    "encoded_rows = TimeDistributed(LSTM(row_hidden))(x)\n",
    "\n",
    "# Encodes columns of encoded rows.\n",
    "encoded_columns = LSTM(col_hidden)(encoded_rows)\n",
    "\n",
    "# Final predictions and model.\n",
    "prediction = Dense(num_classes, activation='softmax')(encoded_columns)\n",
    "model = Model(x, prediction)\n",
    "model.compile(loss='categorical_crossentropy',\n",
    "              optimizer='rmsprop',\n",
    "              metrics=['accuracy'])\n",
    "\n",
    "# Training.\n",
    "model.fit(x_train, y_train,\n",
    "          batch_size=batch_size,\n",
    "          epochs=epochs,\n",
    "          verbose=1,\n",
    "          validation_data=(x_test, y_test))\n",
    "\n",
    "# Evaluation.\n",
    "scores = model.evaluate(x_test, y_test, verbose=0)\n",
    "print('Test loss:', scores[0])\n",
    "print('Test accuracy:', scores[1])"
   ]
  },
  {
   "cell_type": "markdown",
   "metadata": {},
   "source": [
    "# Conclusion\n",
    "\n",
    "After running the 5 different models, the MLP model was the quickest to run and was highly accurate. Perhaps if I increased the epoch size and the batch size even more it would be even more accurate. A definite way to increase the accuracy of the regular MLP model would be to increase the amount of layers.  \n",
    "\n",
    "The Convolutional Neural Network was extremely accurate, but it took approximately 3 minutes for each epoch to run. I fear that if I increased the epoch size, it would overfit the model which would be bad. This model has a chance of being in the front if the computer specs are up to par. \n",
    "\n",
    "Lastly, the Heirarchical Recurrent Neural Network took about as long as the CNN, but the accuracy was gravely different from its counterpart. I'm surprised it's accuracy is as low as it is, given how the example problem had such a high score. I even increased it epoch size to the same as the CNN."
   ]
  }
 ],
 "metadata": {
  "kernelspec": {
   "display_name": "Python 3",
   "language": "python",
   "name": "python3"
  },
  "language_info": {
   "codemirror_mode": {
    "name": "ipython",
    "version": 3
   },
   "file_extension": ".py",
   "mimetype": "text/x-python",
   "name": "python",
   "nbconvert_exporter": "python",
   "pygments_lexer": "ipython3",
   "version": "3.6.4"
  }
 },
 "nbformat": 4,
 "nbformat_minor": 2
}
