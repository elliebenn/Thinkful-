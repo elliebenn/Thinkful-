{
 "cells": [
  {
   "cell_type": "markdown",
   "metadata": {},
   "source": [
    "# Background \n",
    "\n",
    "This dataset was created for the Paper 'From Group to Individual Labels using Deep Features', Kotzias et. al,. KDD 2015. \n",
    "\n",
    "I will perform a sentiment analysis on Amazon and IMDB to see whether people left positive or negative feedback. \n",
    "\n",
    "The data can be found here: https://archive.ics.uci.edu/ml/datasets/Sentiment+Labelled+Sentences"
   ]
  },
  {
   "cell_type": "code",
   "execution_count": 1,
   "metadata": {},
   "outputs": [],
   "source": [
    "import numpy as np\n",
    "import pandas as pd\n",
    "import matplotlib.pyplot as plt\n",
    "import seaborn as sns\n",
    "import scipy\n",
    "import sklearn\n",
    "%matplotlib inline"
   ]
  },
  {
   "cell_type": "code",
   "execution_count": 24,
   "metadata": {
    "scrolled": true
   },
   "outputs": [
    {
     "name": "stdout",
     "output_type": "stream",
     "text": [
      "                                             reviews  positive\n",
      "0                        Good case, Excellent value.      True\n",
      "1                             Great for the jawbone.      True\n",
      "2  Tied to charger for conversations lasting more...     False\n",
      "3                                  The mic is great.      True\n",
      "4  I have to jiggle the plug to get it to line up...     False\n"
     ]
    }
   ],
   "source": [
    "# Start with amazon review first.\n",
    "amazon_reviews = pd.read_csv('amazon_cells_labelled.txt', delimiter='\\t')\n",
    "\n",
    "# If you run .head() without doing anything, we will only see two columns, \n",
    "# comments and a number ( 0 or 1). \n",
    "# lets look only at positive reviews.\n",
    "amazon_reviews.columns = ['reviews', 'positive']\n",
    "amazon_reviews['positive'] = (amazon_reviews['positive'] == 1)\n",
    "\n",
    "print(amazon_reviews.head())"
   ]
  },
  {
   "cell_type": "code",
   "execution_count": 3,
   "metadata": {},
   "outputs": [
    {
     "name": "stdout",
     "output_type": "stream",
     "text": [
      "                                              reviews  positive\n",
      "0                         Good case, Excellent value.      True\n",
      "1                              Great for the jawbone.      True\n",
      "2   Tied to charger for conversations lasting more...     False\n",
      "3                                   The mic is great.      True\n",
      "4   I have to jiggle the plug to get it to line up...     False\n",
      "5   If you have several dozen or several hundred c...     False\n",
      "6         If you are Razr owner...you must have this!      True\n",
      "7                 Needless to say, I wasted my money.     False\n",
      "8                    What a waste of money and time!.     False\n",
      "9                     And the sound quality is great.      True\n",
      "10  He was very impressed when going from the orig...      True\n",
      "11  If the two were seperated by a mere 5+ ft I st...     False\n",
      "12                           Very good quality though      True\n",
      "13  The design is very odd, as the ear \"clip\" is n...     False\n",
      "14  Highly recommend for any one who has a blue to...      True\n",
      "15                I advise EVERYONE DO NOT BE FOOLED!     False\n",
      "16                                   So Far So Good!.      True\n",
      "17                                      Works great!.      True\n",
      "18  It clicks into place in a way that makes you w...     False\n",
      "19  I went on Motorola's website and followed all ...     False\n",
      "20  I bought this to use with my Kindle Fire and a...      True\n",
      "21           The commercials are the most misleading.     False\n",
      "22  I have yet to run this new battery below two b...      True\n",
      "23  I bought it for my mother and she had a proble...     False\n",
      "24               Great Pocket PC / phone combination.      True\n",
      "25  I've owned this phone for 7 months now and can...      True\n",
      "26  I didn't think that the instructions provided ...     False\n",
      "27  People couldnt hear me talk and I had to pull ...     False\n",
      "28                               Doesn't hold charge.     False\n",
      "29  This is a simple little phone to use, but the ...     False\n",
      "30  This product is ideal for people like me whose...      True\n",
      "31   It is unusable in a moving car at freeway speed.     False\n",
      "32  I have two more years left in this contract an...     False\n",
      "33  Car charger as well as AC charger are included...      True\n",
      "34  You need at least 3 mins to get to your phone ...     False\n",
      "35                          It has kept up very well.      True\n",
      "36                        Poor Talk Time Performance.     False\n",
      "37     The case is great and works fine with the 680.      True\n",
      "38                                 worthless product.     False\n",
      "39  It has a great camera thats 2MP, and the pics ...      True\n",
      "40               I was not impressed by this product.     False\n",
      "41                         Nice headset priced right.      True\n",
      "42                     I only hear garbage for audio.     False\n",
      "43                       Excellent bluetooth headset.      True\n",
      "44                     It has all the features I want      True\n",
      "45  Who in their right mind is gonna buy this batt...     False\n",
      "46  AFTER ARGUING WITH VERIZON REGARDING THE DROPP...     False\n",
      "47                         This case seems well made.      True\n",
      "48                         Disappointed with battery.     False\n",
      "49  Not loud enough and doesn't turn on like it sh...     False\n"
     ]
    }
   ],
   "source": [
    "# Lets take a look at the data now and see if I can find any words to use for the keywords. \n",
    "print(amazon_reviews.head(50))\n"
   ]
  },
  {
   "cell_type": "code",
   "execution_count": 4,
   "metadata": {},
   "outputs": [],
   "source": [
    "keywords = ['good', 'excellent','great', 'nice', 'awesome', 'fantastic',\n",
    "           'well', 'wonderful', 'ideal', 'quick', 'best', 'fair']\n",
    "\n",
    "for key in keywords:\n",
    "    amazon_reviews[str(key)] = amazon_reviews.reviews.str.contains(\n",
    "        str(key),\n",
    "        case=False\n",
    "    )"
   ]
  },
  {
   "cell_type": "code",
   "execution_count": 5,
   "metadata": {},
   "outputs": [
    {
     "data": {
      "text/plain": [
       "<matplotlib.axes._subplots.AxesSubplot at 0x10abe06d8>"
      ]
     },
     "execution_count": 5,
     "metadata": {},
     "output_type": "execute_result"
    },
    {
     "data": {
      "image/png": "[encoded data removed]",
      "text/plain": [
       "<matplotlib.figure.Figure at 0x1a1146a6a0>"
      ]
     },
     "metadata": {},
     "output_type": "display_data"
    }
   ],
   "source": [
    "# Time to check if the keywords are correlated; if not, then proceed with the Bernoulli NB\n",
    "sns.heatmap(amazon_reviews.corr())"
   ]
  },
  {
   "cell_type": "markdown",
   "metadata": {},
   "source": [
    "None of the keywords have a correlation over .5, it's safe to proceed."
   ]
  },
  {
   "cell_type": "code",
   "execution_count": 6,
   "metadata": {},
   "outputs": [],
   "source": [
    "data = amazon_reviews[keywords]\n",
    "target = amazon_reviews['positive']"
   ]
  },
  {
   "cell_type": "code",
   "execution_count": 23,
   "metadata": {},
   "outputs": [
    {
     "name": "stdout",
     "output_type": "stream",
     "text": [
      "Number of positive reviews out of a total 747 reviews : 298\n"
     ]
    }
   ],
   "source": [
    "# Our data is binary / boolean, so we're importing the Bernoulli classifier.\n",
    "from sklearn.naive_bayes import BernoulliNB\n",
    "\n",
    "# Instantiate our model and store it in a new variable.\n",
    "bnb = BernoulliNB()\n",
    "\n",
    "# Fit our model to the data.\n",
    "bnb.fit(data, target)\n",
    "\n",
    "# Classify, storing the result in a new variable.\n",
    "y_pred = bnb.predict(data)\n",
    "\n",
    "# Display our results.\n",
    "print(\"Number of positive reviews out of a total {} reviews : {}\".format(\n",
    "    data.shape[0],\n",
    "    (target != y_pred).sum()\n",
    "))"
   ]
  },
  {
   "cell_type": "code",
   "execution_count": 8,
   "metadata": {},
   "outputs": [],
   "source": [
    "# Try this classifier on IMDB.\n",
    "\n",
    "imdb_reviews = pd.read_csv('imdb_labelled.txt', delimiter='\\t')\n",
    "\n",
    "# Same thing as before, need to add column names to both columns.\n",
    "imdb_reviews.columns = ['reviews', 'positive']\n",
    "imdb_reviews['positive'] = (imdb_reviews['positive'] == 1)"
   ]
  },
  {
   "cell_type": "code",
   "execution_count": 9,
   "metadata": {},
   "outputs": [
    {
     "name": "stdout",
     "output_type": "stream",
     "text": [
      "                                              reviews  positive\n",
      "0   Not sure who was more lost - the flat characte...     False\n",
      "1   Attempting artiness with black & white and cle...     False\n",
      "2        Very little music or anything to speak of.       False\n",
      "3   The best scene in the movie was when Gerardo i...      True\n",
      "4   The rest of the movie lacks art, charm, meanin...     False\n",
      "5                                 Wasted two hours.       False\n",
      "6   Saw the movie today and thought it was a good ...      True\n",
      "7                                A bit predictable.       False\n",
      "8   Loved the casting of Jimmy Buffet as the scien...      True\n",
      "9                And those baby owls were adorable.        True\n",
      "10  The movie showed a lot of Florida at it's best...      True\n",
      "11  The Songs Were The Best And The Muppets Were S...      True\n",
      "12                                  It Was So Cool.        True\n",
      "13  This is a very \"right on case\" movie that deli...      True\n",
      "14  It had some average acting from the main perso...     False\n",
      "15  This review is long overdue, since I consider ...      True\n",
      "16  I'll put this gem up against any movie in term...      True\n",
      "17  It's practically perfect in all of them  a tr...      True\n",
      "18   The structure of this film is easily the most...     False\n",
      "19  This if the first movie I've given a 10 to in ...      True\n",
      "20  If there was ever a movie that needed word-of-...      True\n",
      "21  Overall, the film is interesting and thought-p...      True\n",
      "22  Plus, it was well-paced and suited its relativ...      True\n",
      "23                            Give this one a look.        True\n",
      "24                                   I gave it a 10        True\n",
      "25  The Wind and the Lion is well written and supe...      True\n",
      "26                            It is a true classic.        True\n",
      "27  It actually turned out to be pretty decent as ...      True\n",
      "28                   Definitely worth checking out.        True\n",
      "29                      The problem was the script.       False\n",
      "30                               It was horrendous.       False\n",
      "31    There was NOTHING believable about it at all.       False\n",
      "32  The only suspense I was feeling was the frustr...     False\n",
      "33  MANNA FROM HEAVEN is a terrific film that is b...      True\n",
      "34  The scenes are often funny and occasionally to...      True\n",
      "35  The cast of veteran actors are more than just ...      True\n",
      "36  Ursula Burton's portrayal of the nun is both t...      True\n",
      "37  If you are looking for a movie with a terrific...      True\n",
      "38          I don't think you will be disappointed.        True\n",
      "39  Frankly, after Cotton club and Unfaithful, it ...     False\n",
      "40  The acting was bad, the dialogs were extremely...     False\n",
      "41  It was too predictable, even for a chick flick.       False\n",
      "42                         Too politically correct.       False\n",
      "43                              Very disappointing.       False\n",
      "44  The only thing really worth watching was the s...      True\n",
      "45  I love Lane, but I've never seen her in a movi...     False\n",
      "46    An hour and a half I wish I could bring back.       False\n",
      "47  But in terms of the writing it's very fresh an...      True\n",
      "48  The acting helps the writing along very well (...      True\n",
      "49  The directing and the cinematography aren't qu...     False\n"
     ]
    }
   ],
   "source": [
    "print(imdb_reviews.head(50))"
   ]
  },
  {
   "cell_type": "code",
   "execution_count": 10,
   "metadata": {},
   "outputs": [],
   "source": [
    "# I would change some of the keywords, but I'm supposed to test how well\n",
    "# this model works on other datasets. \n",
    "keywords = ['good', 'excellent','great', 'nice', 'awesome', 'fantastic',\n",
    "           'well', 'wonderful', 'ideal', 'quick', 'best', 'fair']\n",
    "\n",
    "for key in keywords:\n",
    "    imdb_reviews[str(key)] = imdb_reviews.reviews.str.contains(\n",
    "        str(key),\n",
    "        case=False\n",
    "    )"
   ]
  },
  {
   "cell_type": "code",
   "execution_count": 11,
   "metadata": {},
   "outputs": [
    {
     "data": {
      "text/plain": [
       "<matplotlib.axes._subplots.AxesSubplot at 0x10acb40f0>"
      ]
     },
     "execution_count": 11,
     "metadata": {},
     "output_type": "execute_result"
    },
    {
     "data": {
      "image/png": "[encoded data removed]",
      "text/plain": [
       "<matplotlib.figure.Figure at 0x1a11596e10>"
      ]
     },
     "metadata": {},
     "output_type": "display_data"
    }
   ],
   "source": [
    "# Time to check if the keywords are correlated; if not, then proceed with the Bernoulli NB\n",
    "sns.heatmap(imdb_reviews.corr())"
   ]
  },
  {
   "cell_type": "markdown",
   "metadata": {},
   "source": [
    "Correlation is higher here, but it luckily still hasn't broken .5 so it's still useable."
   ]
  },
  {
   "cell_type": "code",
   "execution_count": 12,
   "metadata": {},
   "outputs": [],
   "source": [
    "data = imdb_reviews[keywords]\n",
    "target = imdb_reviews['positive']"
   ]
  },
  {
   "cell_type": "code",
   "execution_count": 13,
   "metadata": {},
   "outputs": [
    {
     "name": "stdout",
     "output_type": "stream",
     "text": [
      "Number of positive reviews out of a total 747 reviews : 298\n"
     ]
    }
   ],
   "source": [
    "# Our data is binary / boolean, so we're importing the Bernoulli classifier.\n",
    "from sklearn.naive_bayes import BernoulliNB\n",
    "\n",
    "# Instantiate our model and store it in a new variable.\n",
    "bnb = BernoulliNB()\n",
    "\n",
    "# Fit our model to the data.\n",
    "bnb.fit(data, target)\n",
    "\n",
    "# Classify, storing the result in a new variable.\n",
    "y_pred = bnb.predict(data)\n",
    "\n",
    "# Display our results.\n",
    "print(\"Number of positive reviews out of a total {} reviews : {}\".format(\n",
    "    data.shape[0],\n",
    "    (target != y_pred).sum()\n",
    "))"
   ]
  },
  {
   "cell_type": "markdown",
   "metadata": {},
   "source": [
    "I based my model off of the tutorial. I've used almost exactly the same setup, but I changed up the keywords since the example wanted spam markers and I wanted positive comment markers. I selected the positive comment markers off the top 50 comments and the words that came up with the positive comment."
   ]
  },
  {
   "cell_type": "code",
   "execution_count": null,
   "metadata": {},
   "outputs": [],
   "source": []
  }
 ],
 "metadata": {
  "kernelspec": {
   "display_name": "Python 3",
   "language": "python",
   "name": "python3"
  },
  "language_info": {
   "codemirror_mode": {
    "name": "ipython",
    "version": 3
   },
   "file_extension": ".py",
   "mimetype": "text/x-python",
   "name": "python",
   "nbconvert_exporter": "python",
   "pygments_lexer": "ipython3",
   "version": "3.6.4"
  }
 },
 "nbformat": 4,
 "nbformat_minor": 2
}
