{
 "cells": [
  {
   "cell_type": "code",
   "execution_count": 1,
   "metadata": {},
   "outputs": [],
   "source": [
    "import numpy as np \n",
    "import pandas as pd \n",
    "import matplotlib.pyplot as plt \n",
    "import sklearn\n",
    "from sklearn import linear_model\n",
    "import seaborn as sns\n",
    "import statsmodels.formula.api as smf\n",
    "import math\n",
    "from statsmodels.sandbox.regression.predstd import wls_prediction_std\n",
    "%matplotlib inline \n",
    "pd.options.display.float_format = '{:.3f}'.format\n",
    "\n",
    "# Suppress annoying harmless error.\n",
    "import warnings\n",
    "warnings.filterwarnings(action=\"ignore\", module=\"scipy\", message=\"^internal gelsd\")"
   ]
  },
  {
   "cell_type": "code",
   "execution_count": 2,
   "metadata": {},
   "outputs": [],
   "source": [
    "df = pd.read_csv('Offenses known 2013.csv', skiprows=4)"
   ]
  },
  {
   "cell_type": "code",
   "execution_count": 3,
   "metadata": {},
   "outputs": [
    {
     "data": {
      "text/plain": [
       "Index(['City', 'Population', 'Violent\\ncrime',\n",
       "       'Murder and\\nnonnegligent\\nmanslaughter',\n",
       "       'Rape\\n(revised\\ndefinition)1', 'Rape\\n(legacy\\ndefinition)2',\n",
       "       'Robbery', 'Aggravated\\nassault', 'Property\\ncrime', 'Burglary',\n",
       "       'Larceny-\\ntheft', 'Motor\\nvehicle\\ntheft', 'Arson3'],\n",
       "      dtype='object')"
      ]
     },
     "execution_count": 3,
     "metadata": {},
     "output_type": "execute_result"
    }
   ],
   "source": [
    "df.columns"
   ]
  },
  {
   "cell_type": "code",
   "execution_count": 4,
   "metadata": {},
   "outputs": [
    {
     "data": {
      "text/html": [
       "<div>\n",
       "<style scoped>\n",
       "    .dataframe tbody tr th:only-of-type {\n",
       "        vertical-align: middle;\n",
       "    }\n",
       "\n",
       "    .dataframe tbody tr th {\n",
       "        vertical-align: top;\n",
       "    }\n",
       "\n",
       "    .dataframe thead th {\n",
       "        text-align: right;\n",
       "    }\n",
       "</style>\n",
       "<table border=\"1\" class=\"dataframe\">\n",
       "  <thead>\n",
       "    <tr style=\"text-align: right;\">\n",
       "      <th></th>\n",
       "      <th>City</th>\n",
       "      <th>Population</th>\n",
       "      <th>Violent\n",
       "crime</th>\n",
       "      <th>Murder and\n",
       "nonnegligent\n",
       "manslaughter</th>\n",
       "      <th>Rape\n",
       "(revised\n",
       "definition)1</th>\n",
       "      <th>Rape\n",
       "(legacy\n",
       "definition)2</th>\n",
       "      <th>Robbery</th>\n",
       "      <th>Aggravated\n",
       "assault</th>\n",
       "      <th>Property\n",
       "crime</th>\n",
       "      <th>Burglary</th>\n",
       "      <th>Larceny-\n",
       "theft</th>\n",
       "      <th>Motor\n",
       "vehicle\n",
       "theft</th>\n",
       "      <th>Arson3</th>\n",
       "    </tr>\n",
       "  </thead>\n",
       "  <tbody>\n",
       "    <tr>\n",
       "      <th>0</th>\n",
       "      <td>Adams Village</td>\n",
       "      <td>1,861</td>\n",
       "      <td>0</td>\n",
       "      <td>0.000</td>\n",
       "      <td>nan</td>\n",
       "      <td>0</td>\n",
       "      <td>0</td>\n",
       "      <td>0</td>\n",
       "      <td>12</td>\n",
       "      <td>2</td>\n",
       "      <td>10</td>\n",
       "      <td>0</td>\n",
       "      <td>0.000</td>\n",
       "    </tr>\n",
       "    <tr>\n",
       "      <th>1</th>\n",
       "      <td>Addison Town and Village</td>\n",
       "      <td>2,577</td>\n",
       "      <td>3</td>\n",
       "      <td>0.000</td>\n",
       "      <td>nan</td>\n",
       "      <td>0</td>\n",
       "      <td>0</td>\n",
       "      <td>3</td>\n",
       "      <td>24</td>\n",
       "      <td>3</td>\n",
       "      <td>20</td>\n",
       "      <td>1</td>\n",
       "      <td>0.000</td>\n",
       "    </tr>\n",
       "    <tr>\n",
       "      <th>2</th>\n",
       "      <td>Akron Village</td>\n",
       "      <td>2,846</td>\n",
       "      <td>3</td>\n",
       "      <td>0.000</td>\n",
       "      <td>nan</td>\n",
       "      <td>0</td>\n",
       "      <td>0</td>\n",
       "      <td>3</td>\n",
       "      <td>16</td>\n",
       "      <td>1</td>\n",
       "      <td>15</td>\n",
       "      <td>0</td>\n",
       "      <td>0.000</td>\n",
       "    </tr>\n",
       "    <tr>\n",
       "      <th>3</th>\n",
       "      <td>Albany</td>\n",
       "      <td>97,956</td>\n",
       "      <td>791</td>\n",
       "      <td>8.000</td>\n",
       "      <td>nan</td>\n",
       "      <td>30</td>\n",
       "      <td>227</td>\n",
       "      <td>526</td>\n",
       "      <td>4,090</td>\n",
       "      <td>705</td>\n",
       "      <td>3,243</td>\n",
       "      <td>142</td>\n",
       "      <td>nan</td>\n",
       "    </tr>\n",
       "    <tr>\n",
       "      <th>4</th>\n",
       "      <td>Albion Village</td>\n",
       "      <td>6,388</td>\n",
       "      <td>23</td>\n",
       "      <td>0.000</td>\n",
       "      <td>nan</td>\n",
       "      <td>3</td>\n",
       "      <td>4</td>\n",
       "      <td>16</td>\n",
       "      <td>223</td>\n",
       "      <td>53</td>\n",
       "      <td>165</td>\n",
       "      <td>5</td>\n",
       "      <td>nan</td>\n",
       "    </tr>\n",
       "    <tr>\n",
       "      <th>5</th>\n",
       "      <td>Alfred Village</td>\n",
       "      <td>4,089</td>\n",
       "      <td>5</td>\n",
       "      <td>0.000</td>\n",
       "      <td>nan</td>\n",
       "      <td>0</td>\n",
       "      <td>3</td>\n",
       "      <td>2</td>\n",
       "      <td>46</td>\n",
       "      <td>10</td>\n",
       "      <td>36</td>\n",
       "      <td>0</td>\n",
       "      <td>nan</td>\n",
       "    </tr>\n",
       "    <tr>\n",
       "      <th>6</th>\n",
       "      <td>Allegany Village</td>\n",
       "      <td>1,781</td>\n",
       "      <td>3</td>\n",
       "      <td>0.000</td>\n",
       "      <td>nan</td>\n",
       "      <td>0</td>\n",
       "      <td>0</td>\n",
       "      <td>3</td>\n",
       "      <td>10</td>\n",
       "      <td>0</td>\n",
       "      <td>10</td>\n",
       "      <td>0</td>\n",
       "      <td>0.000</td>\n",
       "    </tr>\n",
       "    <tr>\n",
       "      <th>7</th>\n",
       "      <td>Amherst Town</td>\n",
       "      <td>118,296</td>\n",
       "      <td>107</td>\n",
       "      <td>1.000</td>\n",
       "      <td>nan</td>\n",
       "      <td>7</td>\n",
       "      <td>31</td>\n",
       "      <td>68</td>\n",
       "      <td>2,118</td>\n",
       "      <td>204</td>\n",
       "      <td>1,882</td>\n",
       "      <td>32</td>\n",
       "      <td>3.000</td>\n",
       "    </tr>\n",
       "    <tr>\n",
       "      <th>8</th>\n",
       "      <td>Amityville Village</td>\n",
       "      <td>9,519</td>\n",
       "      <td>9</td>\n",
       "      <td>0.000</td>\n",
       "      <td>nan</td>\n",
       "      <td>2</td>\n",
       "      <td>4</td>\n",
       "      <td>3</td>\n",
       "      <td>210</td>\n",
       "      <td>16</td>\n",
       "      <td>188</td>\n",
       "      <td>6</td>\n",
       "      <td>1.000</td>\n",
       "    </tr>\n",
       "    <tr>\n",
       "      <th>9</th>\n",
       "      <td>Amsterdam</td>\n",
       "      <td>18,182</td>\n",
       "      <td>30</td>\n",
       "      <td>0.000</td>\n",
       "      <td>nan</td>\n",
       "      <td>0</td>\n",
       "      <td>12</td>\n",
       "      <td>18</td>\n",
       "      <td>405</td>\n",
       "      <td>99</td>\n",
       "      <td>291</td>\n",
       "      <td>15</td>\n",
       "      <td>0.000</td>\n",
       "    </tr>\n",
       "    <tr>\n",
       "      <th>10</th>\n",
       "      <td>Arcade Village</td>\n",
       "      <td>2,053</td>\n",
       "      <td>0</td>\n",
       "      <td>0.000</td>\n",
       "      <td>nan</td>\n",
       "      <td>0</td>\n",
       "      <td>0</td>\n",
       "      <td>0</td>\n",
       "      <td>39</td>\n",
       "      <td>3</td>\n",
       "      <td>35</td>\n",
       "      <td>1</td>\n",
       "      <td>0.000</td>\n",
       "    </tr>\n",
       "    <tr>\n",
       "      <th>11</th>\n",
       "      <td>Ardsley Village</td>\n",
       "      <td>4,523</td>\n",
       "      <td>5</td>\n",
       "      <td>0.000</td>\n",
       "      <td>nan</td>\n",
       "      <td>0</td>\n",
       "      <td>3</td>\n",
       "      <td>2</td>\n",
       "      <td>33</td>\n",
       "      <td>4</td>\n",
       "      <td>28</td>\n",
       "      <td>1</td>\n",
       "      <td>0.000</td>\n",
       "    </tr>\n",
       "    <tr>\n",
       "      <th>12</th>\n",
       "      <td>Asharoken Village</td>\n",
       "      <td>658</td>\n",
       "      <td>0</td>\n",
       "      <td>0.000</td>\n",
       "      <td>nan</td>\n",
       "      <td>0</td>\n",
       "      <td>0</td>\n",
       "      <td>0</td>\n",
       "      <td>2</td>\n",
       "      <td>0</td>\n",
       "      <td>2</td>\n",
       "      <td>0</td>\n",
       "      <td>0.000</td>\n",
       "    </tr>\n",
       "    <tr>\n",
       "      <th>13</th>\n",
       "      <td>Attica Village</td>\n",
       "      <td>2,522</td>\n",
       "      <td>2</td>\n",
       "      <td>0.000</td>\n",
       "      <td>nan</td>\n",
       "      <td>0</td>\n",
       "      <td>0</td>\n",
       "      <td>2</td>\n",
       "      <td>5</td>\n",
       "      <td>0</td>\n",
       "      <td>4</td>\n",
       "      <td>1</td>\n",
       "      <td>0.000</td>\n",
       "    </tr>\n",
       "    <tr>\n",
       "      <th>14</th>\n",
       "      <td>Auburn</td>\n",
       "      <td>27,270</td>\n",
       "      <td>96</td>\n",
       "      <td>1.000</td>\n",
       "      <td>nan</td>\n",
       "      <td>20</td>\n",
       "      <td>22</td>\n",
       "      <td>53</td>\n",
       "      <td>859</td>\n",
       "      <td>132</td>\n",
       "      <td>721</td>\n",
       "      <td>6</td>\n",
       "      <td>nan</td>\n",
       "    </tr>\n",
       "    <tr>\n",
       "      <th>15</th>\n",
       "      <td>Avon Village</td>\n",
       "      <td>3,333</td>\n",
       "      <td>1</td>\n",
       "      <td>0.000</td>\n",
       "      <td>nan</td>\n",
       "      <td>0</td>\n",
       "      <td>1</td>\n",
       "      <td>0</td>\n",
       "      <td>25</td>\n",
       "      <td>3</td>\n",
       "      <td>20</td>\n",
       "      <td>2</td>\n",
       "      <td>nan</td>\n",
       "    </tr>\n",
       "    <tr>\n",
       "      <th>16</th>\n",
       "      <td>Baldwinsville Village</td>\n",
       "      <td>7,473</td>\n",
       "      <td>5</td>\n",
       "      <td>0.000</td>\n",
       "      <td>nan</td>\n",
       "      <td>0</td>\n",
       "      <td>1</td>\n",
       "      <td>4</td>\n",
       "      <td>88</td>\n",
       "      <td>10</td>\n",
       "      <td>77</td>\n",
       "      <td>1</td>\n",
       "      <td>0.000</td>\n",
       "    </tr>\n",
       "    <tr>\n",
       "      <th>17</th>\n",
       "      <td>Ballston Spa Village</td>\n",
       "      <td>5,418</td>\n",
       "      <td>8</td>\n",
       "      <td>0.000</td>\n",
       "      <td>nan</td>\n",
       "      <td>0</td>\n",
       "      <td>3</td>\n",
       "      <td>5</td>\n",
       "      <td>94</td>\n",
       "      <td>16</td>\n",
       "      <td>78</td>\n",
       "      <td>0</td>\n",
       "      <td>1.000</td>\n",
       "    </tr>\n",
       "    <tr>\n",
       "      <th>18</th>\n",
       "      <td>Batavia</td>\n",
       "      <td>15,374</td>\n",
       "      <td>57</td>\n",
       "      <td>0.000</td>\n",
       "      <td>nan</td>\n",
       "      <td>7</td>\n",
       "      <td>13</td>\n",
       "      <td>37</td>\n",
       "      <td>559</td>\n",
       "      <td>103</td>\n",
       "      <td>454</td>\n",
       "      <td>2</td>\n",
       "      <td>nan</td>\n",
       "    </tr>\n",
       "    <tr>\n",
       "      <th>19</th>\n",
       "      <td>Bath Village</td>\n",
       "      <td>5,733</td>\n",
       "      <td>15</td>\n",
       "      <td>0.000</td>\n",
       "      <td>nan</td>\n",
       "      <td>1</td>\n",
       "      <td>3</td>\n",
       "      <td>11</td>\n",
       "      <td>191</td>\n",
       "      <td>32</td>\n",
       "      <td>157</td>\n",
       "      <td>2</td>\n",
       "      <td>2.000</td>\n",
       "    </tr>\n",
       "  </tbody>\n",
       "</table>\n",
       "</div>"
      ],
      "text/plain": [
       "                        City Population Violent\\ncrime  \\\n",
       "0              Adams Village      1,861              0   \n",
       "1   Addison Town and Village      2,577              3   \n",
       "2              Akron Village      2,846              3   \n",
       "3                     Albany     97,956            791   \n",
       "4             Albion Village      6,388             23   \n",
       "5             Alfred Village      4,089              5   \n",
       "6           Allegany Village      1,781              3   \n",
       "7               Amherst Town    118,296            107   \n",
       "8         Amityville Village      9,519              9   \n",
       "9                  Amsterdam     18,182             30   \n",
       "10            Arcade Village      2,053              0   \n",
       "11           Ardsley Village      4,523              5   \n",
       "12         Asharoken Village        658              0   \n",
       "13            Attica Village      2,522              2   \n",
       "14                    Auburn     27,270             96   \n",
       "15              Avon Village      3,333              1   \n",
       "16     Baldwinsville Village      7,473              5   \n",
       "17      Ballston Spa Village      5,418              8   \n",
       "18                   Batavia     15,374             57   \n",
       "19              Bath Village      5,733             15   \n",
       "\n",
       "    Murder and\\nnonnegligent\\nmanslaughter  Rape\\n(revised\\ndefinition)1  \\\n",
       "0                                    0.000                           nan   \n",
       "1                                    0.000                           nan   \n",
       "2                                    0.000                           nan   \n",
       "3                                    8.000                           nan   \n",
       "4                                    0.000                           nan   \n",
       "5                                    0.000                           nan   \n",
       "6                                    0.000                           nan   \n",
       "7                                    1.000                           nan   \n",
       "8                                    0.000                           nan   \n",
       "9                                    0.000                           nan   \n",
       "10                                   0.000                           nan   \n",
       "11                                   0.000                           nan   \n",
       "12                                   0.000                           nan   \n",
       "13                                   0.000                           nan   \n",
       "14                                   1.000                           nan   \n",
       "15                                   0.000                           nan   \n",
       "16                                   0.000                           nan   \n",
       "17                                   0.000                           nan   \n",
       "18                                   0.000                           nan   \n",
       "19                                   0.000                           nan   \n",
       "\n",
       "   Rape\\n(legacy\\ndefinition)2 Robbery Aggravated\\nassault Property\\ncrime  \\\n",
       "0                            0       0                   0              12   \n",
       "1                            0       0                   3              24   \n",
       "2                            0       0                   3              16   \n",
       "3                           30     227                 526           4,090   \n",
       "4                            3       4                  16             223   \n",
       "5                            0       3                   2              46   \n",
       "6                            0       0                   3              10   \n",
       "7                            7      31                  68           2,118   \n",
       "8                            2       4                   3             210   \n",
       "9                            0      12                  18             405   \n",
       "10                           0       0                   0              39   \n",
       "11                           0       3                   2              33   \n",
       "12                           0       0                   0               2   \n",
       "13                           0       0                   2               5   \n",
       "14                          20      22                  53             859   \n",
       "15                           0       1                   0              25   \n",
       "16                           0       1                   4              88   \n",
       "17                           0       3                   5              94   \n",
       "18                           7      13                  37             559   \n",
       "19                           1       3                  11             191   \n",
       "\n",
       "   Burglary Larceny-\\ntheft Motor\\nvehicle\\ntheft  Arson3  \n",
       "0         2              10                     0   0.000  \n",
       "1         3              20                     1   0.000  \n",
       "2         1              15                     0   0.000  \n",
       "3       705           3,243                   142     nan  \n",
       "4        53             165                     5     nan  \n",
       "5        10              36                     0     nan  \n",
       "6         0              10                     0   0.000  \n",
       "7       204           1,882                    32   3.000  \n",
       "8        16             188                     6   1.000  \n",
       "9        99             291                    15   0.000  \n",
       "10        3              35                     1   0.000  \n",
       "11        4              28                     1   0.000  \n",
       "12        0               2                     0   0.000  \n",
       "13        0               4                     1   0.000  \n",
       "14      132             721                     6     nan  \n",
       "15        3              20                     2     nan  \n",
       "16       10              77                     1   0.000  \n",
       "17       16              78                     0   1.000  \n",
       "18      103             454                     2     nan  \n",
       "19       32             157                     2   2.000  "
      ]
     },
     "execution_count": 4,
     "metadata": {},
     "output_type": "execute_result"
    }
   ],
   "source": [
    "df.head(20)"
   ]
  },
  {
   "cell_type": "code",
   "execution_count": 5,
   "metadata": {},
   "outputs": [
    {
     "data": {
      "text/plain": [
       "City                                       object\n",
       "Population                                 object\n",
       "Violent\\ncrime                             object\n",
       "Murder and\\nnonnegligent\\nmanslaughter    float64\n",
       "Rape\\n(revised\\ndefinition)1              float64\n",
       "Rape\\n(legacy\\ndefinition)2                object\n",
       "Robbery                                    object\n",
       "Aggravated\\nassault                        object\n",
       "Property\\ncrime                            object\n",
       "Burglary                                   object\n",
       "Larceny-\\ntheft                            object\n",
       "Motor\\nvehicle\\ntheft                      object\n",
       "Arson3                                    float64\n",
       "dtype: object"
      ]
     },
     "execution_count": 5,
     "metadata": {},
     "output_type": "execute_result"
    }
   ],
   "source": [
    "# Check what type of data I have.\n",
    "df.dtypes"
   ]
  },
  {
   "cell_type": "code",
   "execution_count": 6,
   "metadata": {},
   "outputs": [],
   "source": [
    "# Rename murder to a more convenient name.\n",
    "df['Murder'] = df['Murder and\\nnonnegligent\\nmanslaughter']\n",
    "df['Property_Crime'] = df['Property\\ncrime']\n",
    "\n",
    "# first remove the commas \n",
    "df['Robbery'] = df['Robbery'].str.replace(',', '')\n",
    "df['Population'] = df['Population'].str.replace(',', '')\n",
    "df['Property_Crime'] = df['Property_Crime'].str.replace(',', '')"
   ]
  },
  {
   "cell_type": "code",
   "execution_count": 7,
   "metadata": {},
   "outputs": [],
   "source": [
    "# change robbery, and population to int.\n",
    "df[['Robbery', 'Population', 'Murder']] = df[['Robbery', 'Population', 'Murder']].apply(pd.to_numeric)"
   ]
  },
  {
   "cell_type": "code",
   "execution_count": 8,
   "metadata": {},
   "outputs": [],
   "source": [
    "# Make population squared.\n",
    "df['Popsqrd'] = df['Population'] * df['Population']"
   ]
  },
  {
   "cell_type": "code",
   "execution_count": 9,
   "metadata": {},
   "outputs": [
    {
     "name": "stdout",
     "output_type": "stream",
     "text": [
      "                           City  Population         Popsqrd  Murder  Robbery\n",
      "0                 Adams Village    1861.000     3463321.000   0.000    0.000\n",
      "1      Addison Town and Village    2577.000     6640929.000   0.000    0.000\n",
      "2                 Akron Village    2846.000     8099716.000   0.000    0.000\n",
      "3                        Albany   97956.000  9595377936.000   8.000  227.000\n",
      "4                Albion Village    6388.000    40806544.000   0.000    4.000\n",
      "5                Alfred Village    4089.000    16719921.000   0.000    3.000\n",
      "6              Allegany Village    1781.000     3171961.000   0.000    0.000\n",
      "7                  Amherst Town  118296.000 13993943616.000   1.000   31.000\n",
      "8            Amityville Village    9519.000    90611361.000   0.000    4.000\n",
      "9                     Amsterdam   18182.000   330585124.000   0.000   12.000\n",
      "10               Arcade Village    2053.000     4214809.000   0.000    0.000\n",
      "11              Ardsley Village    4523.000    20457529.000   0.000    3.000\n",
      "12            Asharoken Village     658.000      432964.000   0.000    0.000\n",
      "13               Attica Village    2522.000     6360484.000   0.000    0.000\n",
      "14                       Auburn   27270.000   743652900.000   1.000   22.000\n",
      "15                 Avon Village    3333.000    11108889.000   0.000    1.000\n",
      "16        Baldwinsville Village    7473.000    55845729.000   0.000    1.000\n",
      "17         Ballston Spa Village    5418.000    29354724.000   0.000    3.000\n",
      "18                      Batavia   15374.000   236359876.000   0.000   13.000\n",
      "19                 Bath Village    5733.000    32867289.000   0.000    3.000\n",
      "20                 Bedford Town   17627.000   310711129.000   0.000    1.000\n",
      "21               Bethlehem Town   34243.000  1172583049.000   0.000    3.000\n",
      "22                   Binghamton   46304.000  2144060416.000   3.000  101.000\n",
      "23                  Black River    1410.000     1988100.000   0.000    0.000\n",
      "24          Blooming Grove Town   12001.000   144024001.000   0.000    0.000\n",
      "25              Bolivar Village    1022.000     1044484.000   0.000    0.000\n",
      "26                  Bolton Town    2325.000     5405625.000   0.000    0.000\n",
      "27            Boonville Village    2054.000     4218916.000   0.000    0.000\n",
      "28                   Brant Town    2065.000     4264225.000   0.000    1.000\n",
      "29                     Brewster    2358.000     5560164.000   0.000    0.000\n",
      "..                          ...         ...             ...     ...      ...\n",
      "318         Tupper Lake Village    3642.000    13264164.000   0.000    0.000\n",
      "319         Tuxedo Park Village     615.000      378225.000   0.000    0.000\n",
      "320                 Ulster Town   12195.000   148718025.000   0.000    2.000\n",
      "321                       Utica   61686.000  3805162596.000   7.000  102.000\n",
      "322                 Vestal Town   27980.000   782880400.000   0.000    6.000\n",
      "323              Walden Village    6887.000    47430769.000   1.000    1.000\n",
      "324               Wallkill Town   27940.000   780643600.000   0.000   16.000\n",
      "325              Walton Village    3012.000     9072144.000   0.000    0.000\n",
      "326              Warsaw Village    3453.000    11923209.000   0.000    0.000\n",
      "327     Washingtonville Village    5828.000    33965584.000   0.000    1.000\n",
      "328  Waterford Town and Village    8392.000    70425664.000   0.000    0.000\n",
      "329            Waterloo Village    5175.000    26780625.000   0.000    3.000\n",
      "330                   Watertown   28179.000   794056041.000   0.000   16.000\n",
      "331                  Watervliet   10245.000   104960025.000   1.000   11.000\n",
      "332        Watkins Glen Village    1862.000     3467044.000   0.000    0.000\n",
      "333             Waverly Village    4337.000    18809569.000   0.000    1.000\n",
      "334    Webster Town and Village   43777.000  1916425729.000   0.000    3.000\n",
      "335           Weedsport Village    1797.000     3229209.000   0.000    0.000\n",
      "336          Wellsville Village    4574.000    20921476.000   0.000    0.000\n",
      "337   Westhampton Beach Village    1732.000     2999824.000   0.000    0.000\n",
      "338            West Seneca Town   44821.000  2008922041.000   1.000    9.000\n",
      "339           Whitehall Village    2604.000     6780816.000   0.000    0.000\n",
      "340                White Plains   57559.000  3313038481.000   1.000   28.000\n",
      "341          Whitesboro Village    3733.000    13935289.000   0.000    0.000\n",
      "342             Whitestown Town    9141.000    83557881.000   0.000    0.000\n",
      "343               Woodbury Town   10685.000   114169225.000   0.000    2.000\n",
      "344           Woodridge Village     829.000      687241.000   0.000    0.000\n",
      "345              Woodstock Town    5931.000    35176761.000   0.000    0.000\n",
      "346                     Yonkers  199134.000 39654349956.000   6.000  390.000\n",
      "347               Yorktown Town   36643.000  1342709449.000   0.000    2.000\n",
      "\n",
      "[348 rows x 5 columns]\n"
     ]
    }
   ],
   "source": [
    "# Remove the Nan and show that my data is now useable. \n",
    "print(df[['City', 'Population', 'Popsqrd', 'Murder', 'Robbery' ]].dropna())"
   ]
  },
  {
   "cell_type": "markdown",
   "metadata": {},
   "source": [
    "# U2 L4 P4 Challenge: Make My Own Regression Model\n",
    "Using this data, build a regression model to predict property crimes. You can use the features you prepared in the previous assignment, new features of your own choosing, or a combination. The goal here is prediction rather than understanding mechanisms, so the focus is on creating a model that explains a lot of variance.\n",
    "\n",
    "Submit a notebook with your model and a brief writeup of your feature engineering and selection process to submit and review with your mentor."
   ]
  },
  {
   "cell_type": "code",
   "execution_count": 10,
   "metadata": {},
   "outputs": [],
   "source": [
    "# Make violent crime a usable stat. Get rid of the commas.\n",
    "df['Violent_Crime'] = df['Violent\\ncrime'].str.replace(',', '')\n",
    "# Turn Violent Crime into an int.\n",
    "df['Violent_Crime'] = df['Violent_Crime'].apply(pd.to_numeric)\n",
    "# Turn Property Crime into an int. Already transformed it up top in an earlier cell.\n",
    "df['Property_Crime'] = df['Property_Crime'].apply(pd.to_numeric)\n",
    "\n"
   ]
  },
  {
   "cell_type": "code",
   "execution_count": 11,
   "metadata": {},
   "outputs": [],
   "source": [
    "# Make sure that all the data that I've selected is usable. \n",
    "data = df[['Murder', 'Robbery', 'Population', 'Violent_Crime', 'Property_Crime']].dropna()"
   ]
  },
  {
   "cell_type": "code",
   "execution_count": 12,
   "metadata": {},
   "outputs": [
    {
     "data": {
      "text/html": [
       "<div>\n",
       "<style scoped>\n",
       "    .dataframe tbody tr th:only-of-type {\n",
       "        vertical-align: middle;\n",
       "    }\n",
       "\n",
       "    .dataframe tbody tr th {\n",
       "        vertical-align: top;\n",
       "    }\n",
       "\n",
       "    .dataframe thead th {\n",
       "        text-align: right;\n",
       "    }\n",
       "</style>\n",
       "<table border=\"1\" class=\"dataframe\">\n",
       "  <thead>\n",
       "    <tr style=\"text-align: right;\">\n",
       "      <th></th>\n",
       "      <th>Murder</th>\n",
       "      <th>Robbery</th>\n",
       "      <th>Population</th>\n",
       "      <th>Violent_Crime</th>\n",
       "      <th>Property_Crime</th>\n",
       "    </tr>\n",
       "  </thead>\n",
       "  <tbody>\n",
       "    <tr>\n",
       "      <th>count</th>\n",
       "      <td>348.000</td>\n",
       "      <td>348.000</td>\n",
       "      <td>348.000</td>\n",
       "      <td>348.000</td>\n",
       "      <td>348.000</td>\n",
       "    </tr>\n",
       "    <tr>\n",
       "      <th>mean</th>\n",
       "      <td>1.566</td>\n",
       "      <td>72.902</td>\n",
       "      <td>40037.632</td>\n",
       "      <td>201.595</td>\n",
       "      <td>792.606</td>\n",
       "    </tr>\n",
       "    <tr>\n",
       "      <th>std</th>\n",
       "      <td>18.304</td>\n",
       "      <td>1031.033</td>\n",
       "      <td>450037.368</td>\n",
       "      <td>2815.269</td>\n",
       "      <td>7659.725</td>\n",
       "    </tr>\n",
       "    <tr>\n",
       "      <th>min</th>\n",
       "      <td>0.000</td>\n",
       "      <td>0.000</td>\n",
       "      <td>526.000</td>\n",
       "      <td>0.000</td>\n",
       "      <td>0.000</td>\n",
       "    </tr>\n",
       "    <tr>\n",
       "      <th>25%</th>\n",
       "      <td>0.000</td>\n",
       "      <td>0.000</td>\n",
       "      <td>3003.000</td>\n",
       "      <td>2.000</td>\n",
       "      <td>40.500</td>\n",
       "    </tr>\n",
       "    <tr>\n",
       "      <th>50%</th>\n",
       "      <td>0.000</td>\n",
       "      <td>1.000</td>\n",
       "      <td>7233.500</td>\n",
       "      <td>6.000</td>\n",
       "      <td>112.500</td>\n",
       "    </tr>\n",
       "    <tr>\n",
       "      <th>75%</th>\n",
       "      <td>0.000</td>\n",
       "      <td>5.000</td>\n",
       "      <td>18427.500</td>\n",
       "      <td>22.000</td>\n",
       "      <td>341.000</td>\n",
       "    </tr>\n",
       "    <tr>\n",
       "      <th>max</th>\n",
       "      <td>335.000</td>\n",
       "      <td>19170.000</td>\n",
       "      <td>8396126.000</td>\n",
       "      <td>52384.000</td>\n",
       "      <td>141971.000</td>\n",
       "    </tr>\n",
       "  </tbody>\n",
       "</table>\n",
       "</div>"
      ],
      "text/plain": [
       "       Murder   Robbery  Population  Violent_Crime  Property_Crime\n",
       "count 348.000   348.000     348.000        348.000         348.000\n",
       "mean    1.566    72.902   40037.632        201.595         792.606\n",
       "std    18.304  1031.033  450037.368       2815.269        7659.725\n",
       "min     0.000     0.000     526.000          0.000           0.000\n",
       "25%     0.000     0.000    3003.000          2.000          40.500\n",
       "50%     0.000     1.000    7233.500          6.000         112.500\n",
       "75%     0.000     5.000   18427.500         22.000         341.000\n",
       "max   335.000 19170.000 8396126.000      52384.000      141971.000"
      ]
     },
     "execution_count": 12,
     "metadata": {},
     "output_type": "execute_result"
    }
   ],
   "source": [
    "# Attempting to clean the data a bit before using it.\n",
    "data.describe()"
   ]
  },
  {
   "cell_type": "markdown",
   "metadata": {},
   "source": [
    "- Noticed that murder and robbery have an insanely large range, so I will change them both into categorical variables to see what happens.\n",
    "- Changing either of them to booleans gave me the R^2 value of (-.013). Will dismiss and use something else.\n",
    "- Dropping row 216 lowered the R^2 so maybe allowing less outliers will reduce overfitting."
   ]
  },
  {
   "cell_type": "code",
   "execution_count": 13,
   "metadata": {},
   "outputs": [],
   "source": [
    "# data['Murder_cat'] = np.where(data.loc[:, 'Murder']>=0, 1, 0) \n",
    "# data['Robbery_cat'] = np.where(data.loc[:, 'Robbery']>=0, 1, 0) \n",
    "# Remove the outlier in Robbery\n",
    "# print(data[data['Robbery'] > 5000]) only row 216. remove\n",
    "data = data.drop([216])"
   ]
  },
  {
   "cell_type": "code",
   "execution_count": 14,
   "metadata": {},
   "outputs": [
    {
     "data": {
      "text/plain": [
       "(array([285.,  44.,   6.,   7.,   1.,   1.,   0.,   1.,   1.,   1.]),\n",
       " array([   526. ,  26352.3,  52178.6,  78004.9, 103831.2, 129657.5,\n",
       "        155483.8, 181310.1, 207136.4, 232962.7, 258789. ]),\n",
       " <a list of 10 Patch objects>)"
      ]
     },
     "execution_count": 14,
     "metadata": {},
     "output_type": "execute_result"
    },
    {
     "data": {
      "image/png": "[encoded data removed]",
      "text/plain": [
       "<matplotlib.figure.Figure at 0x114afc2b0>"
      ]
     },
     "metadata": {},
     "output_type": "display_data"
    }
   ],
   "source": [
    "# Control for population \n",
    "plt.hist(data['Population']) "
   ]
  },
  {
   "cell_type": "code",
   "execution_count": 15,
   "metadata": {},
   "outputs": [],
   "source": [
    "data = data.query('Population<65000')"
   ]
  },
  {
   "cell_type": "markdown",
   "metadata": {},
   "source": [
    "Most population counts aren't over 50k but I will use up to 65k to account for some of the outliers."
   ]
  },
  {
   "cell_type": "code",
   "execution_count": 16,
   "metadata": {},
   "outputs": [
    {
     "data": {
      "text/html": [
       "<div>\n",
       "<style scoped>\n",
       "    .dataframe tbody tr th:only-of-type {\n",
       "        vertical-align: middle;\n",
       "    }\n",
       "\n",
       "    .dataframe tbody tr th {\n",
       "        vertical-align: top;\n",
       "    }\n",
       "\n",
       "    .dataframe thead th {\n",
       "        text-align: right;\n",
       "    }\n",
       "</style>\n",
       "<table border=\"1\" class=\"dataframe\">\n",
       "  <thead>\n",
       "    <tr style=\"text-align: right;\">\n",
       "      <th></th>\n",
       "      <th>Murder</th>\n",
       "      <th>Robbery</th>\n",
       "      <th>Population</th>\n",
       "      <th>Violent_Crime</th>\n",
       "      <th>Property_Crime</th>\n",
       "    </tr>\n",
       "  </thead>\n",
       "  <tbody>\n",
       "    <tr>\n",
       "      <th>count</th>\n",
       "      <td>333.000</td>\n",
       "      <td>333.000</td>\n",
       "      <td>333.000</td>\n",
       "      <td>333.000</td>\n",
       "      <td>333.000</td>\n",
       "    </tr>\n",
       "    <tr>\n",
       "      <th>mean</th>\n",
       "      <td>0.219</td>\n",
       "      <td>6.712</td>\n",
       "      <td>11634.640</td>\n",
       "      <td>22.399</td>\n",
       "      <td>244.967</td>\n",
       "    </tr>\n",
       "    <tr>\n",
       "      <th>std</th>\n",
       "      <td>0.917</td>\n",
       "      <td>21.581</td>\n",
       "      <td>12375.324</td>\n",
       "      <td>60.894</td>\n",
       "      <td>368.681</td>\n",
       "    </tr>\n",
       "    <tr>\n",
       "      <th>min</th>\n",
       "      <td>0.000</td>\n",
       "      <td>0.000</td>\n",
       "      <td>526.000</td>\n",
       "      <td>0.000</td>\n",
       "      <td>0.000</td>\n",
       "    </tr>\n",
       "    <tr>\n",
       "      <th>25%</th>\n",
       "      <td>0.000</td>\n",
       "      <td>0.000</td>\n",
       "      <td>2846.000</td>\n",
       "      <td>2.000</td>\n",
       "      <td>38.000</td>\n",
       "    </tr>\n",
       "    <tr>\n",
       "      <th>50%</th>\n",
       "      <td>0.000</td>\n",
       "      <td>1.000</td>\n",
       "      <td>6794.000</td>\n",
       "      <td>6.000</td>\n",
       "      <td>107.000</td>\n",
       "    </tr>\n",
       "    <tr>\n",
       "      <th>75%</th>\n",
       "      <td>0.000</td>\n",
       "      <td>4.000</td>\n",
       "      <td>15374.000</td>\n",
       "      <td>18.000</td>\n",
       "      <td>313.000</td>\n",
       "    </tr>\n",
       "    <tr>\n",
       "      <th>max</th>\n",
       "      <td>10.000</td>\n",
       "      <td>204.000</td>\n",
       "      <td>61686.000</td>\n",
       "      <td>584.000</td>\n",
       "      <td>2807.000</td>\n",
       "    </tr>\n",
       "  </tbody>\n",
       "</table>\n",
       "</div>"
      ],
      "text/plain": [
       "       Murder  Robbery  Population  Violent_Crime  Property_Crime\n",
       "count 333.000  333.000     333.000        333.000         333.000\n",
       "mean    0.219    6.712   11634.640         22.399         244.967\n",
       "std     0.917   21.581   12375.324         60.894         368.681\n",
       "min     0.000    0.000     526.000          0.000           0.000\n",
       "25%     0.000    0.000    2846.000          2.000          38.000\n",
       "50%     0.000    1.000    6794.000          6.000         107.000\n",
       "75%     0.000    4.000   15374.000         18.000         313.000\n",
       "max    10.000  204.000   61686.000        584.000        2807.000"
      ]
     },
     "execution_count": 16,
     "metadata": {},
     "output_type": "execute_result"
    }
   ],
   "source": [
    "data.describe()"
   ]
  },
  {
   "cell_type": "markdown",
   "metadata": {},
   "source": [
    "Hopefully, this time around things might look better."
   ]
  },
  {
   "cell_type": "markdown",
   "metadata": {},
   "source": [
    "# Model 1"
   ]
  },
  {
   "cell_type": "code",
   "execution_count": 17,
   "metadata": {},
   "outputs": [
    {
     "name": "stdout",
     "output_type": "stream",
     "text": [
      "\n",
      "Coefficients: \n",
      " [[ 1.62739387e-02 -7.50619365e+00  6.02236144e+00 -5.82503701e+01]]\n",
      "\n",
      "Intercept: \n",
      " [-16.12271574]\n",
      "\n",
      "R-squared:\n",
      "0.8263741107495083\n"
     ]
    }
   ],
   "source": [
    "# Model with just X and Y were grossly overfitted. Must fix\n",
    "# Instantiate and fit our model.\n",
    "regr = linear_model.LinearRegression()\n",
    "Y = data['Property_Crime'].values.reshape(-1, 1)\n",
    "X = data[['Population','Robbery','Violent_Crime', 'Murder']]\n",
    "# Square the parameters so that we can achieve homoscedasticity.\n",
    "data['Robbery Sqrd'] = data['Robbery'] * data['Robbery']\n",
    "data['Violent Crime Sqrd'] = data['Violent_Crime'] * data['Violent_Crime']\n",
    "data['Murder Sqrd'] = data['Murder'] * data['Murder']\n",
    "data['Population Sqrd'] = data['Population'] * data['Population']\n",
    "data['Property Crime Sqrd'] = data['Property_Crime'] * data['Property_Crime']\n",
    " \n",
    "\n",
    "X2 = data[['Robbery Sqrd', 'Violent Crime Sqrd', 'Murder Sqrd', 'Population Sqrd']]\n",
    "Y2 = data['Property Crime Sqrd'].values.reshape(-1, 1)\n",
    "\n",
    "regr.fit(X, Y)\n",
    "\n",
    "# Inspect the results.\n",
    "print('\\nCoefficients: \\n', regr.coef_)\n",
    "print('\\nIntercept: \\n', regr.intercept_)\n",
    "print('\\nR-squared:')\n",
    "print(regr.score(X, Y))"
   ]
  },
  {
   "cell_type": "markdown",
   "metadata": {},
   "source": [
    "Controlling for outliers proved to be a better way of achieving an explained variance score that isn't overfitted. "
   ]
  },
  {
   "cell_type": "code",
   "execution_count": 18,
   "metadata": {},
   "outputs": [
    {
     "data": {
      "image/png": "[encoded data removed]",
      "text/plain": [
       "<matplotlib.figure.Figure at 0x117dc85f8>"
      ]
     },
     "metadata": {},
     "output_type": "display_data"
    },
    {
     "data": {
      "image/png": "[encoded data removed]",
      "text/plain": [
       "<matplotlib.figure.Figure at 0x1181e0390>"
      ]
     },
     "metadata": {},
     "output_type": "display_data"
    }
   ],
   "source": [
    "# Extract predicted values.\n",
    "predicted = regr.predict(X).ravel()\n",
    "actual = data['Property_Crime']\n",
    "\n",
    "# Calculate the error, aka residual.\n",
    "residual = actual - predicted\n",
    "\n",
    "plt.hist(residual)\n",
    "plt.title('Residual counts')\n",
    "plt.xlabel('Residual')\n",
    "plt.ylabel('Count')\n",
    "plt.show()\n",
    "\n",
    "# Use the square values of the features to achieve homoskedasticity\n",
    "predicted2 = regr.predict(X2).ravel()\n",
    "residual2 = actual - predicted2\n",
    "\n",
    "plt.scatter(predicted2, residual2)\n",
    "plt.xlabel('Predicted')\n",
    "plt.ylabel('Residual')\n",
    "plt.axhline(y=0)\n",
    "plt.title('Residual vs. Predicted')\n",
    "plt.show()\n"
   ]
  },
  {
   "cell_type": "markdown",
   "metadata": {},
   "source": [
    "- Lowering the population count from 75k to 65k made only a slight difference in my actual vs predicted plot.\n",
    "- Removing outliers allowed my model to resemble more closely to the multivariate normality assumption.\n",
    "- My regression model is more homoskedastic now, but it's in a descending manner instead of ascending manner.\n",
    "- I chose to use population, robbery, murder, and violent crimes because I thought those would be the things that had the biggest correlation with property crime. \n",
    "- After removing outliers, my model isn't as overfitted and can supposedly evaluate 82% of the variance within the model. "
   ]
  },
  {
   "cell_type": "markdown",
   "metadata": {},
   "source": [
    "# Cross Fold Validation\n",
    "\n",
    "I will attempt to see if any of my variables are overfitting now. "
   ]
  },
  {
   "cell_type": "code",
   "execution_count": 19,
   "metadata": {},
   "outputs": [
    {
     "data": {
      "text/plain": [
       "array([0.81216744, 0.54001992, 0.78535785, 0.69236108, 0.88903254])"
      ]
     },
     "execution_count": 19,
     "metadata": {},
     "output_type": "execute_result"
    }
   ],
   "source": [
    "model = regr.fit(X, Y)\n",
    "\n",
    "from sklearn.model_selection import cross_val_score\n",
    "cross_val_score(model, X, Y, cv=5)"
   ]
  },
  {
   "cell_type": "markdown",
   "metadata": {},
   "source": [
    "I ran a cross fold validation on my data. It ranges a lot but it seems that none of my variables are overfitting too much. "
   ]
  },
  {
   "cell_type": "markdown",
   "metadata": {},
   "source": [
    "# Challenge U2 L5 P2: Validating a Linear Regression\n",
    "\n",
    "Based on the results of your validation test, create a revised model, and then test both old and new models on a new holdout or set of folds.\n",
    "\n",
    "Include your model(s) and a brief writeup of the reasoning behind the validation method you chose and the changes you made to submit and review with your mentor."
   ]
  },
  {
   "cell_type": "code",
   "execution_count": 20,
   "metadata": {},
   "outputs": [
    {
     "name": "stdout",
     "output_type": "stream",
     "text": [
      "Intercept       -16.123\n",
      "Population        0.016\n",
      "Robbery          -7.506\n",
      "Violent_Crime     6.022\n",
      "Murder          -58.250\n",
      "dtype: float64\n"
     ]
    }
   ],
   "source": [
    "# Already ran a cross validation on my initial model.\n",
    "#  Find the p value \n",
    "linear_formula = 'Property_Crime ~ Population+Robbery+Violent_Crime+Murder'\n",
    "\n",
    "# Fit the model to our data using the formula. \n",
    "lm = smf.ols(formula=linear_formula, data=data).fit()\n",
    "# Model one results are\n",
    "print(lm.params)"
   ]
  },
  {
   "cell_type": "code",
   "execution_count": 21,
   "metadata": {},
   "outputs": [
    {
     "data": {
      "text/plain": [
       "Intercept       0.180\n",
       "Population      0.000\n",
       "Robbery         0.000\n",
       "Violent_Crime   0.000\n",
       "Murder          0.000\n",
       "dtype: float64"
      ]
     },
     "execution_count": 21,
     "metadata": {},
     "output_type": "execute_result"
    }
   ],
   "source": [
    "lm.pvalues"
   ]
  },
  {
   "cell_type": "markdown",
   "metadata": {},
   "source": [
    "- From the p-values, it tells me that none of my features have an effect on the model and that dropping them would not affect my R^2 value. \n",
    "- This is strange for me. I suppose I will change out some of the variables. "
   ]
  },
  {
   "cell_type": "code",
   "execution_count": 22,
   "metadata": {},
   "outputs": [
    {
     "name": "stdout",
     "output_type": "stream",
     "text": [
      "0.8263741107495084\n"
     ]
    }
   ],
   "source": [
    "print(lm.rsquared)"
   ]
  },
  {
   "cell_type": "markdown",
   "metadata": {},
   "source": [
    "# Model 2 "
   ]
  },
  {
   "cell_type": "code",
   "execution_count": 23,
   "metadata": {},
   "outputs": [],
   "source": [
    "# First step pick new features.\n",
    "# Keep population and Violent Crime since those intercepts were somewhat positive. \n",
    "data2 = df[['Population', 'Violent_Crime', 'Property_Crime', 'Burglary']]"
   ]
  },
  {
   "cell_type": "code",
   "execution_count": 24,
   "metadata": {},
   "outputs": [
    {
     "name": "stderr",
     "output_type": "stream",
     "text": [
      "/anaconda3/lib/python3.6/site-packages/ipykernel_launcher.py:2: SettingWithCopyWarning: \n",
      "A value is trying to be set on a copy of a slice from a DataFrame.\n",
      "Try using .loc[row_indexer,col_indexer] = value instead\n",
      "\n",
      "See the caveats in the documentation: http://pandas.pydata.org/pandas-docs/stable/indexing.html#indexing-view-versus-copy\n",
      "  \n",
      "/anaconda3/lib/python3.6/site-packages/ipykernel_launcher.py:3: SettingWithCopyWarning: \n",
      "A value is trying to be set on a copy of a slice from a DataFrame.\n",
      "Try using .loc[row_indexer,col_indexer] = value instead\n",
      "\n",
      "See the caveats in the documentation: http://pandas.pydata.org/pandas-docs/stable/indexing.html#indexing-view-versus-copy\n",
      "  This is separate from the ipykernel package so we can avoid doing imports until\n"
     ]
    }
   ],
   "source": [
    "# Clean the data a bit.\n",
    "data2['Burglary'] = data2['Burglary'].str.replace(',', '')\n",
    "data2['Burglary'] = data2['Burglary'].apply(pd.to_numeric)"
   ]
  },
  {
   "cell_type": "code",
   "execution_count": 25,
   "metadata": {},
   "outputs": [],
   "source": [
    "data2 = data2.query('Population<25000')"
   ]
  },
  {
   "cell_type": "code",
   "execution_count": 26,
   "metadata": {},
   "outputs": [
    {
     "data": {
      "text/html": [
       "<div>\n",
       "<style scoped>\n",
       "    .dataframe tbody tr th:only-of-type {\n",
       "        vertical-align: middle;\n",
       "    }\n",
       "\n",
       "    .dataframe tbody tr th {\n",
       "        vertical-align: top;\n",
       "    }\n",
       "\n",
       "    .dataframe thead th {\n",
       "        text-align: right;\n",
       "    }\n",
       "</style>\n",
       "<table border=\"1\" class=\"dataframe\">\n",
       "  <thead>\n",
       "    <tr style=\"text-align: right;\">\n",
       "      <th></th>\n",
       "      <th>Population</th>\n",
       "      <th>Violent_Crime</th>\n",
       "      <th>Property_Crime</th>\n",
       "      <th>Burglary</th>\n",
       "    </tr>\n",
       "  </thead>\n",
       "  <tbody>\n",
       "    <tr>\n",
       "      <th>count</th>\n",
       "      <td>283.000</td>\n",
       "      <td>283.000</td>\n",
       "      <td>283.000</td>\n",
       "      <td>283.000</td>\n",
       "    </tr>\n",
       "    <tr>\n",
       "      <th>mean</th>\n",
       "      <td>7256.876</td>\n",
       "      <td>9.081</td>\n",
       "      <td>139.484</td>\n",
       "      <td>21.862</td>\n",
       "    </tr>\n",
       "    <tr>\n",
       "      <th>std</th>\n",
       "      <td>5951.726</td>\n",
       "      <td>13.251</td>\n",
       "      <td>160.338</td>\n",
       "      <td>25.665</td>\n",
       "    </tr>\n",
       "    <tr>\n",
       "      <th>min</th>\n",
       "      <td>526.000</td>\n",
       "      <td>0.000</td>\n",
       "      <td>0.000</td>\n",
       "      <td>0.000</td>\n",
       "    </tr>\n",
       "    <tr>\n",
       "      <th>25%</th>\n",
       "      <td>2510.000</td>\n",
       "      <td>1.000</td>\n",
       "      <td>32.000</td>\n",
       "      <td>5.000</td>\n",
       "    </tr>\n",
       "    <tr>\n",
       "      <th>50%</th>\n",
       "      <td>5335.000</td>\n",
       "      <td>4.000</td>\n",
       "      <td>80.000</td>\n",
       "      <td>13.000</td>\n",
       "    </tr>\n",
       "    <tr>\n",
       "      <th>75%</th>\n",
       "      <td>10408.000</td>\n",
       "      <td>12.000</td>\n",
       "      <td>185.500</td>\n",
       "      <td>26.000</td>\n",
       "    </tr>\n",
       "    <tr>\n",
       "      <th>max</th>\n",
       "      <td>24461.000</td>\n",
       "      <td>89.000</td>\n",
       "      <td>949.000</td>\n",
       "      <td>138.000</td>\n",
       "    </tr>\n",
       "  </tbody>\n",
       "</table>\n",
       "</div>"
      ],
      "text/plain": [
       "       Population  Violent_Crime  Property_Crime  Burglary\n",
       "count     283.000        283.000         283.000   283.000\n",
       "mean     7256.876          9.081         139.484    21.862\n",
       "std      5951.726         13.251         160.338    25.665\n",
       "min       526.000          0.000           0.000     0.000\n",
       "25%      2510.000          1.000          32.000     5.000\n",
       "50%      5335.000          4.000          80.000    13.000\n",
       "75%     10408.000         12.000         185.500    26.000\n",
       "max     24461.000         89.000         949.000   138.000"
      ]
     },
     "execution_count": 26,
     "metadata": {},
     "output_type": "execute_result"
    }
   ],
   "source": [
    "data2 = data2.dropna()\n",
    "data2.describe()"
   ]
  },
  {
   "cell_type": "code",
   "execution_count": 27,
   "metadata": {},
   "outputs": [
    {
     "data": {
      "text/plain": [
       "(array([149.,  64.,  23.,  16.,  10.,   9.,   3.,   4.,   4.,   1.]),\n",
       " array([  0. ,  13.8,  27.6,  41.4,  55.2,  69. ,  82.8,  96.6, 110.4,\n",
       "        124.2, 138. ]),\n",
       " <a list of 10 Patch objects>)"
      ]
     },
     "execution_count": 27,
     "metadata": {},
     "output_type": "execute_result"
    },
    {
     "data": {
      "image/png": "[encoded data removed]",
      "text/plain": [
       "<matplotlib.figure.Figure at 0x118207eb8>"
      ]
     },
     "metadata": {},
     "output_type": "display_data"
    }
   ],
   "source": [
    "plt.hist(data2['Burglary'])"
   ]
  },
  {
   "cell_type": "code",
   "execution_count": 28,
   "metadata": {},
   "outputs": [],
   "source": [
    "# Remove all the different types of outliers in order to achieve multivariate normality. \n",
    "# Originally they were higher values but I lowered the parameters more.\n",
    "data2 = data2.query('Burglary<100')\n",
    "data2 = data2.query('Property_Crime<180')"
   ]
  },
  {
   "cell_type": "code",
   "execution_count": 29,
   "metadata": {},
   "outputs": [
    {
     "data": {
      "text/html": [
       "<div>\n",
       "<style scoped>\n",
       "    .dataframe tbody tr th:only-of-type {\n",
       "        vertical-align: middle;\n",
       "    }\n",
       "\n",
       "    .dataframe tbody tr th {\n",
       "        vertical-align: top;\n",
       "    }\n",
       "\n",
       "    .dataframe thead th {\n",
       "        text-align: right;\n",
       "    }\n",
       "</style>\n",
       "<table border=\"1\" class=\"dataframe\">\n",
       "  <thead>\n",
       "    <tr style=\"text-align: right;\">\n",
       "      <th></th>\n",
       "      <th>Population</th>\n",
       "      <th>Violent_Crime</th>\n",
       "      <th>Property_Crime</th>\n",
       "      <th>Burglary</th>\n",
       "    </tr>\n",
       "  </thead>\n",
       "  <tbody>\n",
       "    <tr>\n",
       "      <th>count</th>\n",
       "      <td>208.000</td>\n",
       "      <td>208.000</td>\n",
       "      <td>208.000</td>\n",
       "      <td>208.000</td>\n",
       "    </tr>\n",
       "    <tr>\n",
       "      <th>mean</th>\n",
       "      <td>4986.072</td>\n",
       "      <td>4.091</td>\n",
       "      <td>61.476</td>\n",
       "      <td>10.692</td>\n",
       "    </tr>\n",
       "    <tr>\n",
       "      <th>std</th>\n",
       "      <td>3896.474</td>\n",
       "      <td>5.515</td>\n",
       "      <td>48.254</td>\n",
       "      <td>10.343</td>\n",
       "    </tr>\n",
       "    <tr>\n",
       "      <th>min</th>\n",
       "      <td>526.000</td>\n",
       "      <td>0.000</td>\n",
       "      <td>0.000</td>\n",
       "      <td>0.000</td>\n",
       "    </tr>\n",
       "    <tr>\n",
       "      <th>25%</th>\n",
       "      <td>2062.250</td>\n",
       "      <td>1.000</td>\n",
       "      <td>20.750</td>\n",
       "      <td>3.000</td>\n",
       "    </tr>\n",
       "    <tr>\n",
       "      <th>50%</th>\n",
       "      <td>3630.500</td>\n",
       "      <td>2.000</td>\n",
       "      <td>50.500</td>\n",
       "      <td>8.000</td>\n",
       "    </tr>\n",
       "    <tr>\n",
       "      <th>75%</th>\n",
       "      <td>7011.500</td>\n",
       "      <td>5.000</td>\n",
       "      <td>94.750</td>\n",
       "      <td>16.000</td>\n",
       "    </tr>\n",
       "    <tr>\n",
       "      <th>max</th>\n",
       "      <td>19800.000</td>\n",
       "      <td>39.000</td>\n",
       "      <td>179.000</td>\n",
       "      <td>65.000</td>\n",
       "    </tr>\n",
       "  </tbody>\n",
       "</table>\n",
       "</div>"
      ],
      "text/plain": [
       "       Population  Violent_Crime  Property_Crime  Burglary\n",
       "count     208.000        208.000         208.000   208.000\n",
       "mean     4986.072          4.091          61.476    10.692\n",
       "std      3896.474          5.515          48.254    10.343\n",
       "min       526.000          0.000           0.000     0.000\n",
       "25%      2062.250          1.000          20.750     3.000\n",
       "50%      3630.500          2.000          50.500     8.000\n",
       "75%      7011.500          5.000          94.750    16.000\n",
       "max     19800.000         39.000         179.000    65.000"
      ]
     },
     "execution_count": 29,
     "metadata": {},
     "output_type": "execute_result"
    }
   ],
   "source": [
    "data2.describe()"
   ]
  },
  {
   "cell_type": "code",
   "execution_count": 30,
   "metadata": {},
   "outputs": [
    {
     "name": "stderr",
     "output_type": "stream",
     "text": [
      "No handles with labels found to put in legend.\n",
      "No handles with labels found to put in legend.\n",
      "No handles with labels found to put in legend.\n",
      "No handles with labels found to put in legend.\n"
     ]
    },
    {
     "data": {
      "image/png": "[encoded data removed]",
      "text/plain": [
       "<matplotlib.figure.Figure at 0x1182230b8>"
      ]
     },
     "metadata": {},
     "output_type": "display_data"
    }
   ],
   "source": [
    "data2 = data2[['Burglary', 'Population', 'Violent_Crime', 'Property_Crime']]\n",
    "\n",
    "# Scatterplot matrix\n",
    "g = sns.PairGrid(data2, diag_sharey=False)\n",
    "\n",
    "#Scatterplots\n",
    "g.map_upper(plt.scatter, alpha=.5)\n",
    "\n",
    "# Fit line summarizing linear relationship of two variables\n",
    "g.map_lower(sns.regplot, scatter_kws=dict(alpha=0))\n",
    "\n",
    "# Univariate distribtuion of the variables\n",
    "g.map_diag(sns.kdeplot, lw=3)\n",
    "\n",
    "plt.show()"
   ]
  },
  {
   "cell_type": "code",
   "execution_count": 31,
   "metadata": {},
   "outputs": [
    {
     "name": "stdout",
     "output_type": "stream",
     "text": [
      "Intercept       10.655\n",
      "Population       0.003\n",
      "Violent_Crime    1.588\n",
      "Burglary         2.678\n",
      "dtype: float64\n"
     ]
    }
   ],
   "source": [
    "# Already ran a cross validation on my initial model.\n",
    "#  Find the p value \n",
    "linear_formula2 = 'Property_Crime ~ Population+Violent_Crime+Burglary'\n",
    "\n",
    "# Fit the model to our data using the formula. \n",
    "lm2 = smf.ols(formula=linear_formula2, data=data2).fit()\n",
    "# Model one results are\n",
    "print(lm2.params)"
   ]
  },
  {
   "cell_type": "code",
   "execution_count": 32,
   "metadata": {},
   "outputs": [
    {
     "name": "stdout",
     "output_type": "stream",
     "text": [
      "Intercept       0.000\n",
      "Population      0.000\n",
      "Violent_Crime   0.000\n",
      "Burglary        0.000\n",
      "dtype: float64\n",
      "0.7336512156703778\n"
     ]
    }
   ],
   "source": [
    "print(lm2.pvalues)\n",
    "print(lm2.rsquared)"
   ]
  },
  {
   "cell_type": "code",
   "execution_count": 33,
   "metadata": {},
   "outputs": [
    {
     "data": {
      "text/html": [
       "<div>\n",
       "<style scoped>\n",
       "    .dataframe tbody tr th:only-of-type {\n",
       "        vertical-align: middle;\n",
       "    }\n",
       "\n",
       "    .dataframe tbody tr th {\n",
       "        vertical-align: top;\n",
       "    }\n",
       "\n",
       "    .dataframe thead th {\n",
       "        text-align: right;\n",
       "    }\n",
       "</style>\n",
       "<table border=\"1\" class=\"dataframe\">\n",
       "  <thead>\n",
       "    <tr style=\"text-align: right;\">\n",
       "      <th></th>\n",
       "      <th>0</th>\n",
       "      <th>1</th>\n",
       "    </tr>\n",
       "  </thead>\n",
       "  <tbody>\n",
       "    <tr>\n",
       "      <th>Intercept</th>\n",
       "      <td>4.853</td>\n",
       "      <td>16.458</td>\n",
       "    </tr>\n",
       "    <tr>\n",
       "      <th>Population</th>\n",
       "      <td>0.002</td>\n",
       "      <td>0.004</td>\n",
       "    </tr>\n",
       "    <tr>\n",
       "      <th>Violent_Crime</th>\n",
       "      <td>0.790</td>\n",
       "      <td>2.386</td>\n",
       "    </tr>\n",
       "    <tr>\n",
       "      <th>Burglary</th>\n",
       "      <td>2.218</td>\n",
       "      <td>3.138</td>\n",
       "    </tr>\n",
       "  </tbody>\n",
       "</table>\n",
       "</div>"
      ],
      "text/plain": [
       "                  0      1\n",
       "Intercept     4.853 16.458\n",
       "Population    0.002  0.004\n",
       "Violent_Crime 0.790  2.386\n",
       "Burglary      2.218  3.138"
      ]
     },
     "execution_count": 33,
     "metadata": {},
     "output_type": "execute_result"
    }
   ],
   "source": [
    "lm2.conf_int()"
   ]
  },
  {
   "cell_type": "code",
   "execution_count": 34,
   "metadata": {},
   "outputs": [
    {
     "data": {
      "image/png": "[encoded data removed]",
      "text/plain": [
       "<matplotlib.figure.Figure at 0x1a204c4ba8>"
      ]
     },
     "metadata": {},
     "output_type": "display_data"
    }
   ],
   "source": [
    "# Use wls_prediction_std to build confidence intervals\n",
    "prstd, iv_l, iv_u = wls_prediction_std(lm2)\n",
    "\n",
    "plt.figure()\n",
    "plt.plot(iv_u[0:15], 'o', color='r')\n",
    "plt.plot(iv_l[0:15], 'o', color='r')\n",
    "plt.plot(lm.fittedvalues[0:15], 'o', color='b')\n",
    "plt.title('blue: predicted, red: 95% CI')\n",
    "plt.show()"
   ]
  },
  {
   "cell_type": "code",
   "execution_count": 35,
   "metadata": {},
   "outputs": [
    {
     "data": {
      "image/png": "[encoded data removed]",
      "text/plain": [
       "<matplotlib.figure.Figure at 0x1a206ee1d0>"
      ]
     },
     "metadata": {},
     "output_type": "display_data"
    },
    {
     "data": {
      "image/png": "[encoded data removed]",
      "text/plain": [
       "<matplotlib.figure.Figure at 0x1a2036fb38>"
      ]
     },
     "metadata": {},
     "output_type": "display_data"
    }
   ],
   "source": [
    "regr = linear_model.LinearRegression()\n",
    "Yn = data2['Property_Crime'].values.reshape(-1, 1)\n",
    "Xn = data2[['Population','Burglary','Violent_Crime']]\n",
    "# Square the parameters so that we can achieve homoscedasticity.\n",
    "data2['Burglary_Sqrd'] = data2['Burglary'] * data2['Burglary']\n",
    "data2['Violent_Crime_Sqrd'] = data2['Violent_Crime'] * data2['Violent_Crime']\n",
    "data2['Population_Sqrd'] = data2['Population'] * data2['Population']\n",
    "data2['Property_Crime_Sqrd'] = data2['Property_Crime'] * data2['Property_Crime']\n",
    " \n",
    "\n",
    "Xn2 = data2[['Population_Sqrd','Burglary_Sqrd','Violent_Crime_Sqrd']]\n",
    "Yn2 = data2['Property_Crime_Sqrd'].values.reshape(-1, 1)\n",
    "\n",
    "regr.fit(Xn, Yn)\n",
    "\n",
    "# Extract predicted values.\n",
    "predicted_mod2 = regr.predict(Xn).ravel()\n",
    "actual_mod2 = data2['Property_Crime']\n",
    "\n",
    "# Calculate the error, aka residual.\n",
    "residual_mod2  = actual_mod2  - predicted_mod2 \n",
    "\n",
    "plt.hist(residual)\n",
    "plt.title('Residual counts')\n",
    "plt.xlabel('Residual')\n",
    "plt.ylabel('Count')\n",
    "plt.show()\n",
    "\n",
    "# Use the square values of the features to achieve homoskedasticity\n",
    "predicted_mod2  = regr.predict(Xn).ravel()\n",
    "residual_mod2  = actual_mod2  - predicted_mod2 \n",
    "\n",
    "plt.scatter(predicted_mod2 , residual_mod2 )\n",
    "plt.xlabel('Predicted')\n",
    "plt.ylabel('Residual')\n",
    "plt.axhline(y=0)\n",
    "plt.title('Residual vs. Predicted')\n",
    "plt.show()\n"
   ]
  },
  {
   "cell_type": "markdown",
   "metadata": {},
   "source": [
    "- The model has only a bit of outliers but the distribution looks normal.\n",
    "- The homoscedasticity at least shows an upward trend this time but there are outliers here too."
   ]
  },
  {
   "cell_type": "code",
   "execution_count": 36,
   "metadata": {},
   "outputs": [
    {
     "data": {
      "text/plain": [
       "array([0.81216744, 0.54001992, 0.78535785, 0.69236108, 0.88903254])"
      ]
     },
     "execution_count": 36,
     "metadata": {},
     "output_type": "execute_result"
    }
   ],
   "source": [
    "# Cross Validation\n",
    "model = regr.fit(Xn, Yn)\n",
    "\n",
    "from sklearn.model_selection import cross_val_score\n",
    "cross_val_score(model, X, Y, cv=5)"
   ]
  },
  {
   "cell_type": "code",
   "execution_count": 52,
   "metadata": {},
   "outputs": [
    {
     "name": "stdout",
     "output_type": "stream",
     "text": [
      "\n",
      "Coefficients: \n",
      " [[ 1.62739387e-02 -7.50619365e+00  6.02236144e+00 -5.82503701e+01]]\n",
      "\n",
      "Intercept: \n",
      " [-16.12271574]\n",
      "\n",
      "R-squared:\n",
      "-809771697.7767789\n"
     ]
    }
   ],
   "source": [
    "# Validating new data on the old model. \n",
    "\n",
    "regr = linear_model.LinearRegression()\n",
    "Y = data['Property_Crime'].values.reshape(-1, 1)\n",
    "X = data[['Population','Robbery','Violent_Crime', 'Murder']]\n",
    "\n",
    "\n",
    "# Shape didn't fit so going back to old data.\n",
    "# Xt = data[['Population','Violent_Crime', 'Robbery Sqrd', 'Murder']] \n",
    "# none of the variables suffer from overfitting, consistent cross validation scores.\n",
    "# Extrmely low R^2 score, probably due to one squared variable.\n",
    "Xt = data[['Population Sqrd', 'Violent Crime Sqrd', 'Robbery Sqrd', 'Murder Sqrd']]\n",
    "# All squared gives me an extremely inconsistent cross validation score. \n",
    "\n",
    "\n",
    "# Fit model from the training set.\n",
    "test_model = regr.fit(X, Y)\n",
    "\n",
    "# Test\n",
    "test_predictions = regr.predict(Xt)\n",
    "\n",
    "# Inspect the results of original model\n",
    "print('\\nCoefficients: \\n', regr.coef_)\n",
    "print('\\nIntercept: \\n', regr.intercept_)\n",
    "print('\\nR-squared:')\n",
    "print(regr.score(Xt, Y))"
   ]
  },
  {
   "cell_type": "code",
   "execution_count": 55,
   "metadata": {},
   "outputs": [
    {
     "data": {
      "image/png": "[encoded data removed]",
      "text/plain": [
       "<matplotlib.figure.Figure at 0x1a20e30e48>"
      ]
     },
     "metadata": {},
     "output_type": "display_data"
    }
   ],
   "source": [
    "plt.scatter(test_predictions, Y)\n",
    "plt.ylabel('True Values')\n",
    "plt.xlabel('Test Predictions')\n",
    "plt.show()"
   ]
  },
  {
   "cell_type": "code",
   "execution_count": 56,
   "metadata": {},
   "outputs": [
    {
     "data": {
      "text/plain": [
       "array([ 0.70296684,  0.1619537 ,  0.63897698, -0.13262176,  0.77966579])"
      ]
     },
     "execution_count": 56,
     "metadata": {},
     "output_type": "execute_result"
    }
   ],
   "source": [
    "modelt = regr.fit(Xt, Y)\n",
    "\n",
    "from sklearn.model_selection import cross_val_score\n",
    "cross_val_score(modelt, Xt, Y, cv=5)"
   ]
  },
  {
   "cell_type": "markdown",
   "metadata": {},
   "source": [
    "- Model 2 is not as accurate as Model 1 since its R^2 score is 73% compared to model 1's 82%. That's probably due to the fact that I have one less variable than model 1.\n",
    "- Initially I had added Larceny_theft too but that overfitted my model so I had to remove it. It makes sense though since Larceny_theft is so close to Burglary. \n",
    "- My model 2 is almost multivariate normal in terms of the distribution but there is an outlier.\n",
    "- My model 2 is also closer to homoscedasticity this time without me even having to use the square values to create it.\n",
    "- Lastly, my new data on the old model is not very accurate. Must revise. "
   ]
  },
  {
   "cell_type": "code",
   "execution_count": null,
   "metadata": {},
   "outputs": [],
   "source": []
  }
 ],
 "metadata": {
  "kernelspec": {
   "display_name": "Python 3",
   "language": "python",
   "name": "python3"
  },
  "language_info": {
   "codemirror_mode": {
    "name": "ipython",
    "version": 3
   },
   "file_extension": ".py",
   "mimetype": "text/x-python",
   "name": "python",
   "nbconvert_exporter": "python",
   "pygments_lexer": "ipython3",
   "version": "3.6.4"
  }
 },
 "nbformat": 4,
 "nbformat_minor": 2
}
