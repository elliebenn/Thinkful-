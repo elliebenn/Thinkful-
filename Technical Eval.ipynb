{
 "cells": [
  {
   "cell_type": "code",
   "execution_count": 1,
   "metadata": {},
   "outputs": [],
   "source": [
    "import numpy as np\n",
    "import pandas as pd\n",
    "import matplotlib.pyplot as plt\n",
    "import scipy\n",
    "%matplotlib inline"
   ]
  },
  {
   "cell_type": "code",
   "execution_count": 2,
   "metadata": {},
   "outputs": [],
   "source": [
    "df = pd.read_csv('plane_crashes_data.csv')"
   ]
  },
  {
   "cell_type": "code",
   "execution_count": 3,
   "metadata": {},
   "outputs": [
    {
     "data": {
      "text/html": [
       "<div>\n",
       "<style scoped>\n",
       "    .dataframe tbody tr th:only-of-type {\n",
       "        vertical-align: middle;\n",
       "    }\n",
       "\n",
       "    .dataframe tbody tr th {\n",
       "        vertical-align: top;\n",
       "    }\n",
       "\n",
       "    .dataframe thead th {\n",
       "        text-align: right;\n",
       "    }\n",
       "</style>\n",
       "<table border=\"1\" class=\"dataframe\">\n",
       "  <thead>\n",
       "    <tr style=\"text-align: right;\">\n",
       "      <th></th>\n",
       "      <th>month</th>\n",
       "      <th>hour</th>\n",
       "      <th>year</th>\n",
       "      <th>location</th>\n",
       "      <th>operator</th>\n",
       "      <th>route</th>\n",
       "      <th>type</th>\n",
       "      <th>aboard</th>\n",
       "      <th>fatalities</th>\n",
       "      <th>summary</th>\n",
       "    </tr>\n",
       "  </thead>\n",
       "  <tbody>\n",
       "    <tr>\n",
       "      <th>0</th>\n",
       "      <td>1</td>\n",
       "      <td>12</td>\n",
       "      <td>1950</td>\n",
       "      <td>Near Vacas, Bolivia</td>\n",
       "      <td>Military - Bolivian Air Force</td>\n",
       "      <td>Valle grande - Cochabamba</td>\n",
       "      <td>Douglas C-47</td>\n",
       "      <td>32</td>\n",
       "      <td>32</td>\n",
       "      <td>Crashed while en route in the Andes mountains ...</td>\n",
       "    </tr>\n",
       "    <tr>\n",
       "      <th>1</th>\n",
       "      <td>3</td>\n",
       "      <td>20</td>\n",
       "      <td>1950</td>\n",
       "      <td>Minneapolis, Minnesota</td>\n",
       "      <td>Northwest Orient Airlines</td>\n",
       "      <td>Rochester Minn. - Minneapolis</td>\n",
       "      <td>Martin 202</td>\n",
       "      <td>13</td>\n",
       "      <td>13</td>\n",
       "      <td>Crashed into a flag pole, well marked by red n...</td>\n",
       "    </tr>\n",
       "    <tr>\n",
       "      <th>2</th>\n",
       "      <td>3</td>\n",
       "      <td>14</td>\n",
       "      <td>1950</td>\n",
       "      <td>Llandow Airport, Cardiff, Wales</td>\n",
       "      <td>Fairflight Ltd.</td>\n",
       "      <td>Llandow - Dublin</td>\n",
       "      <td>Avro 689 Tudor 5</td>\n",
       "      <td>83</td>\n",
       "      <td>80</td>\n",
       "      <td>During the approach to Runway 28 at Llandow Ai...</td>\n",
       "    </tr>\n",
       "    <tr>\n",
       "      <th>3</th>\n",
       "      <td>4</td>\n",
       "      <td>23</td>\n",
       "      <td>1950</td>\n",
       "      <td>Near Atsugi, Japan</td>\n",
       "      <td>Military - U.S. Air Force</td>\n",
       "      <td>Philippines - Japan</td>\n",
       "      <td>Douglas C-54D</td>\n",
       "      <td>35</td>\n",
       "      <td>35</td>\n",
       "      <td>Flew off its prescribed course and crashed int...</td>\n",
       "    </tr>\n",
       "    <tr>\n",
       "      <th>4</th>\n",
       "      <td>5</td>\n",
       "      <td>20</td>\n",
       "      <td>1950</td>\n",
       "      <td>Lagens Air Force Base, Azores</td>\n",
       "      <td>Military - U.S. Air Force</td>\n",
       "      <td>Bermuda - England</td>\n",
       "      <td>Boeing B-29</td>\n",
       "      <td>16</td>\n",
       "      <td>16</td>\n",
       "      <td>Crashed while attempting to land after being d...</td>\n",
       "    </tr>\n",
       "  </tbody>\n",
       "</table>\n",
       "</div>"
      ],
      "text/plain": [
       "   month hour  year                         location  \\\n",
       "0      1   12  1950              Near Vacas, Bolivia   \n",
       "1      3   20  1950           Minneapolis, Minnesota   \n",
       "2      3   14  1950  Llandow Airport, Cardiff, Wales   \n",
       "3      4   23  1950               Near Atsugi, Japan   \n",
       "4      5   20  1950    Lagens Air Force Base, Azores   \n",
       "\n",
       "                        operator                          route  \\\n",
       "0  Military - Bolivian Air Force      Valle grande - Cochabamba   \n",
       "1      Northwest Orient Airlines  Rochester Minn. - Minneapolis   \n",
       "2                Fairflight Ltd.               Llandow - Dublin   \n",
       "3      Military - U.S. Air Force            Philippines - Japan   \n",
       "4      Military - U.S. Air Force              Bermuda - England   \n",
       "\n",
       "               type  aboard  fatalities  \\\n",
       "0      Douglas C-47      32          32   \n",
       "1        Martin 202      13          13   \n",
       "2  Avro 689 Tudor 5      83          80   \n",
       "3     Douglas C-54D      35          35   \n",
       "4       Boeing B-29      16          16   \n",
       "\n",
       "                                             summary  \n",
       "0  Crashed while en route in the Andes mountains ...  \n",
       "1  Crashed into a flag pole, well marked by red n...  \n",
       "2  During the approach to Runway 28 at Llandow Ai...  \n",
       "3  Flew off its prescribed course and crashed int...  \n",
       "4  Crashed while attempting to land after being d...  "
      ]
     },
     "execution_count": 3,
     "metadata": {},
     "output_type": "execute_result"
    }
   ],
   "source": [
    "df.head()"
   ]
  },
  {
   "cell_type": "code",
   "execution_count": 4,
   "metadata": {},
   "outputs": [
    {
     "data": {
      "text/plain": [
       "Index(['month', 'hour', 'year', 'location', 'operator', 'route', 'type',\n",
       "       'aboard', 'fatalities', 'summary'],\n",
       "      dtype='object')"
      ]
     },
     "execution_count": 4,
     "metadata": {},
     "output_type": "execute_result"
    }
   ],
   "source": [
    "df.columns"
   ]
  },
  {
   "cell_type": "code",
   "execution_count": 5,
   "metadata": {},
   "outputs": [
    {
     "data": {
      "text/html": [
       "<div>\n",
       "<style scoped>\n",
       "    .dataframe tbody tr th:only-of-type {\n",
       "        vertical-align: middle;\n",
       "    }\n",
       "\n",
       "    .dataframe tbody tr th {\n",
       "        vertical-align: top;\n",
       "    }\n",
       "\n",
       "    .dataframe thead th {\n",
       "        text-align: right;\n",
       "    }\n",
       "</style>\n",
       "<table border=\"1\" class=\"dataframe\">\n",
       "  <thead>\n",
       "    <tr style=\"text-align: right;\">\n",
       "      <th></th>\n",
       "      <th>month</th>\n",
       "      <th>year</th>\n",
       "      <th>aboard</th>\n",
       "      <th>fatalities</th>\n",
       "    </tr>\n",
       "  </thead>\n",
       "  <tbody>\n",
       "    <tr>\n",
       "      <th>count</th>\n",
       "      <td>2709.000000</td>\n",
       "      <td>2709.000000</td>\n",
       "      <td>2709.000000</td>\n",
       "      <td>2709.000000</td>\n",
       "    </tr>\n",
       "    <tr>\n",
       "      <th>mean</th>\n",
       "      <td>6.554079</td>\n",
       "      <td>1981.927279</td>\n",
       "      <td>35.817276</td>\n",
       "      <td>25.816537</td>\n",
       "    </tr>\n",
       "    <tr>\n",
       "      <th>std</th>\n",
       "      <td>3.532468</td>\n",
       "      <td>16.709136</td>\n",
       "      <td>54.306779</td>\n",
       "      <td>42.599461</td>\n",
       "    </tr>\n",
       "    <tr>\n",
       "      <th>min</th>\n",
       "      <td>1.000000</td>\n",
       "      <td>1950.000000</td>\n",
       "      <td>0.000000</td>\n",
       "      <td>0.000000</td>\n",
       "    </tr>\n",
       "    <tr>\n",
       "      <th>25%</th>\n",
       "      <td>3.000000</td>\n",
       "      <td>1968.000000</td>\n",
       "      <td>5.000000</td>\n",
       "      <td>3.000000</td>\n",
       "    </tr>\n",
       "    <tr>\n",
       "      <th>50%</th>\n",
       "      <td>7.000000</td>\n",
       "      <td>1983.000000</td>\n",
       "      <td>15.000000</td>\n",
       "      <td>9.000000</td>\n",
       "    </tr>\n",
       "    <tr>\n",
       "      <th>75%</th>\n",
       "      <td>10.000000</td>\n",
       "      <td>1997.000000</td>\n",
       "      <td>44.000000</td>\n",
       "      <td>29.000000</td>\n",
       "    </tr>\n",
       "    <tr>\n",
       "      <th>max</th>\n",
       "      <td>12.000000</td>\n",
       "      <td>2009.000000</td>\n",
       "      <td>644.000000</td>\n",
       "      <td>583.000000</td>\n",
       "    </tr>\n",
       "  </tbody>\n",
       "</table>\n",
       "</div>"
      ],
      "text/plain": [
       "             month         year       aboard   fatalities\n",
       "count  2709.000000  2709.000000  2709.000000  2709.000000\n",
       "mean      6.554079  1981.927279    35.817276    25.816537\n",
       "std       3.532468    16.709136    54.306779    42.599461\n",
       "min       1.000000  1950.000000     0.000000     0.000000\n",
       "25%       3.000000  1968.000000     5.000000     3.000000\n",
       "50%       7.000000  1983.000000    15.000000     9.000000\n",
       "75%      10.000000  1997.000000    44.000000    29.000000\n",
       "max      12.000000  2009.000000   644.000000   583.000000"
      ]
     },
     "execution_count": 5,
     "metadata": {},
     "output_type": "execute_result"
    }
   ],
   "source": [
    "df.describe()"
   ]
  },
  {
   "cell_type": "code",
   "execution_count": 6,
   "metadata": {},
   "outputs": [
    {
     "data": {
      "text/plain": [
       "1"
      ]
     },
     "execution_count": 6,
     "metadata": {},
     "output_type": "execute_result"
    }
   ],
   "source": [
    "import statistics \n",
    "statistics.mode (df['month'])\n"
   ]
  },
  {
   "cell_type": "code",
   "execution_count": 7,
   "metadata": {},
   "outputs": [
    {
     "name": "stdout",
     "output_type": "stream",
     "text": [
      "['Military - Bolivian Air Force', 'Northwest Orient Airlines', 'Fairflight Ltd.', 'Military - U.S. Air Force', 'Military - U.S. Air Force', 'Military - U.S. Air Force', 'Regina Cargo Airlines', 'Westair Transport', 'New Tribes Mission', 'Air France', 'Air France', 'Northwest Orient Airlines', 'Ansett ANA', 'Military - U.S. Air Force', 'Military - U.S. Air Force', 'Trans World Airlines', 'Robinson Airlines', 'Military - U.S. Navy', 'Military - U.S. Air Force', 'British European Airways', 'Air India', 'Northwest Orient Airlines', 'Curtiss-Reid Flying Services Ltd. (Canada)', 'Avensa', 'Military - U.S. Air Force', 'Canadian PacifiAir Lines', 'National Airlines', 'Northwest Orient Airlines', 'Alitalia', 'Military -Royal Air Force', 'Icelandair', 'Mid Continent Airlines', 'Military - U.S. Air Force', 'Southwest Airways', 'Military - U.S. Air Force', 'Cubana de Aviacion / Military -  US Navy', 'United Air Lines', 'Military - U.S. Air Force', 'Pan American World Airways', 'United Air Lines', 'Military - Royal Air Force', 'Canadian PacifiAir Lines', 'Air France', 'United Air Lines', 'United Air Lines', 'Societe Alpes Provence', 'Queen Charlotte Airlines', 'Military - Guatemalan Air Force', 'Transocean Air Lines', 'United Air Lines', 'Miami Airlines', 'Continental Charters', 'Transocean Air Lines', 'Military - U.S. Air Force', 'Aer Lingus', 'Northwest Orient Airlines', 'American Airlines', 'National Airlines', 'Hunting Air Travel', 'Deccan Airways', 'Air France', 'KLM Royal Dutch Airlines', 'Société Aérienne de Tr. Tropicaux', 'US Airlines', 'Japan Air Lines', 'Pan American World Airways', 'North Continental Airlines (Robin Airlines)', 'Pan American World Airways', 'British Overseas Airways', 'Swedish Air Force', 'Pan American World Airways', 'Airwork', 'Military - Pakistan Air Force', 'Phoenix Airlines', 'Private - de Havilland Aircraft', 'Military - U.S. Air Force', 'Military - U.S. Air Force', 'Military - U.S. Air Force', 'Military - U.S. Air Force', 'Military - U.S. Air Force', 'Cubana de Aviacion', 'Military - U.S. Air Force', 'British European Airways', 'Flying Tiger Line', 'Associated Air Transport', 'Military -Royal Air Force', 'Lancashire Aircraft Corporation (Skyways)', 'Military - Egyptian Air Force', 'National Airlines', 'Canadian PacifiAir Lines', 'Military - U.S. Air Force', 'Transocean Air Lines', 'Miami Airlines', 'Western Airlines', 'British Overseas Airways', 'Air India', 'Delta Air Lines', 'KLM Royal Dutch Airlines', 'Military - U.S. Air Force', 'Transocean Air Lines', 'Military - U.S. Navy', 'Aeroflot', 'Air France', 'Orient Airways', 'Regina Cargo Airlines', 'TACA', 'American Airlines', 'Resort Airlines', 'Eastern Air Lines', 'Aerovias Contreras', 'British Commonwealth PacifiAirlines', 'Military - Royal Air Force', 'Military - U.S. Air Force', 'Military -Royal Air Force', 'British Overseas Airways', 'Military - U.S. Air Force', 'Western Airlines', 'Military - U.S. Air Force', 'Military - U.S. Air Force', 'British Overseas Airways', 'Trans Canada Air Lines / RCAF', 'Aerolineas Argentinas', 'Darbhanga Aviation', 'New Zealand National Airways', 'Military - Brazilian Air Force', 'Cathay PacifiAirways', 'Alaska Airlines', 'AVIANCA', 'Braniff Airlines', 'KLM Royal Dutch Airlines', 'Military - U.S. Air Force', 'KLM Royal Dutch Airlines', 'Cruzeiro', 'Military - U.S. Air Force', 'Military - U. S. Navy', 'TAA', 'Northeast Airlines', 'Linee Aeree Italiane', 'Johnson Flying Service', 'Military -Royal Air Force', 'Trans World Airlines / Castleton Inc.', 'United Air Lines', 'Indian Airlines', 'West African Airways', 'Sabena', 'Trans World Airlines', 'Central African Airways', 'American Airlines', 'Military - U.S. Navy', 'Pan American World Airways', 'United Air Lines', 'Air India', 'East African Airways', 'Associated Airways', 'Panair do Brasil', 'Braniff Airlines', 'El Al', 'American Airlines', 'Military - U.S. Air Force / Military - U.S. Air Force', 'British Overseas Airways', 'Flying Tiger Line', 'United Air Lines', 'JAT Yugoslav Airlines', 'United Air Lines', 'Peninsular', 'Military - US Air Force', 'Military - U.S. Air Force', 'Cruzeiro', 'Riddle Airlines', 'Eastern Air Lines', 'Quebecair', 'Military - U.S. Marine Corps', 'Scottish Airlines', 'Transport Aerien Intercontinentaux (France)', 'Pakistan International Airlines', 'Trans World Airlines', 'Northwest Orient Airlines', 'Cordova Airlines', 'Scottish Airlines', 'Military - Royal Canadian Air Force', 'Linea Aeropostal Venezolana', 'British Overseas Airways', 'United Air Lines / Trans World Airlines', 'Trans Canada Air Lines', 'Military - U.S. Air Force', 'Aerolineas Argentinas', 'Canadian PacifiAir Lines', 'Alaska Airlines', 'Military - U.S. Navy', 'Pan American World Airways', 'Military - Egyptian Air Force', 'Britavia', 'Braathens', 'Aerovias Guest', 'Empresa Aviacion del Pacifico', 'Linee Aeree Italiane', 'Linea Aeropostal Venezolana', 'AIDA', 'Trans Canada Air Lines', 'Air France', 'JAT Yugoslav Airlines', 'Linee Aeree Italiane', 'Military - U.S. Air Force', 'American Airlines', 'Fuerza Aérea Argentina', 'Lanica', 'Air France', 'Douglas Aircraft', 'Northeast Airlines', 'Military - U.S. Air Force', 'Alaska Airlines', 'Military -Royal Air Force', 'AVIANCA', 'British European Airways', 'Military - Philippine Air Force', 'Military - U.S. Air Force', 'REAL', 'Transportes Aéreos Mexicanos', 'Military -Royal Air Force', 'Eagle Aviation', 'Aviaco', 'U.S. Overseas Airways', 'LOT Polish Airlines', 'Capital Airlines', 'Queen Charlotte Airlines', 'KLM Royal Dutch Airlines', 'Western Airlines', 'Maritime Central Airways', 'Northeast Airlines', 'REAL', 'British European Airways', 'Iberia Airlines', 'Pan American World Airways', 'Aviaco', 'Aquilla Airways', 'Straits Air Freight Express', 'Aerolineas Argentinas', 'Philippine Air Lines', 'Military - U.S. Navy', 'Military - U.S.  Air Force / Military - U.S. Navy', 'British European Airways', 'Military - U.S. Navy', 'Silver City Airways', 'Military - U.S. Marine Corps/Military - U.S. Marine Corps', 'Private', 'Military - U.S. Air Force/Military - U.S. Air Force', 'Capital Airlines', 'AREA', 'Aviaco', 'United Air Lines / Military - U.S. Air Force', 'Sabena', 'Capital Airlines / Military - Air National Guard', 'Pan American World Airways', 'Capital Airlines', 'Military - U.S. Air Force', 'Central African Airways', 'KLM Royal Dutch Airlines', 'Military - U.S. Air Force', 'Linea Aeropostal Venezolana', 'British European Airways', 'Cubana de Aviacion', 'Yemen Airlines', 'ARTOP Aerotopografica LDA', 'Aviaco', 'BOAC', 'Union Aeromaritime de Transport', 'Sahsa Airlines', 'Southeast Airlines', 'Austral Lineas Aeras (Argentina)', 'Air Jordan', 'Air Charter', 'General Airways', 'American Airlines', 'Dwyer Flying Service - Private Charter', 'Turkish Airlines (THY)', 'TACA', 'Indian Airlines', 'Aviaco', 'Indian Airlines', 'Iberia Airlines', 'Austria-Flugdienst', 'Capital Airlines', 'Capital Airlines', 'Trans World Airlines', 'Military - U.S. Air Force', 'Kalinga Airlines', 'Pakistan International Airlines', 'American Airlines', 'VASP', 'Reeve Aleutian Airlines', 'T.A. Intercontinentaux (France)', 'Braniff Airlines', 'PacifiAir Lines', 'OlympiAirways', 'Piedmont Airlines', 'Wheeler Airlines', 'National Airlines', 'Trans World Airlines', 'Allegheny Airlines', 'Sociedad Aeronautica Medellin', 'California Aircraft', 'Alitalia', 'Garuda Indonesia Airlines', 'Indian Airlines', 'National Airlines', 'Military - U.S. Army', 'Capital Airlines', 'Scandinavian Airlines (SAS)', 'Transportes Aéreos de Timor', 'REAL / Military - U.S. Navy', 'Northwest Orient Airlines', 'SAMSA', 'Lanica', 'Cruzeiro', 'Lloyd Aereo Colombiano', 'Piedmont Airlines / Private', 'Linea Aeropostal Venezolana', 'Balair', 'Delta Air Lines', 'PacifiNorthern Airlines', 'REAL', 'Military - U.S. Navy', 'Military - U.S. Air Force', 'Northwest Orient Airlines', 'Ethiopian Airlines', 'Military - Royal Belgian Air Force', 'Chicago Helicopter Airways', 'Deutsche Flugdienst', 'Military - French Naval Aviation', 'Air France', 'World Airways', 'Austrian Airlines', 'United Arab Airlines', 'Eastern Air Lines', 'Northwest Orient Airlines', 'ArctiPacific', 'Philippine Air Lines', 'Military - Argentine Air Force', 'United Air Lines / Trans World Airlines', 'Military - U.S. Air Force', 'Philippine Air Lines', 'Finnair', 'Aeronaves de Mexico', 'Military - U.S. Navy', 'Garuda Indonesia Airlines', 'American Airlines', 'Garuda Indonesia Airlines', 'Sabena', 'Linea Aeropostal Venezolana', 'Ceskoslovenske Aerolinie', 'LAN', 'Air France', 'KLM Royal Dutch Airlines', 'KLM Royal Dutch Airlines', 'Continentale Deutsche Luftreederei', 'Transcontinental', 'United Air Lines', 'Ceskoslovenske Aerolinie', 'Aerolineas Argentinas', 'Alaska Airlines', 'Cunard Eagle Airways', 'Eastern Provincial Airways', 'Trans World Airlines', 'President Airlines', 'Air France', 'Northwest Orient Airlines', 'United Nations Organization', 'Turkish Airlines (THY)', 'Derby Aviation', 'Bristol 170 Freighter 31M', 'Panair do Brasil', 'Imperial Airways', 'Aerolineas Argentinas', 'Kodiak Airways', 'Corporacion Boliviano de Fomento', 'Faucett', 'Avianca', 'American Airlines', 'Caledonian Airways', 'Turkish Airlines (THY)', 'Military - U.S. Air Force', 'Flying Tiger Line', 'Flying Tiger Line', 'Cubana de Aviacion', 'Military - Colombian Air Force', 'East Anglian Flying Services', 'Cruzeiro', 'Continental Airlines', 'Military - U.S. Navy', 'Air France', 'Air France', 'Alitalia', 'Trans Mediterranean Airways', 'United Arab Airlines', 'Canadian PacifiAir Lines', 'Royal Nepal Airlines', 'Panair do Brazil', 'Taxader Airlines', 'Military - Japan Maritime Self Defense Force', 'Private - Ashland Oil Company', 'Ceskoslovenske Aerolinie', 'Military - U.S. Air Force', 'Flying Tiger Line', 'Trans Canada Air Lines', 'Allegheny Airlines', 'Air Vietnam (South Vietnam)', 'United Air Lines', 'Malev Hungarian Airlines', 'VASP / Private', 'Varig', 'Eastern Air Lines', 'Taxader Airlines', 'Flying Tiger Line', 'Panair do Brasil', 'LOT Polish Airlines', 'Air Nautic', 'Wien Alaska Airlines', 'West Coast Airlines', 'Continental Airlines', 'Middle East Airlines / Military - Turkish Air ForceC-47', 'Slick Airways', 'Northwest Orient Airlines', 'Eastern Air Lines', 'Philippine Air Lines', 'Private', 'Lloyd Aereo Boliviano', 'Middle East Airlines', 'Saudi Arabian Royal Flight', 'Military - Japan Air Self Defense Force', 'Icelandair', 'Air Afrique', 'Northwest Orient Airlines', 'Indian Airlines', 'Military - Royal Belgian Air Force', 'Mohawk Airlines', 'New Zealand National Airways', 'United Arab Airlines', 'Air Inter', 'American Air  Export & Import Co.', 'Aeroflot', 'Military - U.S. Air Force / Military -  U.S. Air Force', 'Swissair', 'New York Airways', 'British Aircraft Corporation', 'Finnair', 'Trans Canada Air Lines', 'Zantop Air Transport', 'Pan American World Airways', 'Trans Mediterranean Airways', 'Western Airlines', 'Aerolineas Litoral Argentina', 'Commercial Air Taxi', 'South Central Airlines', 'Military - Indian Air Force', 'Philippine Air Lines', 'Commercial Air Taxi', 'Eastern Air Lines', 'Fuji Airlines', 'British Eagle International Airlines', 'Paradise Airlines', 'Taxi Aereo de Santander', 'Snow Valley Ski Lines', 'Slick Airways - Cargo', 'Commercial Air Taxi', 'Frontier Airlines', 'Commercial Air Taxi', 'Alitalia', 'Private - Facilities Management Co.', 'Middle East Airlines', 'Wein Alaska Airlines Inc.', 'PacifiAir Lines', 'Fuerza Aérea Argentina', 'Military - U.S. Air Force', 'Philippine Air Lines', 'Commercial Air Taxi', 'Private - Air Taxi', 'Civil Air Transport', 'TASSA', 'Commercial Air Taxi', 'United Air Lines', 'United Air Lines', 'Commercial Air Taxi', 'Eastern Air Lines', 'Private', 'Commercial Air Taxi', 'Wiggins Airways', 'VASP', 'Military - Royal Thai Air Force', 'AVIANCA', 'Union des Transportes Aeriens', 'Commercial Air Taxi', 'Military - Soviet Air Force', 'Mustang Aviati', 'Bonanza Airlines', 'Linjefyg', 'Trans World Airlines', 'Air Congo', 'Commercial Air Taxi', 'Aerolineas Abaroa', 'Fleming Airways System Transport', 'Flying Tiger Line', 'Zantop Air Transport', 'Alva Aircraft Service - Taxi', 'Fairbanks Air Service - Taxi', 'Military - U.S. Air Force', 'LAN', 'Eastern Air Lines', 'Aerolineas El Salvador', 'Air Taxi', 'Fairways', 'Eastern Provincial Airways', 'AVIANCA', 'Iberia Airlines', 'Ortner Air Service - Taxi', 'Baker Aero Inc. - Taxi', 'Aaxico Airlines', 'Iberia Airlines', 'Pakistan International Airlines', 'Military - U.S. Army / Military - U.S. Army', 'Military - U.S. Air Force', 'Pan American World Airways', 'Continental Airlines', 'Military -Royal Air Force', 'Canadian PacifiAir Lines', 'Military - U.S. Air Force', 'Virgin Islands Airways', 'Military - Japan Maritime Self Defense Force', 'Military - Philippine Air Force', 'Rutas Internacionales Peruanes', 'Paraense Transportes Aéreos', 'United Air Lines', 'LOT Polish Airlines', 'Military - U.S. Marine Corps', 'Cordova Airlines', 'Filipinas Orient Airways', 'TAO', 'Pan American World Airways', 'Air America', 'Pakistan International Airlines', 'Kalinga Airlines', 'Philippine Air Lines', 'British European Airways', 'Military - Argentine Air Force', 'American Airlines', 'Aerolineas TAO', 'United Air Lines', 'Skyway Air  - Taxi', 'Paul Kelly Flying Service Inc.', 'Edde Airlines', 'Trans World Airlines / Eastern Air Lines', 'Spantax', 'Military - U.S. Air Force', 'Air Taxi', 'Air Manila', 'Ray A. Gardner - Taxi', 'AVIANCA', 'Air India', 'Military - U.S. Air Force', 'Devener Flying Service - Taxi', 'Lufthansa', 'All Nippon Airways', 'Beatty Flying Service - Taxi', 'Belgian International Air Services', 'Canadian PacifiAir Lines', 'British Overseas Airways', 'Bassett Complany - Taxi', nan, 'United Arab Airlines', 'Layman Weikle - Taxi', 'American Flyers Airline', 'LANSA', 'Military - U.S. Army', 'Kurtzer Flying Service - Taxi', 'Zantop Air Transport', 'McCoy Flying Service - Taxi', 'Lackey Aero Company - Taxi', 'Philippine Air Lines', 'Air New Zealand', 'Alamo Airways', 'Private - Mainline Aviation', 'Braniff Airlines', 'NC Simpson - Taxi', 'Richland Aviation  - Taxi', 'Aerovias Halcon', 'Alaska Coastal Airlines', 'Britannia Airways', 'Iberia Airlines', 'Ansett ANA', 'Avianca', 'West Coast Airlines', 'Petroleum Helicopter', 'Warsaw Aviation - Taxi', 'Gastonia Aviation - Taxi', 'Chester Airport', 'Military - U.S. Air Force', 'All Nippon Airways', 'Pan American Airways', 'Piedmont Airlines', 'Aden Airways', 'Transportno Aviatsionno Bulgaro-Soviet Obshchestvo', 'Military - U.S. Air Force', 'Aerocondor de Colombia', 'AVIANCA', 'Flying Tiger Line', 'Red Bank Air Taxi', 'Channel Air Lift', 'Air Ferry', 'Avanti Aviation -Air Taxi', 'Cubana de Aviacion', 'Vercoa Air Service - Air Taxi', 'Garuda Indonesia Airlines', 'Sahsa Airlines', 'Philippine Air Lines', 'Varig', 'Lake Central Airlines', 'Trans World Airlines / Private', 'West Coast Airlines', 'Military - U.S. Navy', 'South African Airways', \"Harvey's Flying Service - Air Taxi\", 'Harold E. Bell - Air Taxi', 'Delta Air Lines', 'Ace Flying Service', 'Lexington Air Taxi', 'Military - Republiof South Korea Air Force', 'Military - Imperial Iranian Air Force', 'Globe Air', 'Military - U.S. Air Force', 'Pelita Air Service', 'Greylock Airways / Private', 'Greenbriar Airways', 'Air Canada', 'Air Ferry Ltd', 'British Midland Airways', 'Aer Turas', 'Military - Brazilian Air Force', 'Military - U.S. Air Force', 'Military - U.S. Air Force', 'Mohawk Airlines', 'Military - U.S. Marine Corps/Military - U.S. Marine Corps', 'Philippine Air Lines', 'Piedmont Airlines / Private', 'Air Madagascar', 'Vehu Akat', 'Hudgin Air Service', 'Ceskoslovenske Aerolinie', 'Lester C. Bush - Air Taxi', 'Military - U.S. Air Force', 'Inter Island Air - Air Taxi', 'British European Airways', 'Bruns Air Service - Air Taxi', 'Sadia', 'Crest Airlines - Air Taxi', 'Cathay PacifiAirways', 'Trans World Airlines', 'Trans World Airlines', 'Livingston Helicopter - Air Taxi', 'Priority Air - Air Taxi', 'Military - U.S. Air Force', 'Private', 'Kauai Helicopter - Air Taxi', 'Tulakes Aviaiton - Air Taxi', 'Frontier Airlines', 'Thai Airways', 'Aeroflot', 'Executive Air - Air Taxi', 'Imperial Comm - Air Taxi', 'Tanana Air Taxi', 'Military - U.S. Marine Corps', 'Military - U.S. Marine Corps', 'United Arab Airlines', 'Military - Indian Air Force', 'Civil Air Transport', 'Havasu City Air - Air Taxi', 'Air France', 'Military - U.S. Air Force', 'Air Manila', 'Military - French Air Force', 'Viking Airways - Air Taxi', 'Fortaire Aviation - Air Taxi', 'Aer Lingus', 'Ozark Air Lines / Private', 'Military - Russian Air Force', 'British Overseas Airways', 'Canair Corp. - Air Taxi', 'Military - U.S. Army / Military - U.S. Army', 'South African Airways', 'Utility Helocopter - Air Taxi', 'Braniff Airlines', 'Military - Royal Air Force', 'Military - U.S. Air Force', 'Phillips Flying Service - Air Taxi', 'Los Angeles Airways', 'Houston-Beech - Air Taxi', 'Pan American World Airways', 'Rinaldo Piaggio', 'Military - U.S. Army', 'Purdue Airlines Inc.', 'Mid Island Air - Air Taxi', 'Aitalia', 'North Central Airlines / Private', 'British Eagle International Airlines', 'Piedmont Airlines', 'Los Angeles Airways', 'United Arab Airlines', 'Linea Aeropostal Venezolana', 'Island Sky Ferry - Air Taxi', 'Bulair TABSO', 'Far Aviation - Air Taxi / Speeds Flying - Air Taxi', 'Air France', 'Kenai Air Service - Air Taxi', 'Military - U.S. Air Force / Military -  U.S. Army', 'Catalina - Vega - Air Taxi', 'Augusta Aviaiton - Air Taxi', 'Military - U.S. Air Force', 'Northeast Airlines', 'Barrow Air Service - Air Taxi', 'Japan Air Lines', 'Cable Commuter', 'Stikine Air Service - Air Taxi', 'Wien Consolidated Airlines', 'Conquest Airways - Air Taxi', 'Northwest Moon - Air Taxi', 'Pan American World Airways', 'Allegheny Airlines', 'Interior Airways', 'North Central Airlines', 'MaRobertson-Miller Airlines', 'China Airlines (Taiwan)', 'ERA Helicopter', 'Ariana Afghan Airlines', 'Allegheny Airlines', 'Scandinavian Airlines (SAS)', 'United Air Lines', 'Pudget Sound Air - Air Taxi', 'Military - U.S. Air Force', 'Mineral County Airlines', 'Prinair', 'Wien Consolidated Airlines', 'Venezolana Internacional de Aviacion', 'Leamon Flying Service', 'United Arab Airlines', 'Avion Airways', 'Islands of the Bahamas Inc', 'Military - U.S. Army', 'Military - U.S. Navy', 'Simpson Air Service - Air Taxi', 'Indian Airlines', 'Military - U.S. Air Force', 'Military - U.S. Army', 'Flying W Airways', 'Aero Transporti Italiani', 'Compania Mexicana de Aviacion', 'Eureka Aero Inc. - Air Taxi', 'Cascade Airways', 'Air South', 'Interior Airways - Air Taxi', 'New York Airways', 'Safeway Airways', 'Trans Isle Air', 'Trans World Airlines', 'Halvorson - Air Taxi', 'Prior Aviatoin - Air Taxi', 'Air America', 'Private Charter', 'Military - Royal Lao Air Force', 'Military - U.S. Air Force', 'SATENA', 'Allegheny Airlines / Forth Corporation', 'VASP', 'PacifiWestern Airlines', 'Air Vietnam (South Vietnam)', 'Military - U.S. Navy', 'Metro Commuter - Air Taxi', 'Channel Flying Service - Air Taxi', 'Mohawk Airlines', 'Nigeria Airways', 'OlympiAirways', 'Aroostook Air - Air Taxi', 'Military U.S. Navy', 'Galena Air Service - Air Taxi', 'Spantax', 'Military - Royal HelleniAir Force', 'Polynesian Airlines', 'Buckeye Air Service - Air Taxi', 'TAG Airlines', 'Pilgrim Airlines', 'Compania Dominicana de Aviacion', 'Suburban Airlines - Air Taxi', 'Swissair', 'Military - U.S. Navy', 'Commuter Airline - Air Taxi', 'Grand Canyon Airlines', 'Royal Air Maroc', 'East Coast Air - Air Taxi', 'Antillian Airlines', 'Executive Jet Sales Inc.', 'Lehigh Acres Development Inc.', 'Ceskoslovenske Aerolinie', 'Reeder Flying Service', 'Dan Air Services', 'Air Canada', 'Military - Soviet Air Force', 'Del Rio Flying Service - Air Taxi', 'Flying Tiger Line', 'Pakistan International Airlines', 'Lineas Aereas Nacionales SA (Peru)', 'China Airlines (Taiwan)', 'Trans International Airlines', 'Eagle Flight - Air Taxi', 'Charter, Golden Eagle Aviation Inc.', 'Military - U.S. Air Force', 'Private', 'Saturn Airways', 'Delaware Aviation - Air Taxi', 'Southern Airways', 'Military - Vietnamese Air Force / Military - U.S. Army', 'Capital Airlines', 'Military - U.S. Air Force', 'Military - U.S. Air Force', 'Trans Caribbean Airways', 'American Airlines / Private', 'Balkan Bulgarian Airlines', 'Fuerza Aérea del Peru', 'Jamie Ramirez - Air Taxi', 'Western Airlines', 'Military - Philippine Air Force', 'Monument Valle - Air Taxi', 'Costal Airway', 'New England Aviaiton', 'Apache Airlines - Air Taxi', 'Gay Airways - Air Taxi', 'Aviogenex (Yugoslavia)', 'Military - South African Air Force', 'Private', 'Hughes Airwest  / Military - US Marine Air Corps', 'Allegheny Airlines', 'Military - U.S. Air Force', 'SAVCO', 'Shelter Cove Sea Park', 'Toa DomestiAirline (Japan)', 'Anchorage Helicopter - Air Taxi', 'All Nippon Airways /  Japanese Air Force', 'Pan American World Airways', 'Military - French Air Force', 'Trans Alaska Helicopter - Air Taxi', 'Military - U.S. Army', 'Downeast Airlines', 'Alaska Airlines', 'C and C Aviaiton - Air Taxi', 'British European Airways', 'SceniAir Lines', 'Alpena Flying Service - Air Taxi', 'Chicago Southern Airlines', 'Monmouth Airways', 'Military - Royal Air Force', 'Military - U.S. Army', 'Eastern Air Lines', 'Indian Airlines', 'Lineas Aereas Nacionales SA (Peru)', 'Iberia Airlines', 'Kime Flying Service - Air Taxi', 'SATENA', 'JAT Yugoslav Airlines', 'Clarkes Thunder - Air Taxi', 'Royal Air Lao', 'Hankins Airways - Air Taxi', 'Sun Valley Airways - Air Taxi', 'Alii Air Hawaii - Air Taxi', 'Mohawk Airlines', 'Sterling Airways', 'VASP', 'Aero Transporti Italiani', 'Helaire Helicopter', 'East African Airways', 'Air America', 'Alitalia', 'Military - U.S. Army', 'Ross Aviation - Air Taxi', 'Petrolium Helicopter', 'Delta Air Lines', 'Fairbanks Air - Air Taxi', 'Smyer Aircraft - Air Taxi', 'Japan Air Lines', 'Cathay PacifiAirways', 'British European Airways', 'Air Central', 'Military - U.S. Air Force', 'Prinair', 'Seventy Airways - Air Taxi', 'North Central Airlines / Air Wisconsin', 'Casino Air - Air Taxi', 'Military - Royal Norwegian Air Force', 'Military - U.S. Air Force', 'Interflug', 'Military - Royal Australian Air Force', 'Servicios Aereas Virgen de Copacabana', 'Ethiopian Airlines', 'Military - Royal Nepalese Air Force', 'Aeroflot', 'Flamingo Airlines - Air Taxi', 'Aeroflot', 'Uruguayan Air Force - TAMU', 'Private', 'OlympiAirways', 'Air Inter', 'Military - U.S. Army', 'Metro Air Systems', 'Japan Air Lines', 'Luthi Aviation - Air Taxi', 'Spantax', 'EgyptAir', 'United Air Lines', 'Zantop Airways', 'Delta Air Lines/ North Central Airlines', 'Eastern Air Lines', 'American Express Leasing', 'PacifiWestern Airlines', 'British European Airways', 'Aeroflot', 'Alia Royal Jordanian Airlines', 'Air Transit - Air Taxi', 'Harry Faulkner - Air Taxi', 'Red Carpet Flying Service - Air Taxi', 'Aeroflot', 'Petrolium Helo Inc.', 'Libya Arab Airlines', 'Air Taxi', 'Military - Polish Air Force', 'Balkan Bulgarian Airlines', 'Lineas Aereas de Espana/Spantax SA Transportes', 'Military - U.S. Navy', 'Invicta International Airlines (UK)', 'Military - U.S. Navy / NASA', 'Military - U.S. Navy', 'Air Iowa', 'Air Taxi', 'Winship Air Service - Air Taxi', 'Indian Airlines', 'Varig', 'Pan American World Airways', 'Ozark Air Lines', 'Air Hawaii', 'Delta Air Lines', 'Revilla Flying Service - Air Taxi', 'Aviaco', 'Private', 'Aerovias Brasil', 'Trans World Airlines', 'Military - U.S. Air Force', 'Aegler Stuart Flying Service  / Private', 'World Airways', 'Wicks Flying Service - Air Taxi', 'Private Charter', 'Dunlap Aviation - Air Taxi', 'Lisa Jet Inc. - Air Taxi', 'Texas International Airlines', 'Aeroflot', 'Aeroflot', 'Jack N. Boswick - Air Taxi', 'National Airlines', 'Pan American World Airways', 'Churchill Falls Co.', 'Pan American World Airways', 'Capitol Air Service - Air Taxi', 'Sobelair SA (Belgium)', 'Itavia', 'Air East', 'Military - Colombian Air Force', 'Cessnyca', 'Inland Aviation - Air Taxi', 'Turkish Airlines (THY)', 'Taos Airways - Air Taxi', 'Theif River Aviation - Air Taxi', 'Pan American World Airways', 'Pan American World Airways', 'Military - West German Air Force', 'North Cay Air - Air Taxi', 'Turkish Airlines (THY)', 'Executive Air - Air Taxi', 'Sierra PacifiAirlines', 'Sterling Airways', 'Wenela Air Services', 'Island Air', 'Pan American World Airways', 'Houston Metro Airlines', 'Aero Taxis Equatorianos', 'Fragtflug', 'Saturn Airways', 'Aerolineas TAO', 'Alaska Helicopter - Air Taxi', 'Aeronorte Colombia', 'AVIANCA', 'MerriAviation - Air Taxi', 'Trans World Airlines', 'Eastern Air Lines', 'Air Vietnam (South Vietnam)', 'Riverside Air', 'Frontier Flying Service - Air Taxi', 'Winship Air Service', 'North Cay Airways', 'Webber Airlines -Air Taxi', 'Mabuhay Airways', 'Deming Flying Service - Air Taxi', 'AltusFlying Service - Air Taxi', 'Henry Nichols - Air Taxi', 'Alaska International Air', 'Hlavka Aviation - Air Taxi', 'Pan ArctiOil', 'Southeast Sky - Air Taxi', 'Lufthansa', 'Trans World Airlines', 'Northwest Orient Airlines', 'Martinair Holland NV', 'Aerovias Venezolanas SA (Venezuela)', 'Harbor Airlines - Air Taxi', 'Richland Flying Service - Air Taxii', 'SATENA', 'Golden West Airlines / Private', 'Channel Flying Service - Air Taxi', 'Horizon Properties', 'Philippine Air Lines', 'PacifiAlaska Airlines', 'Aerocondor', 'Burlington Air - Air Taxi', 'Air Vietnam (South Vietnam)', 'Military - Argentine Air Force', 'Military - U.S. Air Force', 'Military - U.S. Air Force', 'Skips Air Service - Air Taxi', 'Gay Airways - Air Taxi', 'Foster Aviation', 'Military - U.S. Air Force', 'Eastern Air Lines', 'Hamilton Aviation', 'Taxi Aereo El Venado', 'Oceanaire Helicopter - Air Taxi', 'Military - U.S. Air Force', 'Alia Royal Jordanian Airlines', 'Military - Nicaraguan Air Force', 'Continental Airlines', 'Ceskoslovenske Aerolinie', 'Portsmouth Aviation - Air Taxi', 'Wien Air Alaska', 'Connair', 'Air Taxi', 'TAM (Bolivia)', 'Inex Adria Aviopromet', 'Petroleum Helicopter', 'Quakertown Aviation - Air Taxi', 'Military - Israel  Air Force', 'SceniAirline - Air Taxi', 'Star Aviation', 'Middle East Airlines', 'Winship Air', 'Orlando Airways - Air Taxi', 'Green Acres - Air Taxi', 'Frigorifico Maniqui', 'TAME', 'Falcon Airways - Air Taxi', 'Mercer Airlines', 'Antilles Air', 'Aeroflot', 'Kodiak Western Alaska Airlines', 'Sky Haven - Air Taxi', 'Alaska Airlines', 'North Sound Aviation', 'Royal American - Air Taxi', 'Chartair - Air Taxi', 'Petroleum Helicopter', 'American Airlines', 'Frontier Flying Service - Air Taxi', 'Military - Imperial Iranian Air Force', 'Lab Flying Service - Air Taxi', 'Air Manila', 'Sky Chopper  - Air Taxi', 'Reed Aviation - Air Taxi', 'Capitol Air Service - Air Taxi', 'Mamer - Shreck  - Air Taxi', 'Green River Aviation - Air Taxi', 'Military - U.S. Air Force', 'Military - U.S. Air Force', 'Temsco Helicopter - Air Taxi', 'Military - Venezuelan Air Force', 'Aeroflot / Aeroflot', 'Inex Adria Aviopromet / British Airways', 'Turkish Airlines (THY)', 'Loma Linda University - Air Taxi', 'Cubana de Aviacion', 'Aero National - Air Taxi', 'Indian Airlines', 'Skyline Aviation - Air Taxi', 'Taxi Aereo el Venado', 'Aeroleasing - Air Taxi', 'OlympiAirways', 'Aeroflot', 'Grand Canyon Air - Air Taxi', 'AtlantiCity Airlines', 'EgyptAir', 'Jet Avia Charter', 'Aeroflot', 'Japan Air Lines', 'Military - Italian Air Force', 'Private', 'Overseas National Airways', 'Pan American World Airways / KLM', 'Southern Airways', 'Military - Israel Air Force', 'LOT Polish Airlines', 'IAS Cargo', 'New  York Helicopter', 'Intracostals - Air Taxi', 'Military - U.S. Navy', 'Fleming International Airways', 'Military - Angolan Air Force', 'Ethiopian Airlines', \"Harold's Air Service\", 'Military - Chilean Air Force', 'Military - Honduran Air Force', 'Gaige Aviation - Air Taxi', 'Private KNBC Los Angeles', 'Rambar Aviation - Air Taxi', 'Island Airways', 'Transmeridian Air Cargo', 'Wright Air Service - Air Taxi', 'Alaska Aeronautical Industries', 'Safe Air Cargo', 'Military - U.S. Air Force', 'Malev Hungarian Airlines', 'Salida Flying Service - Air Taxi', 'Kenmore Air  - Air Taxi', 'Air Logistics', 'L & J Company', 'Military - U.S. Marine Corps', 'TAP (Air Portugal)', 'Ethiopian Airlines', 'Austral Lineas Aeras (Argentina)', 'Military - French Air Force', 'Resort Air Service - Air Taxi', 'Malaysia Airlines', 'Petroleum Helicopter', 'Military - U.S. Navy', 'National Jet Services Inc.,  (Air Indiana)', 'Straley Flying Service - Air Taxi', 'United Air Lines', 'Vieques Air Link', 'Aviation Charter - Air Taxi', 'Air India', 'Aviation Charter - Air Taxi', 'Henry Webber Air - Air Taxi', 'SADELCA', 'Columbia PacifiAirlines', 'Military - Uruguayan Air Force', 'PacifiWestern Airlines', 'Chartair - Air Taxi', 'Yute Air Alaska - Air Taxi', 'Security Air', 'Continental Airlines', 'Island Air', 'Nigeria Airways', 'Hesler Noble - Air Taxi', 'Wyman Pilot Service - Air Taxi', 'Lake Havasu Air', 'Burma Airways', 'Aero Clube de Volta Redonda', 'Air Logistics', 'Antilles Air', 'Air Taxi', 'National Airlines', 'Air Canada', 'Air Taxi', 'Las Vegas Airlines', 'Antillies Air - Air Taxi', 'Air Rhodesia', 'Air Taxi', 'Temesco Helicopter - Air Taxi', 'Alaska Travel', 'Military - Philippine Air Force', 'PacifiSouthwest Airlines / Private', 'Francisco Cruz', 'Era Helicopter - Air Taxi', 'Don Zimmerman - Air Taxi', 'Astrd Wing Aviaiton - Air Taxi', 'Loftleidir IcelandiAirlines', 'Festus Flying Service - Air Taxi', 'Military - Indian Air Force', 'Tyee Airlines - Air Taxi', 'Corporate Air - Air Taxi', 'Rocky Mountain Airways', 'Galesburg Aviation - Air Taxi', 'Chugiak Aviation - Air Taxi', 'Alitalia', 'United Air Lines', 'Nash and Tampo - Air Taxi', 'L.J. Simmons - Air Taxi', 'Air Algerie', 'Allegheny Airlines', 'Air Rhodesia', 'Air New Zealand', 'Air Service - Air Taxi', 'Universal Airways', 'Agee Flying Service - Air Taxi', 'Garuda Indonesia Airlines', 'Swift Aire Lines Inc.', 'CAAC', 'Aeroflot', 'Aeroflot', 'Village Aviation - Air Taxi', 'SW Air Rangers - Air Taxi', 'New York Airways', 'American Airlines', 'Sea Airmotive', 'Downeast Airlines', 'Military - Indian Air Force', 'Skystream Airlines', 'Air New England', 'Garuda Indonesia Airlines', 'Soldotna Air Services', 'Trans National Airlines', 'Prinair', 'Boise Air Service', 'Southern Jersey Air - Air Taxi', 'Aeroflot / Aeroflot', 'Bradley Air Services', 'Butler Aviation Inc.', 'Aero Transporti Italiani', 'Southeast Skyways - Air Taxi', 'Comair', 'Spernak Airway - Air Taxi', 'Rhoadgs Aviation - Air Taxi', nan, 'Western Airlines', 'Bankair Inc. - Air Taxi', 'McKenzie Flying Service - Air Taxi', 'American Airlines', 'Aeroflot', 'Transamerica Airlines', 'Pakistan International Airlines', 'Air New Zealand', 'Fuerza Aérea del Peru', 'Private charter', 'Ambler Air Service', 'Iran National Airlines', 'Military - Union of Burma Air Force', 'Rotor Airs In- Air Taxi', 'China Airlines (Taiwan)', 'LOT Polish Airlines', 'Military - U.S. Air Force', 'Eagle Commuter', 'Transbrasil', 'Dan Air Services', 'Thai Airways', 'Northeast Jet', 'Spanish Air Force', 'Lineas Aereas de Angola', 'Air Wisconsin', 'Aero PaLease - Air Taxi', 'Itavia', 'Aeroflot', 'SceniAirlines', 'Air Pennsylvania - Air Taxi', 'Yute Air Alaska - Air Taxi', 'Air Logistics', 'Tarom', 'Spantax', 'Saudi Arabian Airlines', 'Florida Commuter Airlines', 'Military - Royal Saudi Air Force', 'Tampa Air Center - Air Taxi', 'Military - U.S. Air Force', 'Central Air Services', 'Queen Airmotive - Air Taxi', 'Penninsula Airways - Air Taxi', 'Transportes Aereos del Caribe', 'Saudi Arabian Airlines', 'Cascade Airways', 'Orcon Inc. - Air Taxi', 'Walker - Watts Aviation - Air Taxi', 'Private - Corporate', 'Helicopter - Air Taxi', 'Berkshire Aviation - Air Taxi', 'Military - U.S. Air Force', 'Air Chaparral - Air Taxi', 'Military - French Naval Aviation', 'Galena Air Service - Air Taxi', 'Freedom International', 'Air US / Private', 'Airfast Indonesia', 'Military - U.S. Air Force', 'Austral Lineas Aeras (Argentina)', 'Military - Ecuadorean Air Force', 'Shanair Inc. - Air Taxi', 'G & W Aviation', 'TAR', 'Air Taxi', 'Skagway Air Service - Air Taxi', 'Far Eastern Air Transport', 'Aeroflot', 'Military - Turkish Air Force', 'Military - Iranian Air Force', 'Sky Train Air', 'NLM (Nederlandse Luchtvaart Maatschappij)', 'Aerolineas Argo', 'Moyer Aviation - Air Taxi', 'Aeroflot', 'Inex Adria Aviopromet (Yugoslavia)', 'Private - Parajump air show', 'Spernak Airways - Air Taxi', 'Hudson Air Service - Air Taxi', 'ACES Colombia', 'Sun West Airline - Air Taxi', 'Air Florida', 'World Airways', 'Military - French Air Force', 'Military - Republiof South Korea Air Force', 'Japan Air Lines', 'Pilgrim Airlines', \"Wideroe's Flyveselksap\", 'Private', 'Military - U.S. Air Force', 'Air Taxi', 'Military - U.S. Air Force', 'CAAC', 'Air Taxi', 'Military - Royal British Navy', 'Military - Republiof South Korea Air Force', 'VASP', 'British Airways', 'Aeroflot', 'Aeroflot', 'Pan American World Airways', 'Air Taxi', 'Western Helicopter', 'Air Taxi', 'Air Taxi', 'Military - Nicaraguan Air Force', 'Military - U.S. Air Force', 'Military - U.S. Army', 'Spantax', 'Air Taxi', 'Air Taxi', 'Air Taxi', 'Air Taxi - Basco Flying Service Inc.', 'Pioneer Airlines', 'Aeronor Chile', 'Military - Nicaraguan Air Force', 'Air Taxi - Tyee Airlines Inc.', 'Air Taxi - Custom Air Transport Inc.', 'United Air Lines', 'Air Taxi', 'Avensa', 'Air Taxi', 'Central Airlines', 'Munz Northern Airlines', 'Aeroflot', 'Japan Air Self-Defence Force', 'Military - Japan Maritime Self Defense Force', 'SAN Ecuador', 'Eastern Air Lines', 'Military - Royal Thai Air Force', 'Air Canada', 'Linair Express', 'Military - Republiof China Air Force', 'Air Taxi - Four Corners Aviation Inc.', 'TAME', 'Air Canada', 'Air Taxi - Northern Air Services Inc.', 'Las Vegas Airlines', 'Aeroflot', 'Korean Airlines', 'CAAC', 'Gulf Air', 'Air Taxi', 'Air Taxi - Ozark Skyways Inc.', 'Air Illinois', 'Pennsylvania Airlines', 'TAAG Angola Airlines', 'Air Taxi', 'AVIANCA', 'Iberia Airlines / Aviaco', 'Air Taxi - Island Airlines', 'TAMPA Colombia', 'Inuvik Coastal Airways', 'Skycraft Air Transport', 'Britt Airways', 'Scandinavian Airlines (SAS)', 'Military - U.S. Air Force', 'Aerosucre Colombia', 'Military - U.S. Marine Corps', 'State Airlines', 'Zantop International Airlines', 'Air Taxi - Raco Helicopters Corp.', 'Coval Air', 'Air Taxi', 'South PacifiIsland Airways', 'Air Taxi', 'Vieques Air Link', 'Aviation Enterprises', 'Wings West Airlines / Private', 'Provincetown - Boston Airlines', 'AECA Cargo', 'Air Niagara', 'Air Taxi - Desert Flying Service', 'Aeroflot', 'Labradore Airways', 'Provincetown - Boston Airlines', 'Air Taxi - Richards Aviation Inc.', 'Air Taxi - Delaware Aviation LLC', 'Fuerza Aérea del Peru', 'Aeroflot', 'Eastern Air Lines', 'TPI International Airways', 'Cubana de Aviacion', 'Air Taxi', 'Galaxy Airlines', 'Military - U.S. Air Force', 'AIRES Colombia', 'Aerolineas Centrales de Colombia', 'Air Taxi - Air Trends Inc.', 'North PacifiAirlines', 'Air Taxi - Oklahoma Airways Inc.', 'Air Taxi - Mercy Flights Inc.', 'China Airlines (Taiwan)', 'Iberia Airlines', 'SATENA', 'Air Taxi - Eidoarie Inc.', 'Thai Airways', 'American Airlines', 'Air Taxi - Monument Valley Air Service', 'Aeroflot / Soviet Air Force', 'Military - U.S. Marine Corps', 'Air Taxi', 'Acme Air', 'General Aviation Inc.', 'Air India', 'Aeroflot', 'Air Ohio - Air Taxi', 'Fuerza Aérea Colombiana', 'Delta Air Lines', 'Japan Air Lines', 'Air Taxi - Jet Alaska', 'British Airtours', 'Bar Harbor Airlines', 'Ariana Afghan Airlines', 'Midwest Express', 'Air Taxi - Henson Airlines', 'Air Carriers Express Services Inc', 'Nordeste Linhas Aéreas', 'Pel Air', 'Aeroflot', 'Mountain Air Cargo', 'Jet Alaska', 'Air Taxi- Hermans Air Inc.', 'EgyptAir', 'Arrow Airways', 'Private', 'Aerovias de Guatemala SA', 'Air Taxi', 'VASP', 'Aeroflot', 'Simmons Airlines', 'Goose Bay Air Services', 'Military - Mozambique Air Force', 'Mexicana', 'ACES Colombia', 'Military - El Salvador Air Force', 'Air Taxi - Islip Airco Inc.', 'Military - French Naval Aviation', 'Loganair', 'Grand Canyon Airlines / Helitech', 'Aeroflot', 'Aeroflot', 'Air Taxi', 'Leeward Islands Air Transport', 'Military - Honduran Air Force', 'Sudan Airways', 'Air Taxi', 'Denver Air Center', 'Southwest Airlift', 'Aeromexico / Private', 'Peninsula Air Services', 'Pan American World Airways', 'Kondair', 'AtlantiSoutheast Airlines', 'Southern Air Transport', 'Air Taxi - New London Flying Services Inc.', 'Government of Mozambique', 'Aeroflot', 'Private - WNBC', 'Pakistan International Airlines', 'Military - Nicaraguan Air Force', 'Military - Iranian Air Force', 'Sunflower Airlines', 'Military - Spanish Air Force.', 'Military - Ethiopian Air Force', 'Skywest Airlines / Private.', 'Aeroflot', 'California Air Charter', 'Military - Afghan Republican Air Force', 'Northwest Airlink', 'Aeroflot', 'California Air National Guard', 'Connie Kalitta Services', 'Military - Afghan Republican Air Force', 'Air Taxi', 'Scanex Air', 'Garuda Indonesia Airlines', 'Burlington Air Express', 'Air-Lift Commuter', 'American Eagle', 'LOT Polish Airlines', 'Air Manitoba', 'Air Taxi', 'Military - Peruvian Air Force', 'Philippine Air Lines', 'Belize Air International Ltd.', 'Northwest Airlines', 'Thai Airways', 'EgyptAir', 'Air Taxi', 'Aero Transporti Italiani', 'Air Taxi - Flying School of the Cascades Inc.', 'Air Malawi', 'Kenn Borek Air', 'Continental Airlines', 'Ryan Air Services', 'South African Airways', 'Korean Airlines', 'PacifiSouthwest Airlines', 'Military - Brazilian Air Force', 'Air Littoral', 'Air Taxi', 'Southcentral Air', 'Panorama Air Tour', 'Condor Flugdienst', 'Phoenix Air', 'China Southwest Airlines', 'Aeroflot', 'Trans Colorado AL / Continental Express', 'Aeroflot', 'Air Taxi - Minuteman Aviation Inc.', 'NFD - Nurnberger Flugdienst', 'AV Air / American Eagle', 'Aeroflot', 'Talia Airways', 'Commercial Airways (Comair)', 'Transport Arien Transregional', 'Military - U.S. Army', 'AVIANCA', 'Arax Airlines', 'Military - Afghan Republican Air Force', 'United Airways', 'Aeroflot', 'Aloha Airlines', 'Jay Hawk Air - Air Taxi', 'TACA', 'Starair', 'Austral Lineas Aeras (Argentina)', 'Air France', 'Iran Air', 'TACA', 'Northeast Jet', 'Air Taxi - Temesco Helicopters Inc.', 'Geoterrex', 'Military - Pakistan Air Force', 'Aeroflot', 'Military - Italian Air Force', 'CAAC', 'Delta Air Lines', 'Wrangell Air Service', 'Hang Khong (Vietnam)', 'TAME Ecuador', 'Ethiopian Airlines', 'Bradley Air Services', 'Military - Afghan Republican Air Force', 'Aeroflot', 'Military - U.S. Air Force', 'Air Taxi - Northern Arizona Aircraft Inc.', 'Uganda Airlines', 'Indian Airlines', 'Vayudoot', 'Aero Peru', 'Air Taxi - TAJ FBO Co.', 'Wasa Wings', 'Air Littoral', 'Aero Club Libya', 'Aeroflot', 'Military - Afghan Republican Air Force', 'GAS Air', 'Pan American World Airways', 'British Midland Airways', 'Bradley Air Services', 'Military - U.S. Air Force', 'Burma Airways', 'RAM', 'Independent Air Inc.', 'Flying Tiger Line', 'Air Taxi - Las Vegas Flyers Inc.', 'United Air Lines', 'Transfair', 'Air Ontario', 'Mid PacifiAir', 'Evergreen International Airlines', 'Military - U.S. Marine Corps', 'Transbrasil', 'Europe Aero Service EAS', 'Southern Express', 'Holmstoem Air', 'Surinam Airways', 'SceniAir Tours', 'Aerotaca', 'Interflug', 'Ariana Afghan Airlines', 'Fuerza Aérea del Peru', 'Cameroon Airlines', 'Somali Airlines', 'Calair', 'United Air Lines', 'Air Taxi - Centre Airlines Inc.', 'Aeroflot', 'Philippine Air Lines', 'Korean Airlines', 'Air Freight New Zealand', 'OlympiAviation', 'RRC Air Service', 'Aspring Air', 'Private', 'Air Taxi', 'Pakistan International Airlines', 'Bay Land Aviation', 'Varig', 'Cubana de Aviacion', 'Partnair', 'Wehite Cap Aviation', 'Union des Transportes Aeriens', 'USAir', 'Vayudoot', 'Skylink Airlines', 'Grand Canyon Airlines', 'Winchester Air', 'Air Taxi - Paramount Aviation Corp.', 'Aeroflot', 'TAN', 'China Airlines (Taiwan)', 'Aloha Island Air', 'Aeroflot', 'Korean Airlines', 'AVIANCA', 'Lineas Aéreas Cave', 'New England Airlines', 'Military - U.S. Army', 'Military - Bolivian Air Force', 'United Express', 'Pelita Air Service', 'Aeroflot', 'SANSA', 'Federal Express', 'Aeroflite Services', 'Military - Venezuelan Navy', 'AVIANCA', 'Military - Congolese Air Force', 'Airborne Express', 'Wiggins Airways', 'Helicopteros Nacionales de Colombia', 'TAM (Brazil)', 'Indian Airlines', 'Military - Zambian Air Force', 'Federal Express', 'Sinquanon Management - Air Taxi', 'Aeroflot', 'Air Taxi - Transamerica', \"Wideroe's Flyveselksap\", 'MATS - Manila Aero Transport System', 'Frontier Air', 'Aerial Transit Company', 'Avicsa', 'Aerolift Philippines', 'Ptarmigan Airways', 'TABA', 'British Airways', 'Air Taxi - Trail Lake Flying Service Inc.', 'Air Taxi - Aero West Aviation Inc.', 'Aeroflot', 'Private - Omniflight Helicopters', 'Military - U.S. Air Force', 'Frontier Flying Service', 'Faucett', 'HiTech Helicopters', 'China Southwest Airlines / Xiamen Airlines', 'Eastern Air Lines', 'BAFIN', 'Cubana de Aviacion', 'Alitalia', 'Bangkok Airways', 'Northwest Airlines/ Northwest Airlines', 'MarkAir Commuter', 'Military - Venezuelan Navy', 'Merpati Nusantara Airlines', 'USAir / Skywest Airlilnes', 'Macon Horizons - Air Taxi', 'Air Taxi - Richmor Aviation', 'Ryan International Airlines', 'LAN', 'United Air Lines', 'Linea Aeropostal Venezolana', 'Luft-Taxi Emsland', 'Duncan Aircraft Sales', 'Military - U.S. Navy / Military -  U.S. Navy', 'Uzbek Civil Aviation Administration', 'Military - Indian Air Force', 'TropiAir - Air Taxi', 'Central Mountain Air Services', 'Private', 'AtlantiSoutheast Airlines', 'Air Tahiti', 'Air Taxi - Air Grand Canyon Inc.', 'Aeroflot', 'Lauda Air', 'Agape Flight Inc.', 'Carib Air Transport', 'Aerosucre Colombia', 'Okada Air', 'Helicol Colombia', \"L'Express Airlines\", 'Nationair (chartered by Nigeria Airways)', 'Jetstream Inc.', 'Air Taxi -Wilderness Aviation Inc.', 'Air Taxi - Haines Airways Inc.', 'Indian Airlines', 'Temsco Airlines', 'Air Taxi - Bohemia Inc.', 'Continental Express', 'Canair Cargo', 'Military - Indonesian Air Force', 'Corporate Mobility Inc. - Private', 'Military - Royal Canadian Air Force', 'Nordeste Linhas Aereas', 'Baron Aviation', 'Air Taxi - Airis Helicopters Inc.', 'STASA', 'Tartarstan Airlines', 'Las Vegas Airlines', 'Bruno Air', 'ClassiWings', 'Scandinavian Airlines (SAS)', 'China Airlines (Taiwan)', 'Commutair', 'Air Taxi - Air Vegas Inc.', 'Air Inter', 'Military - Azerbaijan Air Force', 'Nordeste Linhas Aéreas', 'Military - U.S. Air Force', 'Gambcrest', 'ATI', 'Frigorifico Santa Rita', 'CC Air', 'USAir', 'Golden Star Air Cargo', 'Air Taxi - Basco Flying Service Inc.', 'SceniAir Tours', 'Perris Valley Aviation', 'American Eagle', 'GP Express Airlines', 'Jet Charter Group', 'Air taxi', 'Adventure Airlines', 'VASP', 'Krasnoyarskavia', 'Caribbean Air Carrier - Air Taxi', 'Military - Sri Lanka Air Force', 'ArctiCircle Air Service', 'Mandala Airlines', 'Aero Eslava', 'Air Taxi - Western Helicopter Inc.', 'Trans World Airlines', 'Thai Airways', 'China General Aviation Corporation', 'Lone Star Airlines', 'Aeroflot', 'NewCal Aviation', 'Professional Aviation Services', 'EXA Inc.', 'Air Taxi - Hawaii Helicopters Inc.', 'Military - Federal Nigerian Air Force', 'Pakistan International Airlines', 'El Al', 'Miltiary - U.S. Airforce', 'Air Taxi - Alpine Aviation', 'Air Taxi - Baker Aviation Inc.', 'Vietnam Airlines', 'Air Taxi - Wilderness Aviation Inc.', 'China Southern Airlines', 'Military - U.S. Air Force / Military - U.S. Air Force', 'Martinair Holland NV', 'Libya Arab Airlines / Military -  Libya Air Force', 'Air Taxi - South Coast Helicopters Inc.', 'Lufthansa Cityline', 'Central Mountain Air Services', 'Iran Air Tours  /  Military - Iranian Air Force', 'Palair Macedonian', 'Air Taxi - Guinn Flying Service', 'West Aviation', 'Oeste Linhas Aereas', 'Japan Air Lines', 'Private', 'Air Taxi - Sea PacifiInc.', 'China Eastern Airlines', 'Private', 'Indian Airlines', 'Military - Zambian Air Force', 'GP Express Airlines', 'SAM Colombia', 'Tajikistan Airlines', 'Private', 'China Northwest Airlines', 'Asiana Airlines', 'Everest Air', 'Air Taxi - Air Medical Leasing', 'American International Airways', 'Tajikistan Airlines', 'Lufthansa', 'Transair Georgia Airlines', 'China Eastern Airlines', \"Wideroe's Flyveselksap\", 'Roadrunner Airlines', 'Air Manitoba', 'China Northern Airlines', 'Magistralnye Avialinii', 'Aviaimpex (Macedonia)', 'Express Airlines - Northwest Airlink', 'Lao Aviation', 'Military - Philippine Air Force', 'Air Taxi - Martin Aviation LP', 'Baikal Air', 'Kimura International', 'AtlantiCoast Airlines (United Express)', 'North Western Air Transport', 'British World Airways', 'Continental Airlines', 'Sahara', 'Military - Iranian Air Force', 'Salair', \"Chalk's International Airlines\", 'Aeroflot Russian International Airways', 'Military - U.S. Air Force / Military U.S. Air Force', 'Air Taxi - El Aero Services Inc.', 'KLM Cityhopper', 'Military - U.S. Army / Military U.S. Army', 'China Airlines (Taiwan)', 'Action Airlines', 'Lineas Aereas de los Libertadores', 'Arall', 'Transoriente Colombia', 'Military - Royal Air Force', 'China Northwest Airlines', 'Aerolineas Cuahonte', 'TAESA', 'Merpati Nusantara Airlines', 'Air Taxi - Sun Western Flyers Inc.', 'Air Ivorie', 'Airbus Industrie', 'Air Mauritanie', 'USAir', 'Air Taxi - Peninsula Airways', 'Air Taxi - Papillion Helicopters Ltd.', 'Air Martinique', 'Military - Russian Air Force', 'Air Taxi - Uyak Air Services Inc.', 'Korean Airlines', 'Air Taxi - Talon Air Services Inc.', 'Air Taxi - National Helicopters', 'Air Taxi - Lake Clark Air Inc.', 'USAir', 'Aerocontroctors - Charter', 'PacifiCoastal Airlines', 'Oriental Airlines', 'Heavylift Cargo Airlines', 'Cheremshanka Airlines', 'Arsenyev Aviation Production Association', 'SELVA', 'Iran Asseman Airlines', 'Military - Brazilian Air Force', 'Aeronica', 'American Eagle', 'Ameriflight', 'Southwest Air', 'Trans World Airlines / Private', 'Philippine Air Lines', 'Air Taxi - Ryan Air Service', 'American Eagle', 'SL Aviation Services', 'Servivensa', 'Missionary Aviation Fellowship', 'Phoenix Aviation', 'Air France', 'Turkish Airlines (THY)', 'Military - Iranian Air Force', 'Intercontinental de Aviacion', 'Empire Airlines', 'Canada Jet Charters', 'West Air', 'Air Taxi - Coastal Airways Inc.', 'Air Taxi - Wolfe Air Aviation Ltd.', 'Royal Nepal Airlines', 'Abakan Airlines', 'Transasia Airways', 'Las Vegas Airlines', 'ATI', 'Union Flights', 'Kiwi West Aviation', 'Transporturile Aeriene Romane (TAROM)', 'Military - U.S. Air Force', 'Bristow Helicopters', 'IAI 1124 Westwind', 'Bearskin Airlines / Air Sandy', 'American Jet', 'ADES Colombia', 'Knight Air', 'LACOL', 'ValuJet', 'Ansett New Zealand', 'Aeroflot', 'Harka Air Services', 'Salair', 'Air Taxi - Island Air Service', 'Air Taxi - Lab Flying Service Inc.', 'Milne Bay Air', 'Aviateca', 'AtlantiSoutheast Airlines', 'North Star Air Cargo', 'Adventure Airlines', 'SAETA', 'Military - Sri Lanka Air Force', 'Bimini Air Charter Inc.', 'Malaysia Airlines', 'Tamair', 'MIAT - Mongolian Airlines', 'Military - U.S. Air Force', 'Western Straits Air', 'Sabang Merauke Raya Air Charter', 'Air Taxi - Durango Air Service', 'TACSA', 'Military - Argentine Air Force', 'Nigeria Airways', 'Military - Sri Lanka Air Force', 'Sabah Air', 'Azerbaijan Airlines', 'Cameroon Airlines', 'Azerbaijani Airlines', 'Far East Aviation', 'Air St. Martin', 'Romanian Banat Air', 'American Airlines', 'African Air', 'Military - Nigerian Air Force', 'Military - Sri Lanka Air Force', 'Soundsair', 'Lineas Aereas del Caribe', 'Business Air Connection', 'Alas Nacionales, leased from Birgen Air', 'Aérotaxi Cachanilla', 'Hati Express', 'Military - Sudanese Air Force', 'Aero Tropical', 'Compania de Aviacion Faucett SA (Peru)', 'Key West Sea Plane Service - Air Taxi', 'Military - U.S. Air Force', 'Krasnoyarskie Avialinii', 'Private', 'Federal Airlines', 'ValuJet', 'Milne Bay Air', 'Loganair', 'Iran Air', 'Military - Australian Army Aviation', 'Garuda Indonesia Airlines', 'China Flying Dragon Aviation (Feilong Airlines)', 'Delta Air Lines', 'Milne Bay Air', 'Archana Airlines', 'Military - Belgian Air Force', 'Trans World Airlines', 'Aerolatino (Aerocaribe)', 'Northern Air Cargo', 'First Air', 'Military - U.S. Air Force', 'Harbour Air', 'Spair Air Transport', 'Vnokovo Airlines', 'Air Taxi - Stearns Air Alaska', 'Dutch Dakota Association', 'Aeroperu', 'Aeroflot', 'Air Taxi - Seaside Air Service', 'Telford Aviation', 'Million Air', 'Tyumen Aviatrans', 'TAM (Brazil)', 'Transported Areos Profesionales - TAPSA', 'Aviation Development Corporation', 'Jetcom S.A.', 'Saudi Arabian Airlines / Kazastan Airlines', 'United Express  / Private', 'Military - U.S. Air Force', 'Ethiopian Airlines', 'ArctiTransportation Services', 'Military - Russian Air Force', 'ACES Colombia', 'Dirgantara Air Services', 'Emery Worldwide', 'SELVA', 'Airborne Express', 'Military - Indian Air Force', 'Aircraft Charter Group Inc', 'Tar Heel Aviation', 'Polynesian Airlines', 'Comair', 'Southcentral Air', 'Air Senegal', 'Force Area Populaire de Angola', 'Military - Israel Air Force /Military -  Israel Air Force', 'Varig', 'Transpolar', 'Military - Iranian Air Force', 'Stavropol Airlines', 'Custom Air Service', 'Hageland Aviation Services', 'Merpati Nusantara Airlines', 'Military - Afghan Republican Air Force', 'China Southern Airlines', 'Bazair', 'Elbee Airlines', 'TAM (Brazil)', 'Cubana de Aviacion', 'Haines Airways - Air Taxi', 'Sempati Air', 'Goroka Air Services', 'Singapore Airlines', 'Air Littoral', 'Korean Airlines', 'Fine Air', 'Formosa Airlines', 'Private', 'Air taxi', 'Air taxi - TAM', 'Vietnam Airlines', 'Borneo Airways', 'Military - Luftwaffe / Military - USAF', 'Garuda Indonesia Airlines', 'SceniAirlines', 'Naysa Aerotaxis', 'Austral Lineas Aeras (Argentina)', 'Private', 'Hageland Aviation Services', 'Military - Russian Air Force', 'Sowind Air', 'STAP', 'Tajikistan Airlines', 'Terry Air Inc.', 'Aerosweet Airlines (LVOV)', 'SilkAir', 'United Air Lines', 'Parsa', 'Mountain Air Cargo', 'Ariana Afghan Airlines', 'Aeroservice International', 'Myanmar Airways', 'Cebu PacifiAir', 'Military - U.S. Marine Corps', 'Air Luxor', 'Military - Spanish Air Force', 'Military - Sudan Air Force', 'China Airlines (Taiwan)', 'Baron Aviation', 'Corporate Air', 'Air Memphis', 'Formosa Airlines', 'Ariana Afghan Airlines', 'Philippine Air Lines', 'Fuerza Aérea del Peru', 'Air France', 'Fuerza Aérea del Peru', 'Military - Mauritanian Air Force', \"Military - Lao People's Liberation Army Air Force\", 'Air Taxi - US Helicopters Inc.', 'MIAT - Mongolian Airlines', 'Propair', 'Air Taxi - Ohana Helicopter Tours', 'ATI Aircompany', 'Alas del Sur', 'Ukraine Aviation Transport Company', 'Selva Taxi Aero', 'Alliance Airlines', 'Proteus Air / Private', 'Harbour Air Seaplanes Ltd.', 'Vincent Aviation', 'Lumbini Airways', 'Air Anguilla', 'Myanmar Airways', 'Speed Service Couriers', 'Cubana de Aviacion', 'Swissair', 'Rusts Flying Service Inc.', 'Air taxi - Air Safaris Inc.', 'Paukn Air', 'Cabo Verde Airlines', 'Lionair', 'Servivensa', 'Ararat Avia', 'Capital Taxi Aereo', 'Living Water Teaching Ministries Charter', 'Sakha Airlines', 'Private', 'Regency Express Air', 'Yates Aviation', 'Air Satellite', 'Thai Airways', 'SELVA', 'Transafrik', 'Channel Express', 'Kelowna Flightcraft Air Charter', 'Uzu Air', 'Necon Air', 'Fuerza Aérea Nicaragua', 'Savannair', 'Airlink', 'Ameriflight', 'China Southwest Airlines', 'Minerva Airlines', 'Military - Indian Air Force', 'ALIANSA Colombia', 'Provincial Airlines', 'Turkish Airlines (THY)', 'Manacá Táxi Aéreo', 'Aerotaca', 'Korean Air', 'Vanair', 'Military - Malaysian Air Force', 'Malindi Air Services', 'American Airlines', 'Air Taxi - Coastal Helicopters Inc.', 'Airlink', 'Blue Water Aviation Services', 'Nightexpress', 'Myanmar Airways', 'LANC Colombia', 'Lufthansa Cargo Airlines', 'Aero Jet Express', 'Private', 'La Costena', 'All Nippon Airways', 'Military - U.S. Army', 'Air Fiji', 'Private', 'TACV-Cabo Verde Airlines', 'Regionnair', 'China Airlines (Taiwan)', 'Uni Air', 'Uzbekistan Airways', 'LAPA, Lineas Aereas Privadas Argentinas', 'Northern Air (Tanzania)', 'Edinburgh Air Charter', 'Necon Air', 'Air Taxi - New England Airlines', 'Norte Jet Táxi Aéreo', 'Big Island Airlines', 'Aramco Associated Company', 'Avioriprese Jet Executive', 'Private charter', 'EgyptAir', 'Air Taxi - Stanley Air Taxi', 'TAESA', 'Si Fly - U.N. charter', 'DHL Aviation Africa', 'Tashkent Aircraft Production Corporation', 'Charter - Flightline Charter Services', 'Air Taxi - Grant Aviation Inc.', 'Asian Spirit', 'Charter - Twin Air HB', 'College of the Ozarks', 'SATA', 'Cubana de Aviacon', 'Korean Air', 'Cubana de Aviacion', 'Skyline Airways', 'Crossair', 'Avisto', 'TACA', 'Top Air - Air Taxi', 'Kenya Airways', 'Alaska Airlines', 'Air Taxi - Iliamna, Air Taxi Inc.', 'Emery Worldwide', 'Southwest Airlines', 'Vologodskiye Airlines', 'Points North Air Services', 'Aeroperlas', 'Sky Cabs', 'Taxval', 'Bankair', 'Air Philippines', 'Northern Executive Aviation', 'Price Aircraft Company', 'Avirex', 'Executive Airlines', 'Streamline', 'Whyalla Airlines', 'Ghana Airlink', 'ANT Air Taxi', 'Air taxi - Jao Air Taxi', 'Wuhan Airlines', 'Universal Jet Aviation', 'Military - Philippine Air Force', 'Aerocaribe', 'CORAL Colombia', 'Win Win Aviation', 'Indian Airlines/Alliance Airlines', 'Airwave Transport', 'Allied Air Freight', 'Blue Hawaiian Helicopters', 'Air France', 'Royal Nepal Airlines', 'Air taxi - Lider Air Taxi', 'Military - Fuerza Aérea de Chile', 'Patuxent Airways / Private', 'RCMP-GRC Air Services', 'Air Taxi', 'Gulf Air', 'Big Island Airlines', 'SANSA', 'Charter - Central Air', 'Military - Sri Lanka Air Force', 'Cape Smythe Air Service', 'Aeromexico', 'Summit Air Charters', 'Empire Airlines', 'Bombardier Aerospace', 'Private', 'Lao Aviation', 'Military - Russian Air Force', 'Singapore Airlines', 'Aca-Ancargo', 'Superior Aviation', 'Asa Pesada', 'American Airlines', 'Mayoral Executive Jet', 'Servicio Aereo Manchupo', 'Skydive Salt Lake - Charter', 'MajestiAir Cargo', 'Rutaca Airlines', 'North Bay Charter', 'Lineas Aereas Suramericanas', 'Northern Illinois Flight Center', 'E.A.S. Aeroservizi', 'Loganair', 'Thai Airways', 'Military - Florida Army National Guard', 'Sociedade de Aviacao Ligeira Charter', 'Air Caraibes', 'Merpati Nusantara Airlines', 'Jetwingsco Inc. - Private Charter', 'Jet Wings', 'SFC Vietnam - Charter - Full Account', 'Private - Techint  group', 'Military - Turkish Air Force', 'Fuerza Aérea Argentina', 'Faraz Qeshm Airlines', 'Military - Russian Air Force', 'Manunggal Air', 'Vladivostokavia', 'Private  - Daewoo Shipbuilding', 'Private - OverteCompany', 'Russ Air Transport Company', 'Air Taxi', 'Naske Air', 'Papillon Grand Canyon Helicopters of Las Vegas', 'Canadian Air Transat', 'Ameristar Jet Charter', 'Blackhawk Int. Airways  - Private charter', 'Binter Mediterráneo', 'American Airlines', 'American Airlines', 'United Air Lines', 'United Air Lines', 'Aero Ferinco Charter', 'AtlantiAirlines', 'Aeronautical Services - Air Taxi', 'Sibir Airlines', 'Scandinavian Airlines (SAS) / Private', 'Air Saint Maurice Inc.', 'Flightline', 'PenAir', 'Perimeter Airlines', 'Air Taxi - Continental Air Taxi', 'ERA Aviation - Air Taxi', 'American Airlines', 'Charter - IRS Aero', 'Universal Jet Aviation', 'ELK Aviation Co. (leased from Eminex)', 'Crossair', 'MK Airlines', 'SANSA', 'Military - Russian, cargo', 'Air Carriers', 'Air Cargo Express', 'Heliandes', 'Eagle Air', 'BAL Bremerhaven Airline', 'Air Taxi - Air Taxi Inc.', 'Agco Corp', 'Ibertrans Aérea', 'Procuraduría General de la República', 'Garuda Indonesia Airlines', 'Petroproducción', 'Air Fiordland', 'TAME', 'Military - U.S. Air Force', 'Iran Air Tours', 'Tiramavia', 'Military - Russian Navy', 'Military - U.S. Army', 'Svedijos Prekés', 'Charter - Aerotaxi', 'Priorty Air Charter', 'Djibouti Airlines', 'Air Taxi', 'Tadair', 'Air China', 'Air taxi', 'SELVA Colombia', 'Private', 'Private', 'EAS Airlines (Executive Airline Services)', 'EgyptAir', 'China Northern Airlines', 'Sky Executive Air Services', 'China Airlines (Taiwan)', 'Airquarius Aviation - Charter', 'Keystone Air Services Ltd. - Air Taxi', 'Military - U.S. Air Force', 'Bashkirian Airlines / DHL Worldwide Express', 'Private', 'Prestige Airlines (Cargo) Charter', 'Air Taxi - Bigfoot Air of Alaska, LLC', 'Bristow Helicopters', 'Skyline Airways', 'Military - Ukraine Air Force', 'Pulkovo Aviation Enterprise', 'Military - U.S. Air Force', 'Military - Sri Lanka Air Force', 'Shangri La Air', 'Vostok Aviakompania', 'Care Flight International', 'Rico Taxi Aéreo', 'Airco Charters - Air Taxi', 'Aero Pantanal - Air Taxi', 'Deraps Aviation', 'American Virginia', 'Mid-AtlantiFreight', 'Aviation Charter - Air Taxi', 'Luxair', 'Dirgantara Air Services', 'Richmor Aviation', 'Laoag International Airlines', 'Eagle Aviation', 'Raytheon Aircraft', 'Planemasters', 'Transasia Airways', 'Aeromist-Kharkiv', 'Telford Aviation', 'Military - Brazilian Air Force', 'Ocean Airlines', 'Turkish Airlines (THY)', 'US Air Express/Air Midwest', 'TANS Airlines', 'African Commuter Services', 'Euro Asia Aviation', 'Enimex', 'Air Taxi - Great Northern Aircraft Co.', \"Military - IslamiRevolution's Guards Corps\", 'Military - Pakistan Air Force', 'Private - Kabanov - skydiving', 'Air Algerie', 'PT Air Regional', 'Morris Hancock Flying Club - Charter', 'Ukranian-Mediterranean Airlines', 'McKinley Air Service - Air Taxi', 'Eurojet Italila', 'Charter - Air Adventures New Zealand Ltd', 'Paradise Tour Helicopters', 'Brit Air', 'Military - IslamiRepubliof Iran Air Force', 'Hallo Bay Air - Air Taxi', 'ComvaAviation', 'Military - Algerian Air Force', 'Heringer Air Taxi', 'BHS - Brazilian Helicopter Services', 'Sudan Airways', 'Air Sunshine', 'Ruiban & Duran Compania Aérea', 'Ryan Blake Air Charter', 'Jack Harter Helicopters', 'Jet Pro', 'Servicios Aeronauticos Sucre (SASCA)', 'Khalatyrka', 'Tropical Airways', 'US Airways Express', 'Wasaya Airways', 'Ameristar Jet Charter', 'Military - Mexican Air Force', 'Sundance Helicopters', 'Les Ailes de Gaspé Inc.', 'Air Freight New Zealand', 'Transmandu', 'CATA Linea Aerea', 'Aeroextra', 'FedEx', 'Military - U.S. Army', 'Trans Guyana Airways', 'Heliwork WA Pty Ltd. - Air Taxi', 'Military - U.S. Army', 'Ameriflight', 'Military - Congolese Air Force', 'Huron Air', 'Líneas Aéreas Suramericanas', 'Pavair', 'Union des Transports Aeriens de Guinee', 'Flash Air', 'Uzbekistan Airways', 'Georgia Express', 'Tassili Airlines', 'Military - Government of Macedonia', 'Kish Airlines', 'City-Jet', 'Air taxi', 'Azov Avia Airlines', 'Military - United States Marine Corps', 'Military - United States Air Force', 'Air Taxi', 'Air Ambulance - Med-Trans Corp.', 'Procuradoria General de la Republica', 'Venezuelian Government', 'Aerotransportes Petroleros', 'Charter - Air Cush', 'Rico Linhas Aereas', 'Aray-Avia', 'AZAL Cargo Company', 'Blue Bird Aviation', 'Yeti Airlines', 'Gabon Express', 'United Nations -  UTair Charter', 'Air Trek', 'Capital Airlines Inc.', 'Dodita Air Cargo', 'BHS - Brazilian Helicopter Service  Air Taxi', 'Airlines of PNG', 'Air Taroma', 'Alpine Air Express', 'Transworld Safaris', 'Military - Venezuelan Air Force', 'Sibir Airlines', 'Volga-Avia Express', 'Mavrik Aire Transport', 'Jett Paqueteria SA', 'Military - Greek Army', 'Air Flamence', 'Sarit Airlines', 'MK Airlines', 'Pinnacle Airlines/Northwest Airlink', 'Aerovanguardia', 'PacifiAir', 'Corporate Airlines (American Connection)', 'Private - Hendrick Motorsports Inc.', 'Med Flight Air Ambulance - Private', 'Venezolana', 'China Eastern Airlines', 'Business Jet Services', 'Presidental Airways Inc. - Air Taxi', 'Glow Air/Air Castle - Charter', 'Lion Air', 'Grand Aire', 'Salmon Air - Air Taxi', 'SAVIARE S.A. - Air Taxi', 'NHR Táxi-Aéreo', 'Military - Colombian government', 'Tura Air Enterprise', 'AirNow', 'Military - U.S. Marines', 'Farnair Hungary', 'Military - Royal Air Force', 'Kam Air', 'Air West', 'Action Air Express Inc. - Air Taxi', 'Circuit City Stores - Charter', 'Missionary Aviation Fellowship', 'Indonesian National Police', 'Air Global', 'Loganair', 'Regional Airlines', 'Air Transport', 'West Caribbean Airways', 'Military - U.S. Air Force', 'GT Air', 'Saha Airline Services', 'Military - Fuerza Del Peru', 'Airwork', 'Kisangani Airlift', 'Aero-Tropics', 'Transportes Aereos Don Carlos - Charter', 'Military - Zambia Air Force', 'Marsland Aviation', 'Ecuatair', 'Air France', 'Tuninter', 'Copterline', 'Helios Airways', 'West Caribbean Airways', 'TANS Peru', 'Mandala Airlines', 'Kavatshi Airlines', 'Air Kasai', 'Viaçao Cometa', 'Wayumi Air Taxi', 'Heli-USA Airways, In- Air Taxi', 'Morningstar Air Express', 'Bellview Airlines', 'Ivolga Avia', 'Military - IslamiRepubliof Iran Air Force', 'Southwest Airlines', 'Sosoliso Airlines', \"Chalk's Ocean Airways\", 'Azerbaijan Airlines', 'Skyward Aviation', 'Evolga', 'Service Air', 'Military - Iranian Revolutionary Guard Corps Air Force', 'Military - Slovak Air Force', 'Air Cargo Carriers', 'TriCoastal Air', 'Aerovalles', 'Military - Fuerza Aérea Argentina', 'Ameriflight', 'ATESA', 'Team Air', 'Military - Kenya Air Force', 'Military - Lybian Arab Air Force', 'Yug Avia', 'U.S. Government (leased)', 'King Air Charter', 'Armavia', 'Saskatchewan Government Northern Air Operations', 'Air São Tomé', 'International Jet Charter', 'Military - Chinese Air Force', 'Air Taxi - MajestiAlliance', 'Military - Chadian Air Force', 'Yeti Airlines', 'Naturelink', 'Himmelsschreiber', 'Mango Airlines', 'Sibir (S7)', 'Pakistan International Airlines', 'AirNow', 'Air Algerie', 'Pulkovo Airlines', 'Comair', 'Iran Air Tours', 'Military - Royal Air Force', 'Military - Russian Army', 'Military - Nigerian Air Force', 'Gol Airlines / Private', 'AtlantiAirways', 'Military - Russian Air Force/Uzbekistan Airways', 'ADC Airlines', 'Trigana Air Service', 'Aerosucre Colombia', 'Military - Iranian Revolutionary Guard Corps Air Force', 'Air ambulance - Mercy Air Services', 'PenAir', 'Air Charter - Tanzanian Air Services', 'Adam Air', 'DJB Air Charter', 'Moldovan Aeriantur-M Air Cargo', 'Ameristar Jet Charter', 'SunQuest Executive Air Charter', 'Regional Compagnie Aerienne Europeenne', 'Air Turks & Caicos', 'Metro Aviation', 'Garuda Indonesia Airlines', 'Heli-USA Airways', 'Inter-Island', 'UTAir Airlines', 'Transaviaexport Airlines', 'Air Services', 'Military - Russian', 'Military - French Air Force', 'Safe Air Complany', 'Military - Peruvian Air Force', 'Paramount Airlilnes', 'University of Michigan Health System', 'PMT Air', 'TAAG Angola Airlines', 'Jett Paqueteria SA', 'Charter - Private', 'Liard Air', 'TAM (Brazil)', 'Djibouti Airlines', 'Taquan Air Service', 'Atran', 'Southwest Medivac', 'Air Moorea', 'SeaWind Aviation', 'Two Taxi Aero', 'Great Lakes Business Complany', 'Galaxy Kavatsi Airlines', 'One-Two-Go Airlines', 'Africa One Congo', 'SceniAir Tours', 'Kapowsin Air Sports', 'Nacional de Aviacion', 'Reali Taxi Aereo', 'Juba Air Cargo', 'Atlasjet Airlines', 'Evergreen Alaska Helicopters, Inc.', 'Castle Aviation', 'Fun Air', 'Transaven', 'Servant Air', 'Military - Macedonian Air Force', 'Apline Aviation', 'British Airways', 'Gira Globo Charter', 'Military - Polish Air Force', 'Dirgantara Air Service', 'Santa Barbara Airlines', 'BHS - Brazilian Helicopter Service Air Taxi', 'United Nations Mission', 'Trade Wings Aviation Ltd.', 'Blue Wing Airlines', 'Avtex Air Services', 'Kata Transportation', 'Hewa Bora Airways', 'Military - Government of Equatorial Guinea', 'Naftogaz', 'Southern Sudan Air Connection', 'Chelan Air Service', 'Alpine Aviation\\xa0', 'Island Express Helicopter Service', 'Moskovia Airlines', 'Military - Servicio Aereo Nacional', 'TACA International Airlines', 'Patagonia Airlines', 'PHI Air Medical', 'Sudan Airways', 'Wiggins Airways', 'Military - Indonesian Air Force', 'Juba Air Cargo', 'Air Methods / ClassiHelicopters', 'Ababeel Aviaition', 'USA Jet Airlines', 'Centurian Air Cargo', 'Aerocord', 'East Coast Jets', 'PacifiCoast Airlines', 'Junction City Fire Department', 'Military - Royal Thai Air Force', 'Fly 540', 'Spanair', 'Itek Air', 'Aéreo Ruta Maya', 'Conviasa', 'Air Serv Internatiional/CemAir', 'Air Tahoma', 'Aerogulf', 'Aeroflot', 'Global Executive Aviation', 'Maryland State Police', 'Yeti Airlines', 'Air Angles Inc.', 'Mexican Government', 'East African Air Charters', 'Falcon Aviation Group', 'PacifiCoastal Airlines', 'XL Airways leased from Air New Zealand', 'Webstas Aviation Services Inc.', 'Rotorcraft Leasing Co', 'Alantis Aviation', 'Petroleum Helicopters Inc', 'US Airways', 'Aerotaxi Manaus', 'Air One Executive', 'Continental Connection/Colgan Air', 'Flight Service', 'Aerolift', 'Turkish Airlines', 'Aerolift', 'Cougar Helicopters', 'Eagle Cap Leasing', 'FedEx', 'Bond Offshore Helicopters', 'Military - Indonesian Air Force', 'Aviastar Mandiri', 'Mimika Air', 'Aerotuy airline', 'Bako Air', 'Military - Venezuelan Army', 'Military - Indonesian Air Force', 'Air France', 'Strait Air']\n"
     ]
    }
   ],
   "source": [
    "operator_type = list(df['operator'])\n",
    "print(operator_type)"
   ]
  },
  {
   "cell_type": "code",
   "execution_count": 8,
   "metadata": {},
   "outputs": [
    {
     "name": "stdout",
     "output_type": "stream",
     "text": [
      "24.932607215793055\n"
     ]
    }
   ],
   "source": [
    "#What is the mean for number of people killed in plane crashes for the years 1980 to 2009 (inclusive of both years, rounded to the nearest 100th decimal place)? \n",
    "\n",
    "data = (df[['year', 'fatalities']].values)\n",
    "\n",
    "result =[]\n",
    "\n",
    "for i in data:\n",
    "    if i[0] < 1980:\n",
    "        continue\n",
    "    else:\n",
    "        result.append(i[1])\n",
    "\n",
    "\n",
    "print(np.mean(result))"
   ]
  },
  {
   "cell_type": "code",
   "execution_count": 9,
   "metadata": {},
   "outputs": [
    {
     "name": "stdout",
     "output_type": "stream",
     "text": [
      "0.9819121447028424\n",
      "2660\n",
      "2709\n"
     ]
    }
   ],
   "source": [
    "beta = (df['fatalities'].values)\n",
    "result = 0\n",
    "for i in beta:\n",
    "    if i > 0:\n",
    "        result += 1\n",
    "    \n",
    "a = result\n",
    "b = len(beta)\n",
    "\n",
    "print(a/b)\n",
    "print(a)\n",
    "print(b)"
   ]
  },
  {
   "cell_type": "code",
   "execution_count": 25,
   "metadata": {},
   "outputs": [
    {
     "name": "stdout",
     "output_type": "stream",
     "text": [
      "0.8228280715122408\n",
      "2229.0412457266602\n",
      "2709\n"
     ]
    }
   ],
   "source": [
    "gamma = (df[['fatalities', 'aboard']].values)\n",
    "\n",
    "result = 0\n",
    "for i in gamma:\n",
    "    if i[1] > 0:\n",
    "        result += (i[0]/i[1])\n",
    "    \n",
    "print(result/len(gamma))\n",
    "print(result)\n",
    "print(len(gamma))"
   ]
  },
  {
   "cell_type": "code",
   "execution_count": null,
   "metadata": {},
   "outputs": [],
   "source": []
  }
 ],
 "metadata": {
  "kernelspec": {
   "display_name": "Python 3",
   "language": "python",
   "name": "python3"
  },
  "language_info": {
   "codemirror_mode": {
    "name": "ipython",
    "version": 3
   },
   "file_extension": ".py",
   "mimetype": "text/x-python",
   "name": "python",
   "nbconvert_exporter": "python",
   "pygments_lexer": "ipython3",
   "version": "3.6.4"
  }
 },
 "nbformat": 4,
 "nbformat_minor": 2
}
