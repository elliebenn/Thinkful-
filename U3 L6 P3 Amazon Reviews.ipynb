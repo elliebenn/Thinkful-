{
 "cells": [
  {
   "cell_type": "code",
   "execution_count": 1,
   "metadata": {},
   "outputs": [
    {
     "name": "stderr",
     "output_type": "stream",
     "text": [
      "/anaconda3/lib/python3.6/site-packages/sklearn/cross_validation.py:41: DeprecationWarning: This module was deprecated in version 0.18 in favor of the model_selection module into which all the refactored classes and functions are moved. Also note that the interface of the new CV iterators are different from that of this module. This module will be removed in 0.20.\n",
      "  \"This module will be removed in 0.20.\", DeprecationWarning)\n"
     ]
    }
   ],
   "source": [
    "import numpy as np\n",
    "import pandas as pd\n",
    "import matplotlib.pyplot as plt\n",
    "import seaborn as sns\n",
    "import sklearn\n",
    "import nltk\n",
    "\n",
    "from nltk.corpus import stopwords \n",
    "from sklearn import ensemble\n",
    "from sklearn.model_selection import GridSearchCV\n",
    "from sklearn.cross_validation import train_test_split\n",
    "\n",
    "\n",
    "import warnings\n",
    "warnings.filterwarnings('ignore')\n",
    "plt.rcParams['figure.figsize'] = (20.0, 10.0)s\n",
    "plt.rcParams.update({'font.size': 22})\n",
    "%matplotlib inline"
   ]
  },
  {
   "cell_type": "markdown",
   "metadata": {},
   "source": [
    "# Background\n",
    "\n",
    "I'm going to perform a sentiment analysis on the video games from Amazon. Instead of filling in keywords to develop the sentiment, I'm going to use the ratings instead and change it from an ordinal variable to a categorical variable of true or false. I will use the bag of words approach to create classification model. The link can be found here: http://jmcauley.ucsd.edu/data/amazon/"
   ]
  },
  {
   "cell_type": "code",
   "execution_count": 2,
   "metadata": {},
   "outputs": [],
   "source": [
    "game_reviews = pd.read_json('reviews_Video_Games_5.json', lines=True)"
   ]
  },
  {
   "cell_type": "code",
   "execution_count": 3,
   "metadata": {},
   "outputs": [
    {
     "data": {
      "text/html": [
       "<div>\n",
       "<style scoped>\n",
       "    .dataframe tbody tr th:only-of-type {\n",
       "        vertical-align: middle;\n",
       "    }\n",
       "\n",
       "    .dataframe tbody tr th {\n",
       "        vertical-align: top;\n",
       "    }\n",
       "\n",
       "    .dataframe thead th {\n",
       "        text-align: right;\n",
       "    }\n",
       "</style>\n",
       "<table border=\"1\" class=\"dataframe\">\n",
       "  <thead>\n",
       "    <tr style=\"text-align: right;\">\n",
       "      <th></th>\n",
       "      <th>asin</th>\n",
       "      <th>helpful</th>\n",
       "      <th>overall</th>\n",
       "      <th>reviewText</th>\n",
       "      <th>reviewTime</th>\n",
       "      <th>reviewerID</th>\n",
       "      <th>reviewerName</th>\n",
       "      <th>summary</th>\n",
       "      <th>unixReviewTime</th>\n",
       "    </tr>\n",
       "  </thead>\n",
       "  <tbody>\n",
       "    <tr>\n",
       "      <th>0</th>\n",
       "      <td>0700099867</td>\n",
       "      <td>[8, 12]</td>\n",
       "      <td>1</td>\n",
       "      <td>Installing the game was a struggle (because of...</td>\n",
       "      <td>07 9, 2012</td>\n",
       "      <td>A2HD75EMZR8QLN</td>\n",
       "      <td>123</td>\n",
       "      <td>Pay to unlock content? I don't think so.</td>\n",
       "      <td>1341792000</td>\n",
       "    </tr>\n",
       "    <tr>\n",
       "      <th>1</th>\n",
       "      <td>0700099867</td>\n",
       "      <td>[0, 0]</td>\n",
       "      <td>4</td>\n",
       "      <td>If you like rally cars get this game you will ...</td>\n",
       "      <td>06 30, 2013</td>\n",
       "      <td>A3UR8NLLY1ZHCX</td>\n",
       "      <td>Alejandro Henao \"Electronic Junky\"</td>\n",
       "      <td>Good rally game</td>\n",
       "      <td>1372550400</td>\n",
       "    </tr>\n",
       "    <tr>\n",
       "      <th>2</th>\n",
       "      <td>0700099867</td>\n",
       "      <td>[0, 0]</td>\n",
       "      <td>1</td>\n",
       "      <td>1st shipment received a book instead of the ga...</td>\n",
       "      <td>06 28, 2014</td>\n",
       "      <td>A1INA0F5CWW3J4</td>\n",
       "      <td>Amazon Shopper \"Mr.Repsol\"</td>\n",
       "      <td>Wrong key</td>\n",
       "      <td>1403913600</td>\n",
       "    </tr>\n",
       "    <tr>\n",
       "      <th>3</th>\n",
       "      <td>0700099867</td>\n",
       "      <td>[7, 10]</td>\n",
       "      <td>3</td>\n",
       "      <td>I got this version instead of the PS3 version,...</td>\n",
       "      <td>09 14, 2011</td>\n",
       "      <td>A1DLMTOTHQ4AST</td>\n",
       "      <td>ampgreen</td>\n",
       "      <td>awesome game, if it did not crash frequently !!</td>\n",
       "      <td>1315958400</td>\n",
       "    </tr>\n",
       "    <tr>\n",
       "      <th>4</th>\n",
       "      <td>0700099867</td>\n",
       "      <td>[2, 2]</td>\n",
       "      <td>4</td>\n",
       "      <td>I had Dirt 2 on Xbox 360 and it was an okay ga...</td>\n",
       "      <td>06 14, 2011</td>\n",
       "      <td>A361M14PU2GUEG</td>\n",
       "      <td>Angry Ryan \"Ryan A. Forrest\"</td>\n",
       "      <td>DIRT 3</td>\n",
       "      <td>1308009600</td>\n",
       "    </tr>\n",
       "  </tbody>\n",
       "</table>\n",
       "</div>"
      ],
      "text/plain": [
       "         asin  helpful  overall  \\\n",
       "0  0700099867  [8, 12]        1   \n",
       "1  0700099867   [0, 0]        4   \n",
       "2  0700099867   [0, 0]        1   \n",
       "3  0700099867  [7, 10]        3   \n",
       "4  0700099867   [2, 2]        4   \n",
       "\n",
       "                                          reviewText   reviewTime  \\\n",
       "0  Installing the game was a struggle (because of...   07 9, 2012   \n",
       "1  If you like rally cars get this game you will ...  06 30, 2013   \n",
       "2  1st shipment received a book instead of the ga...  06 28, 2014   \n",
       "3  I got this version instead of the PS3 version,...  09 14, 2011   \n",
       "4  I had Dirt 2 on Xbox 360 and it was an okay ga...  06 14, 2011   \n",
       "\n",
       "       reviewerID                        reviewerName  \\\n",
       "0  A2HD75EMZR8QLN                                 123   \n",
       "1  A3UR8NLLY1ZHCX  Alejandro Henao \"Electronic Junky\"   \n",
       "2  A1INA0F5CWW3J4          Amazon Shopper \"Mr.Repsol\"   \n",
       "3  A1DLMTOTHQ4AST                            ampgreen   \n",
       "4  A361M14PU2GUEG        Angry Ryan \"Ryan A. Forrest\"   \n",
       "\n",
       "                                           summary  unixReviewTime  \n",
       "0         Pay to unlock content? I don't think so.      1341792000  \n",
       "1                                  Good rally game      1372550400  \n",
       "2                                        Wrong key      1403913600  \n",
       "3  awesome game, if it did not crash frequently !!      1315958400  \n",
       "4                                           DIRT 3      1308009600  "
      ]
     },
     "execution_count": 3,
     "metadata": {},
     "output_type": "execute_result"
    }
   ],
   "source": [
    "# Look at what kind of data I'm looking at.\n",
    "game_reviews.head()"
   ]
  },
  {
   "cell_type": "code",
   "execution_count": 4,
   "metadata": {},
   "outputs": [
    {
     "data": {
      "text/plain": [
       "asin              object\n",
       "helpful           object\n",
       "overall            int64\n",
       "reviewText        object\n",
       "reviewTime        object\n",
       "reviewerID        object\n",
       "reviewerName      object\n",
       "summary           object\n",
       "unixReviewTime     int64\n",
       "dtype: object"
      ]
     },
     "execution_count": 4,
     "metadata": {},
     "output_type": "execute_result"
    }
   ],
   "source": [
    "# Making sure I can use the data here.\n",
    "game_reviews.dtypes"
   ]
  },
  {
   "cell_type": "code",
   "execution_count": 5,
   "metadata": {},
   "outputs": [
    {
     "data": {
      "text/plain": [
       "(231780, 9)"
      ]
     },
     "execution_count": 5,
     "metadata": {},
     "output_type": "execute_result"
    }
   ],
   "source": [
    "# Take a look at the size of my data\n",
    "game_reviews.shape"
   ]
  },
  {
   "cell_type": "code",
   "execution_count": 4,
   "metadata": {},
   "outputs": [],
   "source": [
    "# If reviews >3, then good, otherwise bad.\n",
    "game_reviews['overall_cat'] = game_reviews['overall'].map(lambda i:1 if i>3 else 0)"
   ]
  },
  {
   "cell_type": "code",
   "execution_count": 7,
   "metadata": {},
   "outputs": [
    {
     "data": {
      "text/html": [
       "<div>\n",
       "<style scoped>\n",
       "    .dataframe tbody tr th:only-of-type {\n",
       "        vertical-align: middle;\n",
       "    }\n",
       "\n",
       "    .dataframe tbody tr th {\n",
       "        vertical-align: top;\n",
       "    }\n",
       "\n",
       "    .dataframe thead th {\n",
       "        text-align: right;\n",
       "    }\n",
       "</style>\n",
       "<table border=\"1\" class=\"dataframe\">\n",
       "  <thead>\n",
       "    <tr style=\"text-align: right;\">\n",
       "      <th></th>\n",
       "      <th>asin</th>\n",
       "      <th>helpful</th>\n",
       "      <th>overall</th>\n",
       "      <th>reviewText</th>\n",
       "      <th>reviewTime</th>\n",
       "      <th>reviewerID</th>\n",
       "      <th>reviewerName</th>\n",
       "      <th>summary</th>\n",
       "      <th>unixReviewTime</th>\n",
       "      <th>overall_cat</th>\n",
       "    </tr>\n",
       "  </thead>\n",
       "  <tbody>\n",
       "    <tr>\n",
       "      <th>0</th>\n",
       "      <td>0700099867</td>\n",
       "      <td>[8, 12]</td>\n",
       "      <td>1</td>\n",
       "      <td>Installing the game was a struggle (because of...</td>\n",
       "      <td>07 9, 2012</td>\n",
       "      <td>A2HD75EMZR8QLN</td>\n",
       "      <td>123</td>\n",
       "      <td>Pay to unlock content? I don't think so.</td>\n",
       "      <td>1341792000</td>\n",
       "      <td>0</td>\n",
       "    </tr>\n",
       "    <tr>\n",
       "      <th>1</th>\n",
       "      <td>0700099867</td>\n",
       "      <td>[0, 0]</td>\n",
       "      <td>4</td>\n",
       "      <td>If you like rally cars get this game you will ...</td>\n",
       "      <td>06 30, 2013</td>\n",
       "      <td>A3UR8NLLY1ZHCX</td>\n",
       "      <td>Alejandro Henao \"Electronic Junky\"</td>\n",
       "      <td>Good rally game</td>\n",
       "      <td>1372550400</td>\n",
       "      <td>1</td>\n",
       "    </tr>\n",
       "    <tr>\n",
       "      <th>2</th>\n",
       "      <td>0700099867</td>\n",
       "      <td>[0, 0]</td>\n",
       "      <td>1</td>\n",
       "      <td>1st shipment received a book instead of the ga...</td>\n",
       "      <td>06 28, 2014</td>\n",
       "      <td>A1INA0F5CWW3J4</td>\n",
       "      <td>Amazon Shopper \"Mr.Repsol\"</td>\n",
       "      <td>Wrong key</td>\n",
       "      <td>1403913600</td>\n",
       "      <td>0</td>\n",
       "    </tr>\n",
       "    <tr>\n",
       "      <th>3</th>\n",
       "      <td>0700099867</td>\n",
       "      <td>[7, 10]</td>\n",
       "      <td>3</td>\n",
       "      <td>I got this version instead of the PS3 version,...</td>\n",
       "      <td>09 14, 2011</td>\n",
       "      <td>A1DLMTOTHQ4AST</td>\n",
       "      <td>ampgreen</td>\n",
       "      <td>awesome game, if it did not crash frequently !!</td>\n",
       "      <td>1315958400</td>\n",
       "      <td>0</td>\n",
       "    </tr>\n",
       "    <tr>\n",
       "      <th>4</th>\n",
       "      <td>0700099867</td>\n",
       "      <td>[2, 2]</td>\n",
       "      <td>4</td>\n",
       "      <td>I had Dirt 2 on Xbox 360 and it was an okay ga...</td>\n",
       "      <td>06 14, 2011</td>\n",
       "      <td>A361M14PU2GUEG</td>\n",
       "      <td>Angry Ryan \"Ryan A. Forrest\"</td>\n",
       "      <td>DIRT 3</td>\n",
       "      <td>1308009600</td>\n",
       "      <td>1</td>\n",
       "    </tr>\n",
       "  </tbody>\n",
       "</table>\n",
       "</div>"
      ],
      "text/plain": [
       "         asin  helpful  overall  \\\n",
       "0  0700099867  [8, 12]        1   \n",
       "1  0700099867   [0, 0]        4   \n",
       "2  0700099867   [0, 0]        1   \n",
       "3  0700099867  [7, 10]        3   \n",
       "4  0700099867   [2, 2]        4   \n",
       "\n",
       "                                          reviewText   reviewTime  \\\n",
       "0  Installing the game was a struggle (because of...   07 9, 2012   \n",
       "1  If you like rally cars get this game you will ...  06 30, 2013   \n",
       "2  1st shipment received a book instead of the ga...  06 28, 2014   \n",
       "3  I got this version instead of the PS3 version,...  09 14, 2011   \n",
       "4  I had Dirt 2 on Xbox 360 and it was an okay ga...  06 14, 2011   \n",
       "\n",
       "       reviewerID                        reviewerName  \\\n",
       "0  A2HD75EMZR8QLN                                 123   \n",
       "1  A3UR8NLLY1ZHCX  Alejandro Henao \"Electronic Junky\"   \n",
       "2  A1INA0F5CWW3J4          Amazon Shopper \"Mr.Repsol\"   \n",
       "3  A1DLMTOTHQ4AST                            ampgreen   \n",
       "4  A361M14PU2GUEG        Angry Ryan \"Ryan A. Forrest\"   \n",
       "\n",
       "                                           summary  unixReviewTime  \\\n",
       "0         Pay to unlock content? I don't think so.      1341792000   \n",
       "1                                  Good rally game      1372550400   \n",
       "2                                        Wrong key      1403913600   \n",
       "3  awesome game, if it did not crash frequently !!      1315958400   \n",
       "4                                           DIRT 3      1308009600   \n",
       "\n",
       "   overall_cat  \n",
       "0            0  \n",
       "1            1  \n",
       "2            0  \n",
       "3            0  \n",
       "4            1  "
      ]
     },
     "execution_count": 7,
     "metadata": {},
     "output_type": "execute_result"
    }
   ],
   "source": [
    "game_reviews.head()"
   ]
  },
  {
   "cell_type": "code",
   "execution_count": 5,
   "metadata": {},
   "outputs": [
    {
     "data": {
      "text/plain": [
       "1    174989\n",
       "0     56791\n",
       "Name: overall_cat, dtype: int64"
      ]
     },
     "execution_count": 5,
     "metadata": {},
     "output_type": "execute_result"
    }
   ],
   "source": [
    "# Check to see if there is a class imbalance between good and bad reviews.\n",
    "game_reviews.overall_cat.value_counts()"
   ]
  },
  {
   "cell_type": "code",
   "execution_count": 6,
   "metadata": {},
   "outputs": [],
   "source": [
    "# There are actually more good reviews than bad reviews, what a surprise.\n",
    "# Balance the data. \n",
    "# Use downsampling of the minority class to address the class imbalance. \n",
    "from sklearn.utils import resample\n",
    "\n",
    "# Separate the majority and minority Class.\n",
    "gr_majority = game_reviews[game_reviews.overall_cat==1]\n",
    "gr_minority = game_reviews[game_reviews.overall_cat==0]\n",
    "\n",
    "\n",
    "# Downsample majority class \n",
    "gr_maj_downsampled = resample(gr_majority, \n",
    "                                 replace=False,    # sample without replacement\n",
    "                                 n_samples=len(gr_minority))    # to match minority class\n",
    "                                \n",
    "# Combine minority class with downsampled majority class\n",
    "gr_downsampled = pd.concat([gr_maj_downsampled, gr_minority])\n"
   ]
  },
  {
   "cell_type": "code",
   "execution_count": 8,
   "metadata": {},
   "outputs": [
    {
     "data": {
      "text/plain": [
       "(113582, 10)"
      ]
     },
     "execution_count": 8,
     "metadata": {},
     "output_type": "execute_result"
    }
   ],
   "source": [
    "# Look at the size of our data now.\n",
    "gr_downsampled.shape"
   ]
  },
  {
   "cell_type": "code",
   "execution_count": 11,
   "metadata": {},
   "outputs": [
    {
     "data": {
      "text/html": [
       "<div>\n",
       "<style scoped>\n",
       "    .dataframe tbody tr th:only-of-type {\n",
       "        vertical-align: middle;\n",
       "    }\n",
       "\n",
       "    .dataframe tbody tr th {\n",
       "        vertical-align: top;\n",
       "    }\n",
       "\n",
       "    .dataframe thead th {\n",
       "        text-align: right;\n",
       "    }\n",
       "</style>\n",
       "<table border=\"1\" class=\"dataframe\">\n",
       "  <thead>\n",
       "    <tr style=\"text-align: right;\">\n",
       "      <th></th>\n",
       "      <th>overall</th>\n",
       "      <th>unixReviewTime</th>\n",
       "      <th>overall_cat</th>\n",
       "    </tr>\n",
       "  </thead>\n",
       "  <tbody>\n",
       "    <tr>\n",
       "      <th>count</th>\n",
       "      <td>113582.000000</td>\n",
       "      <td>1.135820e+05</td>\n",
       "      <td>113582.000000</td>\n",
       "    </tr>\n",
       "    <tr>\n",
       "      <th>mean</th>\n",
       "      <td>3.461033</td>\n",
       "      <td>1.275163e+09</td>\n",
       "      <td>0.500000</td>\n",
       "    </tr>\n",
       "    <tr>\n",
       "      <th>std</th>\n",
       "      <td>1.399793</td>\n",
       "      <td>1.148183e+08</td>\n",
       "      <td>0.500002</td>\n",
       "    </tr>\n",
       "    <tr>\n",
       "      <th>min</th>\n",
       "      <td>1.000000</td>\n",
       "      <td>9.398592e+08</td>\n",
       "      <td>0.000000</td>\n",
       "    </tr>\n",
       "    <tr>\n",
       "      <th>25%</th>\n",
       "      <td>2.000000</td>\n",
       "      <td>1.211155e+09</td>\n",
       "      <td>0.000000</td>\n",
       "    </tr>\n",
       "    <tr>\n",
       "      <th>50%</th>\n",
       "      <td>3.500000</td>\n",
       "      <td>1.312675e+09</td>\n",
       "      <td>0.500000</td>\n",
       "    </tr>\n",
       "    <tr>\n",
       "      <th>75%</th>\n",
       "      <td>5.000000</td>\n",
       "      <td>1.366330e+09</td>\n",
       "      <td>1.000000</td>\n",
       "    </tr>\n",
       "    <tr>\n",
       "      <th>max</th>\n",
       "      <td>5.000000</td>\n",
       "      <td>1.405987e+09</td>\n",
       "      <td>1.000000</td>\n",
       "    </tr>\n",
       "  </tbody>\n",
       "</table>\n",
       "</div>"
      ],
      "text/plain": [
       "             overall  unixReviewTime    overall_cat\n",
       "count  113582.000000    1.135820e+05  113582.000000\n",
       "mean        3.461033    1.275163e+09       0.500000\n",
       "std         1.399793    1.148183e+08       0.500002\n",
       "min         1.000000    9.398592e+08       0.000000\n",
       "25%         2.000000    1.211155e+09       0.000000\n",
       "50%         3.500000    1.312675e+09       0.500000\n",
       "75%         5.000000    1.366330e+09       1.000000\n",
       "max         5.000000    1.405987e+09       1.000000"
      ]
     },
     "execution_count": 11,
     "metadata": {},
     "output_type": "execute_result"
    }
   ],
   "source": [
    "gr_downsampled.describe()"
   ]
  },
  {
   "cell_type": "code",
   "execution_count": 7,
   "metadata": {},
   "outputs": [
    {
     "data": {
      "text/html": [
       "<div>\n",
       "<style scoped>\n",
       "    .dataframe tbody tr th:only-of-type {\n",
       "        vertical-align: middle;\n",
       "    }\n",
       "\n",
       "    .dataframe tbody tr th {\n",
       "        vertical-align: top;\n",
       "    }\n",
       "\n",
       "    .dataframe thead th {\n",
       "        text-align: right;\n",
       "    }\n",
       "</style>\n",
       "<table border=\"1\" class=\"dataframe\">\n",
       "  <thead>\n",
       "    <tr style=\"text-align: right;\">\n",
       "      <th></th>\n",
       "      <th>asin</th>\n",
       "      <th>helpful</th>\n",
       "      <th>overall</th>\n",
       "      <th>reviewText</th>\n",
       "      <th>reviewTime</th>\n",
       "      <th>reviewerID</th>\n",
       "      <th>reviewerName</th>\n",
       "      <th>summary</th>\n",
       "      <th>unixReviewTime</th>\n",
       "      <th>overall_cat</th>\n",
       "      <th>review_length</th>\n",
       "      <th>summary_length</th>\n",
       "    </tr>\n",
       "  </thead>\n",
       "  <tbody>\n",
       "    <tr>\n",
       "      <th>179458</th>\n",
       "      <td>B00503E8S2</td>\n",
       "      <td>[0, 0]</td>\n",
       "      <td>5</td>\n",
       "      <td>I am big fan of Call of duty  series. I have p...</td>\n",
       "      <td>12 24, 2012</td>\n",
       "      <td>A17RHFAEL3ODA4</td>\n",
       "      <td>abhishek</td>\n",
       "      <td>Bang Bang !!!!</td>\n",
       "      <td>1356307200</td>\n",
       "      <td>1</td>\n",
       "      <td>108</td>\n",
       "      <td>14</td>\n",
       "    </tr>\n",
       "    <tr>\n",
       "      <th>63099</th>\n",
       "      <td>B000BC38LA</td>\n",
       "      <td>[8, 11]</td>\n",
       "      <td>5</td>\n",
       "      <td>I purchased oblivion for the pc and am running...</td>\n",
       "      <td>03 24, 2006</td>\n",
       "      <td>A135E0P5XBZBQA</td>\n",
       "      <td>M. Santarelli \"THARN\"</td>\n",
       "      <td>Best  first person rpg experience to date</td>\n",
       "      <td>1143158400</td>\n",
       "      <td>1</td>\n",
       "      <td>2385</td>\n",
       "      <td>41</td>\n",
       "    </tr>\n",
       "    <tr>\n",
       "      <th>139300</th>\n",
       "      <td>B002I0J5CO</td>\n",
       "      <td>[0, 0]</td>\n",
       "      <td>5</td>\n",
       "      <td>I was hesitant to buy these because of the rev...</td>\n",
       "      <td>01 13, 2014</td>\n",
       "      <td>A1YTQUIFXD5LG1</td>\n",
       "      <td>Gamergirl</td>\n",
       "      <td>Glad i spent the money!</td>\n",
       "      <td>1389571200</td>\n",
       "      <td>1</td>\n",
       "      <td>1568</td>\n",
       "      <td>23</td>\n",
       "    </tr>\n",
       "    <tr>\n",
       "      <th>202061</th>\n",
       "      <td>B007SRM5MO</td>\n",
       "      <td>[0, 0]</td>\n",
       "      <td>5</td>\n",
       "      <td>batman 2 plays welli like it a lot</td>\n",
       "      <td>07 11, 2014</td>\n",
       "      <td>A3KKBKVYBSCXDV</td>\n",
       "      <td>Alex Smeltzer</td>\n",
       "      <td>Five Stars</td>\n",
       "      <td>1405036800</td>\n",
       "      <td>1</td>\n",
       "      <td>34</td>\n",
       "      <td>10</td>\n",
       "    </tr>\n",
       "    <tr>\n",
       "      <th>14372</th>\n",
       "      <td>B00004Y57G</td>\n",
       "      <td>[0, 0]</td>\n",
       "      <td>5</td>\n",
       "      <td>ff9 still has acceptable graphics, even though...</td>\n",
       "      <td>07 16, 2004</td>\n",
       "      <td>A258MSMKY2710V</td>\n",
       "      <td>\"thmnshw4\"</td>\n",
       "      <td>amazing</td>\n",
       "      <td>1089936000</td>\n",
       "      <td>1</td>\n",
       "      <td>547</td>\n",
       "      <td>7</td>\n",
       "    </tr>\n",
       "  </tbody>\n",
       "</table>\n",
       "</div>"
      ],
      "text/plain": [
       "              asin  helpful  overall  \\\n",
       "179458  B00503E8S2   [0, 0]        5   \n",
       "63099   B000BC38LA  [8, 11]        5   \n",
       "139300  B002I0J5CO   [0, 0]        5   \n",
       "202061  B007SRM5MO   [0, 0]        5   \n",
       "14372   B00004Y57G   [0, 0]        5   \n",
       "\n",
       "                                               reviewText   reviewTime  \\\n",
       "179458  I am big fan of Call of duty  series. I have p...  12 24, 2012   \n",
       "63099   I purchased oblivion for the pc and am running...  03 24, 2006   \n",
       "139300  I was hesitant to buy these because of the rev...  01 13, 2014   \n",
       "202061                 batman 2 plays welli like it a lot  07 11, 2014   \n",
       "14372   ff9 still has acceptable graphics, even though...  07 16, 2004   \n",
       "\n",
       "            reviewerID           reviewerName  \\\n",
       "179458  A17RHFAEL3ODA4               abhishek   \n",
       "63099   A135E0P5XBZBQA  M. Santarelli \"THARN\"   \n",
       "139300  A1YTQUIFXD5LG1              Gamergirl   \n",
       "202061  A3KKBKVYBSCXDV          Alex Smeltzer   \n",
       "14372   A258MSMKY2710V             \"thmnshw4\"   \n",
       "\n",
       "                                          summary  unixReviewTime  \\\n",
       "179458                             Bang Bang !!!!      1356307200   \n",
       "63099   Best  first person rpg experience to date      1143158400   \n",
       "139300                    Glad i spent the money!      1389571200   \n",
       "202061                                 Five Stars      1405036800   \n",
       "14372                                     amazing      1089936000   \n",
       "\n",
       "        overall_cat  review_length  summary_length  \n",
       "179458            1            108              14  \n",
       "63099             1           2385              41  \n",
       "139300            1           1568              23  \n",
       "202061            1             34              10  \n",
       "14372             1            547               7  "
      ]
     },
     "execution_count": 7,
     "metadata": {},
     "output_type": "execute_result"
    }
   ],
   "source": [
    "# In an attempt to make .describe more useful, lets quantify reviews and summary \n",
    "# by word length\n",
    "gr_downsampled['review_length'] = gr_downsampled['reviewText'].apply(len)\n",
    "gr_downsampled['summary_length'] = gr_downsampled['summary'].apply(len)\n",
    "\n",
    "# Take a look at what the dataset looks like now.\n",
    "gr_downsampled.head()"
   ]
  },
  {
   "cell_type": "code",
   "execution_count": 13,
   "metadata": {},
   "outputs": [
    {
     "data": {
      "image/png": "[encoded data removed]",
      "text/plain": [
       "<matplotlib.figure.Figure at 0x10e2b0fd0>"
      ]
     },
     "metadata": {},
     "output_type": "display_data"
    }
   ],
   "source": [
    "sns.set_style('darkgrid')\n",
    "# Let's have a look and see if there is any relationship between \n",
    "# word length and reviews\n",
    "g = sns.FacetGrid(data=gr_downsampled, col='overall')\n",
    "g.map(plt.hist, 'review_length', bins=50);"
   ]
  },
  {
   "cell_type": "code",
   "execution_count": 14,
   "metadata": {},
   "outputs": [
    {
     "data": {
      "image/png": "[encoded data removed]",
      "text/plain": [
       "<matplotlib.figure.Figure at 0x10e56f3c8>"
      ]
     },
     "metadata": {},
     "output_type": "display_data"
    }
   ],
   "source": [
    "# What about summary\n",
    "g = sns.FacetGrid(data=gr_downsampled, col='overall')\n",
    "g.map(plt.hist, 'summary_length', bins=50);"
   ]
  },
  {
   "cell_type": "code",
   "execution_count": 15,
   "metadata": {},
   "outputs": [
    {
     "data": {
      "image/png": "[encoded data removed]",
      "text/plain": [
       "<matplotlib.figure.Figure at 0x10e4e4358>"
      ]
     },
     "metadata": {},
     "output_type": "display_data"
    }
   ],
   "source": [
    "# Neither summary length nor review length have a normal distribution.\n",
    "# Let's take a look and see how many outliers there are using a box plot. \n",
    "sns.boxplot(x='overall', y='review_length', data=gr_downsampled);"
   ]
  },
  {
   "cell_type": "code",
   "execution_count": 16,
   "metadata": {},
   "outputs": [
    {
     "data": {
      "image/png": "[encoded data removed]",
      "text/plain": [
       "<matplotlib.figure.Figure at 0x1053d1358>"
      ]
     },
     "metadata": {},
     "output_type": "display_data"
    }
   ],
   "source": [
    "# Oh man, review length has a lot of outliers\n",
    "# shows that the amount of words written can't really predict review rating.\n",
    "sns.boxplot(x='overall', y='summary_length', data=gr_downsampled);"
   ]
  },
  {
   "cell_type": "code",
   "execution_count": 17,
   "metadata": {},
   "outputs": [
    {
     "data": {
      "image/png": "[encoded data removed]",
      "text/plain": [
       "<matplotlib.figure.Figure at 0x10e6f8400>"
      ]
     },
     "metadata": {},
     "output_type": "display_data"
    }
   ],
   "source": [
    "# Results are the same for the summary length, which i'm guessing\n",
    "# is the title before the reviews.\n",
    "# Lets use a heatmap next to see if there are any correlations. \n",
    "rating = gr_downsampled.groupby('overall').mean()\n",
    "\n",
    "sns.heatmap(data=rating.corr(), annot=True);"
   ]
  },
  {
   "cell_type": "code",
   "execution_count": 8,
   "metadata": {},
   "outputs": [],
   "source": [
    "# Write a function that removes puncutation, stopwords\n",
    "# and return a list of words instead.\n",
    "\n",
    "import string\n",
    "\n",
    "def text_process(text):\n",
    "    '''\n",
    "    Takes in a string of text, then performs the following:\n",
    "    1. Remove all punctuation\n",
    "    2. Remove all stopwords\n",
    "    3. Return the cleaned text as a list of words\n",
    "    '''\n",
    "    nopunc = [char for char in text if char not in string.punctuation]\n",
    "    nopunc = ''.join(nopunc)\n",
    "    \n",
    "    return [word for word in nopunc.split() if word.lower() not in stopwords.words('english')]"
   ]
  },
  {
   "cell_type": "code",
   "execution_count": 15,
   "metadata": {},
   "outputs": [
    {
     "data": {
      "text/plain": [
       "430602"
      ]
     },
     "execution_count": 15,
     "metadata": {},
     "output_type": "execute_result"
    }
   ],
   "source": [
    "# Vectorize the list of words \n",
    "from sklearn.feature_extraction.text import CountVectorizer\n",
    "\n",
    "# Define the summary text so we can vectorize it\n",
    "X = gr_downsampled['reviewText']\n",
    "\n",
    "# Initialize and fit x.\n",
    "bow_transformer = CountVectorizer(analyzer=text_process).fit(X)\n",
    "\n",
    "len(bow_transformer.vocabulary_)"
   ]
  },
  {
   "cell_type": "code",
   "execution_count": 22,
   "metadata": {},
   "outputs": [
    {
     "name": "stdout",
     "output_type": "stream",
     "text": [
      "Stored 'bow_transformer' (CountVectorizer)\n"
     ]
    }
   ],
   "source": [
    "# Store the data for future use.\n",
    "%store bow_transformer"
   ]
  },
  {
   "cell_type": "code",
   "execution_count": 23,
   "metadata": {
    "scrolled": true
   },
   "outputs": [],
   "source": [
    "# Transform X into a sparse matrix.\n",
    "X = bow_transformer.transform(X)"
   ]
  },
  {
   "cell_type": "code",
   "execution_count": 24,
   "metadata": {},
   "outputs": [
    {
     "name": "stdout",
     "output_type": "stream",
     "text": [
      "Stored 'X' (csr_matrix)\n"
     ]
    }
   ],
   "source": [
    "# Store X in for future use\n",
    "%store X"
   ]
  },
  {
   "cell_type": "code",
   "execution_count": 25,
   "metadata": {},
   "outputs": [],
   "source": [
    "# Train and test the data with 30% holdout.\n",
    "y = gr_downsampled['overall_cat']\n",
    "\n",
    "X_train, X_test, y_train, y_test = train_test_split(X,y, test_size=0.3)"
   ]
  },
  {
   "cell_type": "markdown",
   "metadata": {},
   "source": [
    "# Model 1: Multinomial Naive Bayes"
   ]
  },
  {
   "cell_type": "code",
   "execution_count": 26,
   "metadata": {},
   "outputs": [],
   "source": [
    "from sklearn.naive_bayes import MultinomialNB\n",
    "#import and instantiate model\n",
    "\n",
    "nb = MultinomialNB()\n",
    "\n",
    "# Fit the model \n",
    "nb.fit(X_train, y_train)\n",
    "\n",
    "x_pred = nb.predict(X_test)"
   ]
  },
  {
   "cell_type": "code",
   "execution_count": 27,
   "metadata": {},
   "outputs": [
    {
     "data": {
      "text/plain": [
       "array([0.76921948, 0.76228907, 0.7595011 , 0.76346295, 0.75770473])"
      ]
     },
     "execution_count": 27,
     "metadata": {},
     "output_type": "execute_result"
    }
   ],
   "source": [
    "# Evaluate model accuracy with cross val\n",
    "from sklearn.model_selection import cross_val_score\n",
    "\n",
    "cross_val_score(nb, X_test, y_test, cv=5)"
   ]
  },
  {
   "cell_type": "code",
   "execution_count": 28,
   "metadata": {},
   "outputs": [
    {
     "name": "stdout",
     "output_type": "stream",
     "text": [
      "[[13330  3691]\n",
      " [ 3766 13288]]\n"
     ]
    }
   ],
   "source": [
    "from sklearn.metrics import confusion_matrix\n",
    "\n",
    "print(confusion_matrix(y_test, x_pred))"
   ]
  },
  {
   "cell_type": "markdown",
   "metadata": {},
   "source": [
    "# Analysis \n",
    "\n",
    "- Multinomial Naive Bayes was used since it's more effective for text classification.\n",
    "- Model is 75% accurate for the most part. \n",
    "- Model is probably only 75% accurate due to the confusing nature of 1-3 stars being converted to 0.\n",
    "- Improve model accuracy by using tf-idf potentially. \n",
    "- Equal amounts of false positive and false negatives. "
   ]
  },
  {
   "cell_type": "markdown",
   "metadata": {},
   "source": [
    "# Model 2: SVM"
   ]
  },
  {
   "cell_type": "code",
   "execution_count": 36,
   "metadata": {},
   "outputs": [],
   "source": [
    "# from sklearn.svm import SVC\n",
    "\n",
    "# svm = SVC()\n",
    "\n",
    "# # new parameters for this model\n",
    "# svc_params = [{'C': [.00001,.0001,.001,.01,.1,1,\n",
    "#                     10,100,1000,10000],\n",
    "#               'gamma': [.00001,.0001,.001,.01,.1,1,10,25,100]}]\n",
    "\n",
    "# # setting up the grid\n",
    "# svc_grid = GridSearchCV(svm, svc_params, cv=5, verbose=1, n_jobs=-1)\n",
    "\n",
    "# #Fit the grid\n",
    "# svc_grid.fit(X, y)\n",
    "\n",
    "# #return best parameters and best score\n",
    "# print('Best parameters:')\n",
    "# print(svc_grid.best_params_)\n",
    "# print('Best Score:')\n",
    "# print(svc_grid.best_score_)"
   ]
  },
  {
   "cell_type": "markdown",
   "metadata": {},
   "source": [
    "# Model 3 Logistic Regression (Ridge Regularization)"
   ]
  },
  {
   "cell_type": "code",
   "execution_count": 31,
   "metadata": {},
   "outputs": [
    {
     "name": "stdout",
     "output_type": "stream",
     "text": [
      "Fitting 5 folds for each of 11 candidates, totalling 55 fits\n"
     ]
    },
    {
     "name": "stderr",
     "output_type": "stream",
     "text": [
      "[Parallel(n_jobs=1)]: Done  55 out of  55 | elapsed: 31.1min finished\n"
     ]
    },
    {
     "name": "stdout",
     "output_type": "stream",
     "text": [
      "Best parameters:\n",
      "{'C': 0.01}\n",
      "Best Score:\n",
      "0.7903012801324153\n"
     ]
    }
   ],
   "source": [
    "from sklearn.linear_model import LogisticRegression\n",
    "lr = LogisticRegression()\n",
    "\n",
    "# Use GS-CV to see which alpha level is best.\n",
    "parameters = {\n",
    "             'C':[0.00001,0.0001,0.001,0.01,0.1,1,10,100,10000,100000,100000000]}\n",
    "\n",
    "lr_grid = GridSearchCV(lr, parameters, cv=5, verbose=1)\n",
    "\n",
    "#Fit the logistic regression \n",
    "lr_grid.fit(X, y)\n",
    "\n",
    "#return best parameters and best score\n",
    "print('Best parameters:')\n",
    "print(lr_grid.best_params_)\n",
    "print('Best Score:')\n",
    "print(lr_grid.best_score_)"
   ]
  },
  {
   "cell_type": "code",
   "execution_count": 34,
   "metadata": {},
   "outputs": [
    {
     "data": {
      "text/plain": [
       "array([0.74315521, 0.768137  , 0.77192287, 0.77069026, 0.75092446])"
      ]
     },
     "execution_count": 34,
     "metadata": {},
     "output_type": "execute_result"
    }
   ],
   "source": [
    "# Implement parameter \n",
    "lr = LogisticRegression(C=.01, penalty='l1')\n",
    "\n",
    "# Cross Validate the lr model. \n",
    "cross_val_score(lr, X, y, cv=5)"
   ]
  },
  {
   "cell_type": "markdown",
   "metadata": {},
   "source": [
    "# Analysis\n",
    "\n",
    "Logistic model with the ridge regularization is performing at the same level as the multinomial nb which strengthens my idea that I should have added more features and not just relied on the review text. "
   ]
  },
  {
   "cell_type": "markdown",
   "metadata": {},
   "source": [
    "# Model 4: Random Forest Classifier"
   ]
  },
  {
   "cell_type": "code",
   "execution_count": 35,
   "metadata": {},
   "outputs": [
    {
     "name": "stdout",
     "output_type": "stream",
     "text": [
      "Fitting 5 folds for each of 96 candidates, totalling 480 fits\n"
     ]
    },
    {
     "name": "stderr",
     "output_type": "stream",
     "text": [
      "[Parallel(n_jobs=-1)]: Done  34 tasks      | elapsed:  4.6min\n",
      "[Parallel(n_jobs=-1)]: Done 184 tasks      | elapsed: 34.0min\n",
      "[Parallel(n_jobs=-1)]: Done 434 tasks      | elapsed: 90.8min\n",
      "[Parallel(n_jobs=-1)]: Done 480 out of 480 | elapsed: 101.0min finished\n"
     ]
    },
    {
     "name": "stdout",
     "output_type": "stream",
     "text": [
      "Best Parameter for data: {'max_depth': 6, 'max_features': 8, 'n_estimators': 1000}\n",
      "\n",
      "Best Score for data: 0.6049021852054023\n"
     ]
    }
   ],
   "source": [
    "# Prepare random forest classifier\n",
    "rfc = ensemble.RandomForestClassifier()\n",
    "\n",
    "# Create rfc parameters for GS-CV\n",
    "param_grid = {'n_estimators': [10, 25, 50, 75, 100, 200, 500, 1000],\n",
    "             'max_features': [2, 4, 6, 8],\n",
    "             'max_depth': [2, 4, 6]}\n",
    "\n",
    "# Set up GS-CV\n",
    "grid = GridSearchCV(rfc, param_grid, cv=5, verbose=1, n_jobs=-1)\n",
    "\n",
    "grid.fit(X, y)\n",
    "\n",
    "# Show the best parameter and best score for unfiltered\n",
    "print('Best Parameter for data:', grid.best_params_)\n",
    "print('\\nBest Score for data:', grid.best_score_)"
   ]
  },
  {
   "cell_type": "code",
   "execution_count": 36,
   "metadata": {},
   "outputs": [
    {
     "data": {
      "text/plain": [
       "array([0.58605511, 0.62555027, 0.61784645, 0.60252685, 0.57787463])"
      ]
     },
     "execution_count": 36,
     "metadata": {},
     "output_type": "execute_result"
    }
   ],
   "source": [
    "# Use the best parameters from previous GS-CV\n",
    "# Took way too long so I don't want to do it again.\n",
    "new_rfc = ensemble.RandomForestClassifier(n_estimators=1000, \n",
    "                                         max_features=8, max_depth=6)\n",
    "\n",
    "# use cross val score\n",
    "cross_val_score(new_rfc, X, y, cv=5)"
   ]
  },
  {
   "cell_type": "markdown",
   "metadata": {},
   "source": [
    "# Analysis \n",
    "\n",
    "The rfc model took the maximum amount of each parameter and was still only able to produce an accuracy of up to 60%.\n",
    "The only explanation I can think of is that I didn't include enough features. The 'reviewText' may not have been enough data."
   ]
  },
  {
   "cell_type": "code",
   "execution_count": null,
   "metadata": {},
   "outputs": [],
   "source": []
  }
 ],
 "metadata": {
  "kernelspec": {
   "display_name": "Python 3",
   "language": "python",
   "name": "python3"
  },
  "language_info": {
   "codemirror_mode": {
    "name": "ipython",
    "version": 3
   },
   "file_extension": ".py",
   "mimetype": "text/x-python",
   "name": "python",
   "nbconvert_exporter": "python",
   "pygments_lexer": "ipython3",
   "version": "3.6.4"
  }
 },
 "nbformat": 4,
 "nbformat_minor": 2
}
