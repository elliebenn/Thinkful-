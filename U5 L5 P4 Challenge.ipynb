{
 "cells": [
  {
   "cell_type": "markdown",
   "metadata": {},
   "source": [
    "# 5.5.4 Challenge\n",
    "\n",
    "Using selected questions from the 2012 and 2014 editions of the European Social Survey, address the following questions. Keep track of your code and results in a Jupyter notebook or other source that you can share with your mentor. For each question, explain why you chose the approach you did.\n",
    "\n",
    "Using selected questions from the 2012 and 2014 editions of the European Social Survey, address the following questions. Keep track of your code and results in a Jupyter notebook or other source that you can share with your mentor. For each question, explain why you chose the approach you did.\n",
    "\n",
    "In this dataset, the same participants answered questions in 2012 and again 2014.\n",
    "\n",
    "1. Did people become less trusting from 2012 to 2014? Compute results for each country in the sample.\n",
    "2. Did people become happier from 2012 to 2014? Compute results for each country in the sample.\n",
    "3. Who reported watching more TV in 2012, men or women?\n",
    "4. Who was more likely to believe people were fair in 2012, people living with a partner or people living alone?\n",
    "5. Pick three or four of the countries in the sample and compare how often people met socially in 2014. Are there differences, and if so, which countries stand out?\n",
    "6. Pick three or four of the countries in the sample and compare how often people took part in social activities, relative to others their age, in 2014. Are there differences, and if so, which countries stand out?"
   ]
  },
  {
   "cell_type": "code",
   "execution_count": 1,
   "metadata": {},
   "outputs": [],
   "source": [
    "import pandas as pd\n",
    "import numpy as np\n",
    "import matplotlib.pyplot as plt\n",
    "import seaborn as sns\n",
    "%matplotlib inline\n",
    "sns.set_style('whitegrid')\n",
    "# Import parametric statistics\n",
    "from scipy.stats import ttest_ind, f_oneway, ttest_rel, shapiro\n",
    "# Import nonparametric statistics\n",
    "from scipy.stats import kruskal, wilcoxon\n",
    "# Import test for normality\n",
    "from statsmodels.stats.multicomp import pairwise_tukeyhsd"
   ]
  },
  {
   "cell_type": "code",
   "execution_count": 2,
   "metadata": {},
   "outputs": [
    {
     "data": {
      "text/html": [
       "<div>\n",
       "<style scoped>\n",
       "    .dataframe tbody tr th:only-of-type {\n",
       "        vertical-align: middle;\n",
       "    }\n",
       "\n",
       "    .dataframe tbody tr th {\n",
       "        vertical-align: top;\n",
       "    }\n",
       "\n",
       "    .dataframe thead th {\n",
       "        text-align: right;\n",
       "    }\n",
       "</style>\n",
       "<table border=\"1\" class=\"dataframe\">\n",
       "  <thead>\n",
       "    <tr style=\"text-align: right;\">\n",
       "      <th></th>\n",
       "      <th>cntry</th>\n",
       "      <th>idno</th>\n",
       "      <th>year</th>\n",
       "      <th>tvtot</th>\n",
       "      <th>ppltrst</th>\n",
       "      <th>pplfair</th>\n",
       "      <th>pplhlp</th>\n",
       "      <th>happy</th>\n",
       "      <th>sclmeet</th>\n",
       "      <th>sclact</th>\n",
       "      <th>gndr</th>\n",
       "      <th>agea</th>\n",
       "      <th>partner</th>\n",
       "    </tr>\n",
       "  </thead>\n",
       "  <tbody>\n",
       "    <tr>\n",
       "      <th>0</th>\n",
       "      <td>CH</td>\n",
       "      <td>5.0</td>\n",
       "      <td>6</td>\n",
       "      <td>3.0</td>\n",
       "      <td>3.0</td>\n",
       "      <td>10.0</td>\n",
       "      <td>5.0</td>\n",
       "      <td>8.0</td>\n",
       "      <td>5.0</td>\n",
       "      <td>4.0</td>\n",
       "      <td>2.0</td>\n",
       "      <td>60.0</td>\n",
       "      <td>1.0</td>\n",
       "    </tr>\n",
       "    <tr>\n",
       "      <th>1</th>\n",
       "      <td>CH</td>\n",
       "      <td>25.0</td>\n",
       "      <td>6</td>\n",
       "      <td>6.0</td>\n",
       "      <td>5.0</td>\n",
       "      <td>7.0</td>\n",
       "      <td>5.0</td>\n",
       "      <td>9.0</td>\n",
       "      <td>3.0</td>\n",
       "      <td>2.0</td>\n",
       "      <td>2.0</td>\n",
       "      <td>59.0</td>\n",
       "      <td>1.0</td>\n",
       "    </tr>\n",
       "    <tr>\n",
       "      <th>2</th>\n",
       "      <td>CH</td>\n",
       "      <td>26.0</td>\n",
       "      <td>6</td>\n",
       "      <td>1.0</td>\n",
       "      <td>8.0</td>\n",
       "      <td>8.0</td>\n",
       "      <td>8.0</td>\n",
       "      <td>7.0</td>\n",
       "      <td>6.0</td>\n",
       "      <td>3.0</td>\n",
       "      <td>1.0</td>\n",
       "      <td>24.0</td>\n",
       "      <td>2.0</td>\n",
       "    </tr>\n",
       "    <tr>\n",
       "      <th>3</th>\n",
       "      <td>CH</td>\n",
       "      <td>28.0</td>\n",
       "      <td>6</td>\n",
       "      <td>4.0</td>\n",
       "      <td>6.0</td>\n",
       "      <td>6.0</td>\n",
       "      <td>7.0</td>\n",
       "      <td>10.0</td>\n",
       "      <td>6.0</td>\n",
       "      <td>2.0</td>\n",
       "      <td>2.0</td>\n",
       "      <td>64.0</td>\n",
       "      <td>1.0</td>\n",
       "    </tr>\n",
       "    <tr>\n",
       "      <th>4</th>\n",
       "      <td>CH</td>\n",
       "      <td>29.0</td>\n",
       "      <td>6</td>\n",
       "      <td>5.0</td>\n",
       "      <td>6.0</td>\n",
       "      <td>7.0</td>\n",
       "      <td>5.0</td>\n",
       "      <td>8.0</td>\n",
       "      <td>7.0</td>\n",
       "      <td>2.0</td>\n",
       "      <td>2.0</td>\n",
       "      <td>55.0</td>\n",
       "      <td>1.0</td>\n",
       "    </tr>\n",
       "  </tbody>\n",
       "</table>\n",
       "</div>"
      ],
      "text/plain": [
       "  cntry  idno  year  tvtot  ppltrst  pplfair  pplhlp  happy  sclmeet  sclact  \\\n",
       "0    CH   5.0     6    3.0      3.0     10.0     5.0    8.0      5.0     4.0   \n",
       "1    CH  25.0     6    6.0      5.0      7.0     5.0    9.0      3.0     2.0   \n",
       "2    CH  26.0     6    1.0      8.0      8.0     8.0    7.0      6.0     3.0   \n",
       "3    CH  28.0     6    4.0      6.0      6.0     7.0   10.0      6.0     2.0   \n",
       "4    CH  29.0     6    5.0      6.0      7.0     5.0    8.0      7.0     2.0   \n",
       "\n",
       "   gndr  agea  partner  \n",
       "0   2.0  60.0      1.0  \n",
       "1   2.0  59.0      1.0  \n",
       "2   1.0  24.0      2.0  \n",
       "3   2.0  64.0      1.0  \n",
       "4   2.0  55.0      1.0  "
      ]
     },
     "execution_count": 2,
     "metadata": {},
     "output_type": "execute_result"
    }
   ],
   "source": [
    "# Load in data\n",
    "ess_raw = pd.read_csv('ESSdata_Thinkful.csv')\n",
    "ess_raw.head()"
   ]
  },
  {
   "cell_type": "code",
   "execution_count": 3,
   "metadata": {},
   "outputs": [
    {
     "data": {
      "text/plain": [
       "(8594, 13)"
      ]
     },
     "execution_count": 3,
     "metadata": {},
     "output_type": "execute_result"
    }
   ],
   "source": [
    "# Check initial volume of data.\n",
    "ess_raw.shape"
   ]
  },
  {
   "cell_type": "code",
   "execution_count": 4,
   "metadata": {},
   "outputs": [],
   "source": [
    "# Drop data that is unusable.\n",
    "ess_data = ess_raw.dropna()"
   ]
  },
  {
   "cell_type": "code",
   "execution_count": 5,
   "metadata": {},
   "outputs": [
    {
     "data": {
      "text/plain": [
       "(8147, 13)"
      ]
     },
     "execution_count": 5,
     "metadata": {},
     "output_type": "execute_result"
    }
   ],
   "source": [
    "# Lost only 400 rows out of 8.5k rows. \n",
    "# Going to keep it as is. \n",
    "ess_data.shape"
   ]
  },
  {
   "cell_type": "markdown",
   "metadata": {},
   "source": [
    "# 1. Did people become less trusting from 2012 to 2014? Compute results for each country in the sample.\n",
    "\n",
    "In order to determing which distribution comparison test to use, I must determine whether they are parametric or non-parametric distributions. This can be observed by first plotting histograms of trust for the selected years for each country. "
   ]
  },
  {
   "cell_type": "code",
   "execution_count": 12,
   "metadata": {},
   "outputs": [
    {
     "data": {
      "text/plain": [
       "ES    2292\n",
       "SE    1726\n",
       "CH    1475\n",
       "NO    1420\n",
       "CZ    1207\n",
       "DE      27\n",
       "Name: cntry, dtype: int64"
      ]
     },
     "execution_count": 12,
     "metadata": {},
     "output_type": "execute_result"
    }
   ],
   "source": [
    "# Check the sample size for each country.\n",
    "ess_data['cntry'].value_counts()"
   ]
  },
  {
   "cell_type": "code",
   "execution_count": 10,
   "metadata": {},
   "outputs": [
    {
     "name": "stdout",
     "output_type": "stream",
     "text": [
      "\t\tDistribution of Trust from 2012 to 2014 for Six European Countries\n"
     ]
    },
    {
     "data": {
      "image/png": "[encoded data removed]",
      "text/plain": [
       "<matplotlib.figure.Figure at 0x1a121a2c18>"
      ]
     },
     "metadata": {},
     "output_type": "display_data"
    },
    {
     "name": "stdout",
     "output_type": "stream",
     "text": [
      "Shapiro Tests for Normality\n",
      "CH 6 (0.9517108201980591, 9.511383786695374e-15)\n",
      "CH 7 (0.9547930955886841, 2.4654701498145852e-14)\n",
      "\n",
      "CZ 6 (0.9680074453353882, 3.6126571179018185e-10)\n",
      "CZ 7 (0.9715775847434998, 1.8777941424019673e-09)\n",
      "\n",
      "DE 6 (0.8929166197776794, 0.10693283379077911)\n",
      "DE 7 (0.9425466060638428, 0.4519253373146057)\n",
      "\n",
      "ES 6 (0.949491024017334, 1.6942651933374377e-19)\n",
      "ES 7 (0.9663601517677307, 1.5275811452092943e-15)\n",
      "\n",
      "NO 6 (0.9211018085479736, 8.881221102071063e-19)\n",
      "NO 7 (0.9292040467262268, 7.928973676032161e-18)\n",
      "\n",
      "SE 6 (0.9367397427558899, 1.2586250953636158e-18)\n",
      "SE 7 (0.9376322627067566, 1.3852298444033788e-18)\n",
      "\n"
     ]
    }
   ],
   "source": [
    "# Plotting histograms of trust for each country for each year\n",
    "g = sns.FacetGrid(ess_raw, row='year', col='cntry', dropna=True, sharey=False)\n",
    "g = g.map(plt.hist, 'ppltrst', alpha=0.8)\n",
    "# Adding a title\n",
    "print('\\t\\tDistribution of Trust from 2012 to 2014 for Six European Countries')\n",
    "plt.show()\n",
    "\n",
    "# Testing each country and each year to determine if happiness is normally distributed through Shapiro test\n",
    "# Creating lists of countries and years\n",
    "cntrys = list(ess_data.cntry.unique())\n",
    "years = [6,7]\n",
    "print('Shapiro Tests for Normality')\n",
    "for cnt in cntrys:\n",
    "    # Isolating data from each country\n",
    "    ess_temp = ess_data[ess_data.cntry == cnt]\n",
    "    for year in years:\n",
    "        # Printing Shapiro test results\n",
    "        print(cnt, year, shapiro(ess_temp[ess_temp.year == year].ppltrst))\n",
    "    print()"
   ]
  },
  {
   "cell_type": "markdown",
   "metadata": {},
   "source": [
    "All of the graphs look non normally distributed, but the results for the Shapiro test are close to 1 which means that the distributions are close enough to a normal distribution. The graphs that look closest to being normally distributed are Czech Republic 2012, and 2014, and Spain in 2014. Denmark looks non-normally distributed and the Shapiro test p-value fails at the 0.05 threshold. However, due to the small sample size, I cannot fully trust the results for Denmark.\n",
    "\n",
    "Due to the results of Denmark not being reliable, I am forced to use non-parametric distribution tests. Since the comparison in this case is for the same group of people and the distributions are non-parametric, I will use the Wilcoxon sign-rank test to determine if theree are differences between the distributions over the year. "
   ]
  },
  {
   "cell_type": "code",
   "execution_count": 15,
   "metadata": {},
   "outputs": [
    {
     "name": "stdout",
     "output_type": "stream",
     "text": [
      "Wilcoxon Signed-Rank Test\n",
      "CH WilcoxonResult(statistic=106278.5, pvalue=0.4411286510952477)\n",
      "\n",
      "CZ WilcoxonResult(statistic=82837.0, pvalue=0.2931891426327379)\n",
      "\n",
      "DE WilcoxonResult(statistic=44.0, pvalue=0.9157134600899863)\n",
      "\n",
      "ES WilcoxonResult(statistic=243475.5, pvalue=0.005570829650439684)\n",
      "\n",
      "NO WilcoxonResult(statistic=85392.0, pvalue=0.6139175669970661)\n",
      "\n",
      "SE WilcoxonResult(statistic=130719.5, pvalue=0.028545290985536906)\n",
      "\n",
      "\n",
      "DE t-test: Ttest_indResult(statistic=-0.18084358577434545, pvalue=0.8578926631223287)\n"
     ]
    },
    {
     "name": "stderr",
     "output_type": "stream",
     "text": [
      "/anaconda3/lib/python3.6/site-packages/scipy/stats/morestats.py:2388: RuntimeWarning: invalid value encountered in greater\n",
      "  r_plus = np.sum((d > 0) * r, axis=0)\n",
      "/anaconda3/lib/python3.6/site-packages/scipy/stats/morestats.py:2389: RuntimeWarning: invalid value encountered in less\n",
      "  r_minus = np.sum((d < 0) * r, axis=0)\n"
     ]
    }
   ],
   "source": [
    "# Wilcoxon Signed Rank Test for each country between years.\n",
    "# Forced to use raw document because the sample sizes didn't match otherwise.\n",
    "print('Wilcoxon Signed-Rank Test')\n",
    "for cnt in cntrys:\n",
    "    # Isolating data from each country\n",
    "    ess_temp = ess_raw[ess_raw.cntry ==cnt]\n",
    "    # Printing Shapiro test results\n",
    "    print(cnt, wilcoxon(ess_temp[ess_temp.year == 6].ppltrst, \n",
    "                        y=ess_temp[ess_temp.year == 7].ppltrst))\n",
    "    print()\n",
    "\n",
    "# Also computing t-test statistic for Denmark\n",
    "ess_DE = ess_raw[ess_raw.cntry =='DE']\n",
    "print('\\nDE t-test:', ttest_ind(ess_DE[ess_DE.year==6].ppltrst, \n",
    "                              ess_DE[ess_DE.year==7].ppltrst))"
   ]
  },
  {
   "cell_type": "markdown",
   "metadata": {},
   "source": [
    "## Results\n",
    "\n",
    "According to the Wilcoxon signed-rank test, the only statistical differences in trust in countries are Spain and Sweden since the p values pass the 0.05 threshold. All other countries fail that threshold so we fail to notice any statistical significance in the change of trust levels in their respective countries.\n",
    "\n",
    "According to the histograms, trust has increased from 2012 to 2014 in Spain and Sweden."
   ]
  },
  {
   "cell_type": "markdown",
   "metadata": {},
   "source": [
    "# 2.  Did people become happier from 2012 to 2014? Compute results for each country in the sample.\n",
    "\n",
    "Same thing as last time, in order to determine whether to use parametric or non parametric tests, I must first determine normality. "
   ]
  },
  {
   "cell_type": "code",
   "execution_count": 16,
   "metadata": {},
   "outputs": [
    {
     "name": "stdout",
     "output_type": "stream",
     "text": [
      "\t\tDistribution of Happiness from 2012 to 2014 for Six European Countries\n"
     ]
    },
    {
     "data": {
      "image/png": "[encoded data removed]",
      "text/plain": [
       "<matplotlib.figure.Figure at 0x10286f0f0>"
      ]
     },
     "metadata": {},
     "output_type": "display_data"
    },
    {
     "name": "stdout",
     "output_type": "stream",
     "text": [
      "Shapiro Tests for Normality\n",
      "CH 6 (0.8773602843284607, 1.4611401593361174e-23)\n",
      "CH 7 (0.8950787782669067, 4.273768685964887e-22)\n",
      "\n",
      "CZ 6 (0.9462587833404541, 5.939277796787254e-14)\n",
      "CZ 7 (0.9448645710945129, 3.1643033327052525e-14)\n",
      "\n",
      "DE 6 (0.9160983562469482, 0.22210942208766937)\n",
      "DE 7 (0.9213663339614868, 0.23006466031074524)\n",
      "\n",
      "ES 6 (0.9052610397338867, 3.4151276945678624e-26)\n",
      "ES 7 (0.9136462211608887, 6.898763644671094e-25)\n",
      "\n",
      "NO 6 (0.8498518466949463, 2.291937245544563e-25)\n",
      "NO 7 (0.8795287609100342, 4.6808705797415216e-23)\n",
      "\n",
      "SE 6 (0.9025380611419678, 5.918160728712866e-23)\n",
      "SE 7 (0.912103533744812, 5.600742285549146e-22)\n",
      "\n"
     ]
    }
   ],
   "source": [
    "# Plotting histograms of happiness for each country for each year\n",
    "g = sns.FacetGrid(ess_raw, row='year', col='cntry', dropna=True, sharey=False)\n",
    "g = g.map(plt.hist, 'happy', alpha=0.8, color='purple')\n",
    "# Adding a title\n",
    "print('\\t\\tDistribution of Happiness from 2012 to 2014 for Six European Countries')\n",
    "plt.show()\n",
    "\n",
    "# Testing each country and each year to determine if happiness is normally distributed through Shapiro test\n",
    "# Creating lists of countries and years\n",
    "cntrys = list(ess_data.cntry.unique())\n",
    "years = [6,7]\n",
    "print('Shapiro Tests for Normality')\n",
    "for cnt in cntrys:\n",
    "    # Isolating data from each country\n",
    "    ess_temp = ess_data[ess_data.cntry ==cnt]\n",
    "    for year in years:\n",
    "        # Printing Shapiro test results\n",
    "        print(cnt, year, shapiro(ess_temp[ess_temp.year ==year].happy))\n",
    "    print()"
   ]
  },
  {
   "cell_type": "markdown",
   "metadata": {},
   "source": [
    "At a glance, even without the Shapiro test, I can tell that this is definitely not a normal distribution. At a glance however, it does seem that people are becoming happier. Now that I think about it, as long I have to compare Denmark to its peers, I will always have to use a non parametric distribution test.\n",
    "\n",
    "The Shapiro scores for each country are surprisingly high given how skewed the histograms are."
   ]
  },
  {
   "cell_type": "code",
   "execution_count": 17,
   "metadata": {},
   "outputs": [
    {
     "name": "stdout",
     "output_type": "stream",
     "text": [
      "Wilcoxon Signed-Rank Test\n",
      "CH WilcoxonResult(statistic=92816.5, pvalue=0.8208688161425343)\n",
      "\n",
      "CZ WilcoxonResult(statistic=73213.0, pvalue=0.01064243454053068)\n",
      "\n",
      "DE WilcoxonResult(statistic=23.5, pvalue=0.393351316918508)\n",
      "\n",
      "ES WilcoxonResult(statistic=231958.5, pvalue=0.04923868084306013)\n",
      "\n",
      "NO WilcoxonResult(statistic=67571.5, pvalue=2.7264367804254175e-06)\n",
      "\n",
      "SE WilcoxonResult(statistic=125481.0, pvalue=0.5136403441005022)\n",
      "\n",
      "\n",
      "DE t-test: Ttest_indResult(statistic=-0.7648529270389165, pvalue=0.451246041120838)\n"
     ]
    },
    {
     "name": "stderr",
     "output_type": "stream",
     "text": [
      "/anaconda3/lib/python3.6/site-packages/scipy/stats/morestats.py:2388: RuntimeWarning: invalid value encountered in greater\n",
      "  r_plus = np.sum((d > 0) * r, axis=0)\n",
      "/anaconda3/lib/python3.6/site-packages/scipy/stats/morestats.py:2389: RuntimeWarning: invalid value encountered in less\n",
      "  r_minus = np.sum((d < 0) * r, axis=0)\n"
     ]
    }
   ],
   "source": [
    "# Wilcoxon Signed Rank Test for each country between years.# Wilco \n",
    "print('Wilcoxon Signed-Rank Test')\n",
    "for cnt in cntrys:\n",
    "    # Isolating data from each country\n",
    "    ess_temp = ess_raw[ess_raw.cntry ==cnt]\n",
    "    # Printing Shapiro test results\n",
    "    print(cnt, wilcoxon(ess_temp[ess_temp.year == 6].happy, y=ess_temp[ess_temp.year == 7].happy))\n",
    "    print()\n",
    "    \n",
    "# Printing t-test statistic for Denmark\n",
    "print('\\nDE t-test:', ttest_ind(ess_DE[ess_DE.year==6].happy, \n",
    "                              ess_DE[ess_DE.year==7].happy))"
   ]
  },
  {
   "cell_type": "markdown",
   "metadata": {},
   "source": [
    "## Analysis\n",
    "\n",
    "According to the Wilcoxon test, only Spain and Norway have a statistical signifance in the difference of their happiness levels from 2012 to 2014. According to the histograms, Spain and Norway have become less happy from 2012 to 2014. As for the other four countries, the Wilcoxon test could not determine whether there is any statistical significance to the changes in the happiness levels in 2012 and 2014."
   ]
  },
  {
   "cell_type": "markdown",
   "metadata": {},
   "source": [
    "# 3. Who reported watching more TV in 2012, men or women?\n",
    "\n",
    "For this question, we are not comparing the opinions of the same person over time, just men versus women, so these ratings are independent of one another, meaning I can use a t-test or Wilcoxon test to describe the distribution differences. Now, let's see whether or not these distributions are normally distributed so we can figure out which one to use."
   ]
  },
  {
   "cell_type": "code",
   "execution_count": 18,
   "metadata": {},
   "outputs": [],
   "source": [
    "# Create a dataframe for 2012.\n",
    "ess_2012 = ess_raw[ess_raw.year==6]"
   ]
  },
  {
   "cell_type": "code",
   "execution_count": 20,
   "metadata": {},
   "outputs": [
    {
     "data": {
      "text/plain": [
       "1.0    2154\n",
       "2.0    2143\n",
       "Name: gndr, dtype: int64"
      ]
     },
     "execution_count": 20,
     "metadata": {},
     "output_type": "execute_result"
    }
   ],
   "source": [
    "# Check the sample size for each gender.\n",
    "ess_2012['gndr'].value_counts()"
   ]
  },
  {
   "cell_type": "code",
   "execution_count": 22,
   "metadata": {},
   "outputs": [
    {
     "data": {
      "text/plain": [
       "4297"
      ]
     },
     "execution_count": 22,
     "metadata": {},
     "output_type": "execute_result"
    }
   ],
   "source": [
    "# Too lazy to calculate the count total. \n",
    "len(ess_2012)"
   ]
  },
  {
   "cell_type": "code",
   "execution_count": 39,
   "metadata": {
    "scrolled": true
   },
   "outputs": [
    {
     "name": "stdout",
     "output_type": "stream",
     "text": [
      "\t\tDistribution of Total TV Watching in 2012 for Men and Women\n"
     ]
    },
    {
     "data": {
      "image/png": "[encoded data removed]",
      "text/plain": [
       "<matplotlib.figure.Figure at 0x1a12fcec88>"
      ]
     },
     "metadata": {},
     "output_type": "display_data"
    },
    {
     "name": "stdout",
     "output_type": "stream",
     "text": [
      "Males (1.0): (0.9434293508529663, 5.994494507539187e-28)\n",
      "Females (2.0): (0.9390434622764587, 8.488309331265169e-29)\n"
     ]
    }
   ],
   "source": [
    "g = sns.FacetGrid(ess_2012, col='gndr', dropna=True, sharey=True)\n",
    "g = g.map(plt.hist, 'tvtot', alpha=0.8, color='teal', bins=8)\n",
    "# Adding a title\n",
    "print('\\t\\tDistribution of Total TV Watching in 2012 for Men and Women')\n",
    "plt.show()\n",
    "\n",
    "print('Males (1.0):', shapiro(ess_2012[ess_2012.gndr ==1].tvtot.dropna()))\n",
    "print('Females (2.0):', shapiro(ess_2012[ess_2012.gndr ==2].tvtot.dropna()))"
   ]
  },
  {
   "cell_type": "markdown",
   "metadata": {},
   "source": [
    "According to the Shapiro test, this is a normal distribution, but in my opinion, it seems more like a non-normal distribution so I'm going to use a non-parametric distribution test. "
   ]
  },
  {
   "cell_type": "code",
   "execution_count": 24,
   "metadata": {},
   "outputs": [
    {
     "name": "stdout",
     "output_type": "stream",
     "text": [
      "Wilcoxon Test: WilcoxonResult(statistic=782530.0, pvalue=0.5033507782372963)\n"
     ]
    }
   ],
   "source": [
    "# Printing Wilcoxon Test for TV watching across genders.  Using only first 2140 entries of men to even counts.\n",
    "print('Wilcoxon Test:', wilcoxon(ess_2012[ess_2012.gndr == 1].tvtot.dropna()[:2140], \n",
    "                                 y=ess_2012[ess_2012.gndr == 2].tvtot.dropna()))"
   ]
  },
  {
   "cell_type": "markdown",
   "metadata": {},
   "source": [
    "## Analysis\n",
    "\n",
    "There is no statistical significance in the tv viewership of males and females."
   ]
  },
  {
   "cell_type": "markdown",
   "metadata": {},
   "source": [
    "# 4. Who was more likely to believe people were fair in 2012, people living with a partner or people living alone?\n",
    "\n",
    "Again, these people are all independent of one another, so I will need to use a t-test or a Wilcoxon test to determine if the distributions are different from one another. Let's now check for normality to determine which one to use."
   ]
  },
  {
   "cell_type": "code",
   "execution_count": 40,
   "metadata": {},
   "outputs": [
    {
     "name": "stdout",
     "output_type": "stream",
     "text": [
      "\t\tDistribution of Fairness in 2012 for People who Live with and without a Partner\n"
     ]
    },
    {
     "data": {
      "image/png": "[encoded data removed]",
      "text/plain": [
       "<matplotlib.figure.Figure at 0x1a12ee5be0>"
      ]
     },
     "metadata": {},
     "output_type": "display_data"
    },
    {
     "name": "stdout",
     "output_type": "stream",
     "text": [
      "Lives with Partner (1.0): (0.94523686170578, 2.068099309311279e-30)\n",
      "Lives Alone (2.0): (0.9332861304283142, 2.8958550733254737e-26)\n"
     ]
    }
   ],
   "source": [
    "g = sns.FacetGrid(ess_2012, col='partner', dropna=True, sharey=True)\n",
    "g = g.map(plt.hist, 'pplfair', alpha=0.8, color='teal', bins=8, normed=True)\n",
    "# Adding a title\n",
    "print('\\t\\tDistribution of Fairness in 2012 for People who Live with and without a Partner')\n",
    "plt.show()\n",
    "\n",
    "print('Lives with Partner (1.0):', shapiro(ess_2012[ess_2012.partner ==1].tvtot.dropna()))\n",
    "print('Lives Alone (2.0):', shapiro(ess_2012[ess_2012.partner ==2].tvtot.dropna()))"
   ]
  },
  {
   "cell_type": "markdown",
   "metadata": {},
   "source": [
    "According to the Shapiro test, it is likely that this is a normal distribution but the graph tells me that the distributions are slightly skewed."
   ]
  },
  {
   "cell_type": "code",
   "execution_count": 26,
   "metadata": {},
   "outputs": [
    {
     "data": {
      "text/plain": [
       "1.0    2674\n",
       "2.0    1616\n",
       "Name: partner, dtype: int64"
      ]
     },
     "execution_count": 26,
     "metadata": {},
     "output_type": "execute_result"
    }
   ],
   "source": [
    "ess_2012['partner'].value_counts()"
   ]
  },
  {
   "cell_type": "code",
   "execution_count": 28,
   "metadata": {},
   "outputs": [
    {
     "name": "stdout",
     "output_type": "stream",
     "text": [
      "Wilcoxon Test: WilcoxonResult(statistic=426739.0, pvalue=0.004340158276254172)\n"
     ]
    }
   ],
   "source": [
    "# Printing Wilcoxon Test for fairness across living with and without partners.  \n",
    "# Using only first 1608 entries of living with partners to even counts.\n",
    "print('Wilcoxon Test:', wilcoxon(ess_2012[ess_2012.partner == 1].pplfair.dropna()[:1608], \n",
    "                                 y=ess_2012[ess_2012.partner == 2].pplfair.dropna()))"
   ]
  },
  {
   "cell_type": "markdown",
   "metadata": {},
   "source": [
    "According to the Wilcoxon test, there is a statistical significance in the difference between single people and couples in terms of how much they believe in the fairness of people. From just eyeballing the histograms, it looks like couples are more likely to believe that people are fair. "
   ]
  },
  {
   "cell_type": "code",
   "execution_count": 30,
   "metadata": {},
   "outputs": [
    {
     "name": "stdout",
     "output_type": "stream",
     "text": [
      "Median Fairness for People living with Partners: 7.0\n",
      "Median Fairness for People living Alone: 6.0\n",
      "\n",
      "Looks like my eyeball estimation was correct.\n"
     ]
    }
   ],
   "source": [
    "print('Median Fairness for People living with Partners:', ess_2012[ess_2012.partner == 1].pplfair.median())\n",
    "print('Median Fairness for People living Alone:', ess_2012[ess_2012.partner == 2].pplfair.median())\n",
    "\n",
    "print('\\nLooks like my eyeball estimation was correct.')"
   ]
  },
  {
   "cell_type": "markdown",
   "metadata": {},
   "source": [
    "# Question 5. Pick three or four of the countries in the sample and compare how often people met socially in 2014. Are there differences, and if so, which countries stand out?\n",
    "\n",
    "Since I will be choosing 3 or 4 countries, and knowing these countries are independent of one another, I will either be using a one-way or Mood’s median test or Kruskal-Wallis test, depending on the distribution of the data, so let's check it out.\n",
    "\n",
    "Let's use the Czech Republic, Spain, Norway, and Sweden as our countries."
   ]
  },
  {
   "cell_type": "code",
   "execution_count": 31,
   "metadata": {},
   "outputs": [],
   "source": [
    "# Pulling out the countries in 2014\n",
    "country_list = ['CZ','ES','NO','SE']\n",
    "ess_c = ess_raw[(ess_raw.cntry.isin(country_list)) & (ess_raw.year == 7)]"
   ]
  },
  {
   "cell_type": "code",
   "execution_count": 38,
   "metadata": {},
   "outputs": [
    {
     "name": "stdout",
     "output_type": "stream",
     "text": [
      "\t\tDistribution of Social Meetings from 2014 for Four European Countries\n"
     ]
    },
    {
     "data": {
      "image/png": "[encoded data removed]",
      "text/plain": [
       "<matplotlib.figure.Figure at 0x1a12bc4fd0>"
      ]
     },
     "metadata": {},
     "output_type": "display_data"
    },
    {
     "name": "stdout",
     "output_type": "stream",
     "text": [
      "Shapiro Tests for Normality\n",
      "CZ (0.9451602101325989, 7.663770300607355e-15)\n",
      "\n",
      "ES (0.8880351781845093, 9.848293928138278e-29)\n",
      "\n",
      "NO (0.8881818056106567, 1.422473605641294e-22)\n",
      "\n",
      "SE (0.8798282146453857, 6.682967662559975e-26)\n",
      "\n"
     ]
    }
   ],
   "source": [
    "# Plotting histograms of happiness for each country for each year\n",
    "g = sns.FacetGrid(ess_c, col='cntry', dropna=True, sharey=False)\n",
    "g = g.map(plt.hist, 'sclmeet', alpha=0.8, color='teal', bins=7)\n",
    "# Adding a title\n",
    "print('\\t\\tDistribution of Social Meetings from 2014 for Four European Countries')\n",
    "plt.show()\n",
    "\n",
    "# Testing each country and each year to determine if happiness is normally distributed through Shapiro test\n",
    "# Creating lists of countries and years\n",
    "cntrys = list(ess_c.cntry.unique())\n",
    "print('Shapiro Tests for Normality')\n",
    "for cnt in cntrys:\n",
    "    # Isolating data from each country\n",
    "    print(cnt, shapiro(ess_c[ess_c.cntry ==cnt].sclmeet.dropna()))\n",
    "    # Printing Shapiro test results\n",
    "    print()"
   ]
  },
  {
   "cell_type": "markdown",
   "metadata": {},
   "source": [
    "According to the Shapiro test, it stats that they are all likely to be normal distributions but the distributions all look slightly skewed besides the Czech Republic which looks almost like a normal distribution. \n",
    "\n",
    "I will have to use either use Mood's median test or the Kruskal-Wallis test, but I will use the latter since it does more than tell me whether data points are aboce or below the median."
   ]
  },
  {
   "cell_type": "code",
   "execution_count": 33,
   "metadata": {},
   "outputs": [
    {
     "name": "stdout",
     "output_type": "stream",
     "text": [
      "KruskalResult(statistic=199.91509305978323, pvalue=4.400563536291911e-43)\n"
     ]
    }
   ],
   "source": [
    "# Printing Kruskal test statistic\n",
    "print(kruskal(ess_c[ess_c.cntry == 'CZ'].sclmeet.dropna(),\n",
    "             ess_c[ess_c.cntry == 'ES'].sclmeet.dropna(),\n",
    "             ess_c[ess_c.cntry == 'NO'].sclmeet.dropna(),\n",
    "             ess_c[ess_c.cntry == 'SE'].sclmeet.dropna()))"
   ]
  },
  {
   "cell_type": "markdown",
   "metadata": {},
   "source": [
    "There is a statistical significance in the differences of the social meetings for the four countries I have picked. I will run t-tests for all the distributions to see which ones are different."
   ]
  },
  {
   "cell_type": "code",
   "execution_count": 34,
   "metadata": {},
   "outputs": [
    {
     "name": "stdout",
     "output_type": "stream",
     "text": [
      "CZ vs ES: Ttest_indResult(statistic=-11.400026538179093, pvalue=3.7676844407353374e-29)\n",
      "CZ vs NO: Ttest_indResult(statistic=-11.269186128577815, pvalue=3.0334022155191707e-28)\n",
      "CZ vs SE: Ttest_indResult(statistic=-13.471687937687198, pvalue=3.252593934148172e-39)\n",
      "ES vs NO: Ttest_indResult(statistic=-0.632916395870007, pvalue=0.5268628350318294)\n",
      "ES vs SE: Ttest_indResult(statistic=-2.649547268580078, pvalue=0.00811992279651295)\n",
      "NO vs SE: Ttest_indResult(statistic=-1.8305856428076237, pvalue=0.06734412432597783)\n"
     ]
    }
   ],
   "source": [
    "# Printing all combinations of t-tests\n",
    "print('CZ vs ES:', ttest_ind(ess_c[ess_c.cntry == 'CZ'].sclmeet.dropna(),\n",
    "             ess_c[ess_c.cntry == 'ES'].sclmeet.dropna()))\n",
    "print('CZ vs NO:', ttest_ind(ess_c[ess_c.cntry == 'CZ'].sclmeet.dropna(),\n",
    "             ess_c[ess_c.cntry == 'NO'].sclmeet.dropna()))\n",
    "print('CZ vs SE:', ttest_ind(ess_c[ess_c.cntry == 'CZ'].sclmeet.dropna(),\n",
    "             ess_c[ess_c.cntry == 'SE'].sclmeet.dropna()))\n",
    "print('ES vs NO:', ttest_ind(ess_c[ess_c.cntry == 'ES'].sclmeet.dropna(),\n",
    "             ess_c[ess_c.cntry == 'NO'].sclmeet.dropna()))\n",
    "print('ES vs SE:', ttest_ind(ess_c[ess_c.cntry == 'ES'].sclmeet.dropna(),\n",
    "             ess_c[ess_c.cntry == 'SE'].sclmeet.dropna()))\n",
    "print('NO vs SE:', ttest_ind(ess_c[ess_c.cntry == 'NO'].sclmeet.dropna(),\n",
    "             ess_c[ess_c.cntry == 'SE'].sclmeet.dropna()))"
   ]
  },
  {
   "cell_type": "markdown",
   "metadata": {},
   "source": [
    "According to the t-tests:\n",
    "\n",
    "- Spain and Norway are not significantly different,\n",
    "- Norway and Sweden are slightly different from one another but fails at the .05 threshold,\n",
    "- Czech Republic is significantly different from Spain, Norway, and Sweden,\n",
    "- Spain and Sweden are significantly different from one another.\n",
    "\n",
    "This means that Czech Republic is a standout country, with fewer social meetings with others than most other countries since the values for the statistics are all negative."
   ]
  },
  {
   "cell_type": "markdown",
   "metadata": {},
   "source": [
    "# Question 6. Pick three or four of the countries in the sample and compare how often people took part in social activities, relative to others their age, in 2014. Are there differences, and if so, which countries stand out?\n",
    "\n",
    "Since I will be choosing 3 or 4 countries, and knowing these countries are independent of one another, I will either be using a one-way or Kruskal-Wallis test, depending on the distribution of the data, so let's check it out.\n",
    "\n",
    "I will continue to use the same countries as in question 5."
   ]
  },
  {
   "cell_type": "code",
   "execution_count": 35,
   "metadata": {},
   "outputs": [
    {
     "name": "stdout",
     "output_type": "stream",
     "text": [
      "\t\t***Distribution of Social Activities from 2014 for Four European Countries***\n"
     ]
    },
    {
     "data": {
      "image/png": "[encoded data removed]",
      "text/plain": [
       "<matplotlib.figure.Figure at 0x1a12e85710>"
      ]
     },
     "metadata": {},
     "output_type": "display_data"
    },
    {
     "name": "stdout",
     "output_type": "stream",
     "text": [
      "Shapiro Tests for Normality\n",
      "CZ (0.8517600893974304, 3.2631608025549396e-24)\n",
      "\n",
      "ES (0.892457902431488, 5.746904176126056e-28)\n",
      "\n",
      "NO (0.8678725957870483, 2.398206966061988e-24)\n",
      "\n",
      "SE (0.8822488784790039, 1.283228571387991e-25)\n",
      "\n"
     ]
    }
   ],
   "source": [
    "# Plotting histograms of happiness for each country for each year\n",
    "g = sns.FacetGrid(ess_c, col='cntry', dropna=True, sharey=False)\n",
    "g = g.map(plt.hist, 'sclact', alpha=0.8, color='teal', bins=5)\n",
    "# Adding a title\n",
    "print('\\t\\t***Distribution of Social Activities from 2014 for Four European Countries***')\n",
    "plt.show()\n",
    "\n",
    "# Testing each country and each year to determine if happiness is normally distributed through Shapiro test\n",
    "# Creating lists of countries and years\n",
    "cntrys = list(ess_c.cntry.unique())\n",
    "print('Shapiro Tests for Normality')\n",
    "for cnt in cntrys:\n",
    "    # Printing Shapiro test results\n",
    "    print(cnt, shapiro(ess_c[ess_c.cntry ==cnt].sclact.dropna()))\n",
    "    print()"
   ]
  },
  {
   "cell_type": "markdown",
   "metadata": {},
   "source": [
    "According to the Shapiro test, all of these distributions look fairly normal and they do, but they aren't perfectly normal, so I will non parametric test once again, the Kruskal-Wallis test to be exact. "
   ]
  },
  {
   "cell_type": "code",
   "execution_count": 36,
   "metadata": {},
   "outputs": [
    {
     "name": "stdout",
     "output_type": "stream",
     "text": [
      "KruskalResult(statistic=53.809701709377876, pvalue=1.2319673584021775e-11)\n"
     ]
    }
   ],
   "source": [
    "# Printing Kruskal test statistic\n",
    "print(kruskal(ess_c[ess_c.cntry == 'CZ'].sclact.dropna(),\n",
    "             ess_c[ess_c.cntry == 'ES'].sclact.dropna(),\n",
    "             ess_c[ess_c.cntry == 'NO'].sclact.dropna(),\n",
    "             ess_c[ess_c.cntry == 'SE'].sclact.dropna()))"
   ]
  },
  {
   "cell_type": "markdown",
   "metadata": {},
   "source": [
    "\n",
    "Based on the Kruskal test, I know that the distributions of social activities are statistically different from one another. To determine which are different, I need to run t-tests for all distributions against each other."
   ]
  },
  {
   "cell_type": "code",
   "execution_count": 37,
   "metadata": {},
   "outputs": [
    {
     "name": "stdout",
     "output_type": "stream",
     "text": [
      "CZ vs ES: Ttest_indResult(statistic=1.9231457887987455, pvalue=0.05461649785517343)\n",
      "CZ vs NO: Ttest_indResult(statistic=-3.44673561169421, pvalue=0.0005844634540645623)\n",
      "CZ vs SE: Ttest_indResult(statistic=-4.0018841917465595, pvalue=6.580214302799725e-05)\n",
      "ES vs NO: Ttest_indResult(statistic=-5.671149129663532, pvalue=1.6345881270312057e-08)\n",
      "ES vs SE: Ttest_indResult(statistic=-6.500257345866597, pvalue=1.000080729987386e-10)\n",
      "NO vs SE: Ttest_indResult(statistic=-0.4823216270234106, pvalue=0.6296421272017451)\n"
     ]
    }
   ],
   "source": [
    "# Printing all combinations of t-tests\n",
    "print('CZ vs ES:', ttest_ind(ess_c[ess_c.cntry == 'CZ'].sclact.dropna(),\n",
    "             ess_c[ess_c.cntry == 'ES'].sclact.dropna()))\n",
    "print('CZ vs NO:', ttest_ind(ess_c[ess_c.cntry == 'CZ'].sclact.dropna(),\n",
    "             ess_c[ess_c.cntry == 'NO'].sclact.dropna()))\n",
    "print('CZ vs SE:', ttest_ind(ess_c[ess_c.cntry == 'CZ'].sclact.dropna(),\n",
    "             ess_c[ess_c.cntry == 'SE'].sclact.dropna()))\n",
    "print('ES vs NO:', ttest_ind(ess_c[ess_c.cntry == 'ES'].sclact.dropna(),\n",
    "             ess_c[ess_c.cntry == 'NO'].sclact.dropna()))\n",
    "print('ES vs SE:', ttest_ind(ess_c[ess_c.cntry == 'ES'].sclact.dropna(),\n",
    "             ess_c[ess_c.cntry == 'SE'].sclact.dropna()))\n",
    "print('NO vs SE:', ttest_ind(ess_c[ess_c.cntry == 'NO'].sclact.dropna(),\n",
    "             ess_c[ess_c.cntry == 'SE'].sclact.dropna()))"
   ]
  },
  {
   "cell_type": "markdown",
   "metadata": {},
   "source": [
    "\n",
    "According to the t-tests:\n",
    "\n",
    "- Norway and Sweden are not significantly different,\n",
    "- Czech Republic and Spain are slightly different from one another,\n",
    "- Czech Republic is significantly different from Sweden and Norway,\n",
    "- Spain is significantly different from Sweden, and Norway.\n",
    "\n",
    "This means that Czech Republic and Spain are the standouts as for social activities, with both having fewer social activities than most."
   ]
  },
  {
   "cell_type": "code",
   "execution_count": null,
   "metadata": {},
   "outputs": [],
   "source": []
  }
 ],
 "metadata": {
  "kernelspec": {
   "display_name": "Python 3",
   "language": "python",
   "name": "python3"
  },
  "language_info": {
   "codemirror_mode": {
    "name": "ipython",
    "version": 3
   },
   "file_extension": ".py",
   "mimetype": "text/x-python",
   "name": "python",
   "nbconvert_exporter": "python",
   "pygments_lexer": "ipython3",
   "version": "3.6.4"
  }
 },
 "nbformat": 4,
 "nbformat_minor": 2
}
